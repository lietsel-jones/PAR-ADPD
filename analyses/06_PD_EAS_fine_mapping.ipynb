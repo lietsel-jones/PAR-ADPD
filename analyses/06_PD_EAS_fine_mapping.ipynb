{
 "cells": [
  {
   "cell_type": "markdown",
   "id": "d06ae258-1026-4e09-aed2-3ed1cf9c9258",
   "metadata": {},
   "source": [
    "# Fine-mapping of PD-related risk loci in East Asian summary statistics\n",
    "* Project: Cross-ancestry PAR\n",
    "* Version: R/4.4\n",
    "* Status: Complete\n",
    "* Last Updated: 13-FEB-2025"
   ]
  },
  {
   "cell_type": "markdown",
   "id": "e46ef932-c539-44bd-83bf-4f9cec2c77e6",
   "metadata": {},
   "source": [
    "## Notebook overview\n",
    "* Extract chromosome and base pair positions from summary statistics for selected loci\n",
    "* Perform fine-mapping and save results"
   ]
  },
  {
   "cell_type": "code",
   "execution_count": 1,
   "id": "a1e57727-805b-425a-bfa0-f0f220bb44c4",
   "metadata": {
    "vscode": {
     "languageId": "r"
    }
   },
   "outputs": [
    {
     "name": "stderr",
     "output_type": "stream",
     "text": [
      "Skipping install of 'coloc' from a github remote, the SHA1 (fd1c0351) has not changed since last install.\n",
      "  Use `force = TRUE` to force installation\n",
      "\n",
      "This is coloc version 5.2.3\n",
      "\n",
      "── \u001b[1mAttaching core tidyverse packages\u001b[22m ────────────────────────────────────── tidyverse 2.0.0 ──\n",
      "\u001b[32m✔\u001b[39m \u001b[34mdplyr    \u001b[39m 1.1.4     \u001b[32m✔\u001b[39m \u001b[34mreadr    \u001b[39m 2.1.5\n",
      "\u001b[32m✔\u001b[39m \u001b[34mforcats  \u001b[39m 1.0.0     \u001b[32m✔\u001b[39m \u001b[34mstringr  \u001b[39m 1.5.1\n",
      "\u001b[32m✔\u001b[39m \u001b[34mlubridate\u001b[39m 1.9.4     \u001b[32m✔\u001b[39m \u001b[34mtibble   \u001b[39m 3.2.1\n",
      "\u001b[32m✔\u001b[39m \u001b[34mpurrr    \u001b[39m 1.0.2     \n",
      "── \u001b[1mConflicts\u001b[22m ──────────────────────────────────────────────────────── tidyverse_conflicts() ──\n",
      "\u001b[31m✖\u001b[39m \u001b[34mdplyr\u001b[39m::\u001b[32mbetween()\u001b[39m     masks \u001b[34mdata.table\u001b[39m::between()\n",
      "\u001b[31m✖\u001b[39m \u001b[34mdplyr\u001b[39m::\u001b[32mfilter()\u001b[39m      masks \u001b[34mstats\u001b[39m::filter()\n",
      "\u001b[31m✖\u001b[39m \u001b[34mdplyr\u001b[39m::\u001b[32mfirst()\u001b[39m       masks \u001b[34mdata.table\u001b[39m::first()\n",
      "\u001b[31m✖\u001b[39m \u001b[34mlubridate\u001b[39m::\u001b[32mhour()\u001b[39m    masks \u001b[34mdata.table\u001b[39m::hour()\n",
      "\u001b[31m✖\u001b[39m \u001b[34mlubridate\u001b[39m::\u001b[32misoweek()\u001b[39m masks \u001b[34mdata.table\u001b[39m::isoweek()\n",
      "\u001b[31m✖\u001b[39m \u001b[34mdplyr\u001b[39m::\u001b[32mlag()\u001b[39m         masks \u001b[34mstats\u001b[39m::lag()\n",
      "\u001b[31m✖\u001b[39m \u001b[34mdplyr\u001b[39m::\u001b[32mlast()\u001b[39m        masks \u001b[34mdata.table\u001b[39m::last()\n",
      "\u001b[31m✖\u001b[39m \u001b[34mlubridate\u001b[39m::\u001b[32mmday()\u001b[39m    masks \u001b[34mdata.table\u001b[39m::mday()\n",
      "\u001b[31m✖\u001b[39m \u001b[34mlubridate\u001b[39m::\u001b[32mminute()\u001b[39m  masks \u001b[34mdata.table\u001b[39m::minute()\n",
      "\u001b[31m✖\u001b[39m \u001b[34mlubridate\u001b[39m::\u001b[32mmonth()\u001b[39m   masks \u001b[34mdata.table\u001b[39m::month()\n",
      "\u001b[31m✖\u001b[39m \u001b[34mlubridate\u001b[39m::\u001b[32mquarter()\u001b[39m masks \u001b[34mdata.table\u001b[39m::quarter()\n",
      "\u001b[31m✖\u001b[39m \u001b[34mlubridate\u001b[39m::\u001b[32msecond()\u001b[39m  masks \u001b[34mdata.table\u001b[39m::second()\n",
      "\u001b[31m✖\u001b[39m \u001b[34mpurrr\u001b[39m::\u001b[32mtranspose()\u001b[39m   masks \u001b[34mdata.table\u001b[39m::transpose()\n",
      "\u001b[31m✖\u001b[39m \u001b[34mlubridate\u001b[39m::\u001b[32mwday()\u001b[39m    masks \u001b[34mdata.table\u001b[39m::wday()\n",
      "\u001b[31m✖\u001b[39m \u001b[34mlubridate\u001b[39m::\u001b[32mweek()\u001b[39m    masks \u001b[34mdata.table\u001b[39m::week()\n",
      "\u001b[31m✖\u001b[39m \u001b[34mlubridate\u001b[39m::\u001b[32myday()\u001b[39m    masks \u001b[34mdata.table\u001b[39m::yday()\n",
      "\u001b[31m✖\u001b[39m \u001b[34mlubridate\u001b[39m::\u001b[32myear()\u001b[39m    masks \u001b[34mdata.table\u001b[39m::year()\n",
      "\u001b[36mℹ\u001b[39m Use the conflicted package (\u001b[3m\u001b[34m<http://conflicted.r-lib.org/>\u001b[39m\u001b[23m) to force all conflicts to become errors\n"
     ]
    }
   ],
   "source": [
    "library(\"data.table\")\n",
    "#if (!requireNamespace(\"BiocManager\", quietly = TRUE))\n",
    "#    install.packages(\"BiocManager\")\n",
    "#BiocManager::install(\"snpStats\")\n",
    "library(\"robustbase\")\n",
    "library(ggplot2)\n",
    "library(tidyr)\n",
    "devtools::install_github(\"chr1swallace/coloc\")\n",
    "library(\"coloc\")\n",
    "library(\"tidyverse\")\n",
    "library(\"readr\")"
   ]
  },
  {
   "cell_type": "code",
   "execution_count": 2,
   "id": "9367cd7f-25b1-49bb-a37d-7475a809e6be",
   "metadata": {
    "vscode": {
     "languageId": "r"
    }
   },
   "outputs": [
    {
     "data": {
      "text/html": [
       "<table class=\"dataframe\">\n",
       "<caption>A data.table: 6 × 14</caption>\n",
       "<thead>\n",
       "\t<tr><th scope=col>MARKERNAME</th><th scope=col>CHROMOSOME</th><th scope=col>POSITION</th><th scope=col>EA</th><th scope=col>NEA</th><th scope=col>EAF</th><th scope=col>BETA</th><th scope=col>SE</th><th scope=col>OR</th><th scope=col>OR_95U</th><th scope=col>OR_95L</th><th scope=col>N</th><th scope=col>NMISS</th><th scope=col>P</th></tr>\n",
       "\t<tr><th scope=col>&lt;chr&gt;</th><th scope=col>&lt;int&gt;</th><th scope=col>&lt;int&gt;</th><th scope=col>&lt;chr&gt;</th><th scope=col>&lt;chr&gt;</th><th scope=col>&lt;dbl&gt;</th><th scope=col>&lt;dbl&gt;</th><th scope=col>&lt;dbl&gt;</th><th scope=col>&lt;dbl&gt;</th><th scope=col>&lt;dbl&gt;</th><th scope=col>&lt;dbl&gt;</th><th scope=col>&lt;int&gt;</th><th scope=col>&lt;dbl&gt;</th><th scope=col>&lt;dbl&gt;</th></tr>\n",
       "</thead>\n",
       "<tbody>\n",
       "\t<tr><td>chr1:794332</td><td>1</td><td>794332</td><td>A</td><td>G</td><td>0.1394230</td><td> 0.0013</td><td>0.03355957</td><td>1.0013008</td><td>1.069378</td><td>0.9375579</td><td>31575</td><td>21168.41</td><td>0.9691</td></tr>\n",
       "\t<tr><td>chr1:832359</td><td>1</td><td>832359</td><td>T</td><td>C</td><td>0.0312500</td><td>-0.0932</td><td>0.07060045</td><td>0.9110113</td><td>1.046213</td><td>0.7932817</td><td>31575</td><td>21168.41</td><td>0.1868</td></tr>\n",
       "\t<tr><td>chr1:834056</td><td>1</td><td>834056</td><td>C</td><td>A</td><td>0.0288462</td><td>-0.0766</td><td>0.07745787</td><td>0.9262603</td><td>1.078119</td><td>0.7957920</td><td>31575</td><td>21168.41</td><td>0.3227</td></tr>\n",
       "\t<tr><td>chr1:834263</td><td>1</td><td>834263</td><td>T</td><td>C</td><td>0.0288462</td><td>-0.0846</td><td>0.07917723</td><td>0.9188798</td><td>1.073138</td><td>0.7867951</td><td>31575</td><td>21168.41</td><td>0.2853</td></tr>\n",
       "\t<tr><td>chr1:834956</td><td>1</td><td>834956</td><td>A</td><td>G</td><td>0.0264423</td><td>-0.0704</td><td>0.07786061</td><td>0.9320209</td><td>1.085680</td><td>0.8001094</td><td>31575</td><td>21168.41</td><td>0.3659</td></tr>\n",
       "\t<tr><td>chr1:838665</td><td>1</td><td>838665</td><td>C</td><td>T</td><td>0.0288462</td><td>-0.0785</td><td>0.07129932</td><td>0.9245021</td><td>1.063161</td><td>0.8039271</td><td>31575</td><td>21168.41</td><td>0.2709</td></tr>\n",
       "</tbody>\n",
       "</table>\n"
      ],
      "text/latex": [
       "A data.table: 6 × 14\n",
       "\\begin{tabular}{llllllllllllll}\n",
       " MARKERNAME & CHROMOSOME & POSITION & EA & NEA & EAF & BETA & SE & OR & OR\\_95U & OR\\_95L & N & NMISS & P\\\\\n",
       " <chr> & <int> & <int> & <chr> & <chr> & <dbl> & <dbl> & <dbl> & <dbl> & <dbl> & <dbl> & <int> & <dbl> & <dbl>\\\\\n",
       "\\hline\n",
       "\t chr1:794332 & 1 & 794332 & A & G & 0.1394230 &  0.0013 & 0.03355957 & 1.0013008 & 1.069378 & 0.9375579 & 31575 & 21168.41 & 0.9691\\\\\n",
       "\t chr1:832359 & 1 & 832359 & T & C & 0.0312500 & -0.0932 & 0.07060045 & 0.9110113 & 1.046213 & 0.7932817 & 31575 & 21168.41 & 0.1868\\\\\n",
       "\t chr1:834056 & 1 & 834056 & C & A & 0.0288462 & -0.0766 & 0.07745787 & 0.9262603 & 1.078119 & 0.7957920 & 31575 & 21168.41 & 0.3227\\\\\n",
       "\t chr1:834263 & 1 & 834263 & T & C & 0.0288462 & -0.0846 & 0.07917723 & 0.9188798 & 1.073138 & 0.7867951 & 31575 & 21168.41 & 0.2853\\\\\n",
       "\t chr1:834956 & 1 & 834956 & A & G & 0.0264423 & -0.0704 & 0.07786061 & 0.9320209 & 1.085680 & 0.8001094 & 31575 & 21168.41 & 0.3659\\\\\n",
       "\t chr1:838665 & 1 & 838665 & C & T & 0.0288462 & -0.0785 & 0.07129932 & 0.9245021 & 1.063161 & 0.8039271 & 31575 & 21168.41 & 0.2709\\\\\n",
       "\\end{tabular}\n"
      ],
      "text/markdown": [
       "\n",
       "A data.table: 6 × 14\n",
       "\n",
       "| MARKERNAME &lt;chr&gt; | CHROMOSOME &lt;int&gt; | POSITION &lt;int&gt; | EA &lt;chr&gt; | NEA &lt;chr&gt; | EAF &lt;dbl&gt; | BETA &lt;dbl&gt; | SE &lt;dbl&gt; | OR &lt;dbl&gt; | OR_95U &lt;dbl&gt; | OR_95L &lt;dbl&gt; | N &lt;int&gt; | NMISS &lt;dbl&gt; | P &lt;dbl&gt; |\n",
       "|---|---|---|---|---|---|---|---|---|---|---|---|---|---|\n",
       "| chr1:794332 | 1 | 794332 | A | G | 0.1394230 |  0.0013 | 0.03355957 | 1.0013008 | 1.069378 | 0.9375579 | 31575 | 21168.41 | 0.9691 |\n",
       "| chr1:832359 | 1 | 832359 | T | C | 0.0312500 | -0.0932 | 0.07060045 | 0.9110113 | 1.046213 | 0.7932817 | 31575 | 21168.41 | 0.1868 |\n",
       "| chr1:834056 | 1 | 834056 | C | A | 0.0288462 | -0.0766 | 0.07745787 | 0.9262603 | 1.078119 | 0.7957920 | 31575 | 21168.41 | 0.3227 |\n",
       "| chr1:834263 | 1 | 834263 | T | C | 0.0288462 | -0.0846 | 0.07917723 | 0.9188798 | 1.073138 | 0.7867951 | 31575 | 21168.41 | 0.2853 |\n",
       "| chr1:834956 | 1 | 834956 | A | G | 0.0264423 | -0.0704 | 0.07786061 | 0.9320209 | 1.085680 | 0.8001094 | 31575 | 21168.41 | 0.3659 |\n",
       "| chr1:838665 | 1 | 838665 | C | T | 0.0288462 | -0.0785 | 0.07129932 | 0.9245021 | 1.063161 | 0.8039271 | 31575 | 21168.41 | 0.2709 |\n",
       "\n"
      ],
      "text/plain": [
       "  MARKERNAME  CHROMOSOME POSITION EA NEA EAF       BETA    SE         OR       \n",
       "1 chr1:794332 1          794332   A  G   0.1394230  0.0013 0.03355957 1.0013008\n",
       "2 chr1:832359 1          832359   T  C   0.0312500 -0.0932 0.07060045 0.9110113\n",
       "3 chr1:834056 1          834056   C  A   0.0288462 -0.0766 0.07745787 0.9262603\n",
       "4 chr1:834263 1          834263   T  C   0.0288462 -0.0846 0.07917723 0.9188798\n",
       "5 chr1:834956 1          834956   A  G   0.0264423 -0.0704 0.07786061 0.9320209\n",
       "6 chr1:838665 1          838665   C  T   0.0288462 -0.0785 0.07129932 0.9245021\n",
       "  OR_95U   OR_95L    N     NMISS    P     \n",
       "1 1.069378 0.9375579 31575 21168.41 0.9691\n",
       "2 1.046213 0.7932817 31575 21168.41 0.1868\n",
       "3 1.078119 0.7957920 31575 21168.41 0.3227\n",
       "4 1.073138 0.7867951 31575 21168.41 0.2853\n",
       "5 1.085680 0.8001094 31575 21168.41 0.3659\n",
       "6 1.063161 0.8039271 31575 21168.41 0.2709"
      ]
     },
     "metadata": {},
     "output_type": "display_data"
    }
   ],
   "source": [
    "## Read dataframe\n",
    "df0 <- fread(\"{WORK_DIR}/Sumstat/per-cohort/EAS.final.txt\", header =T)\n",
    "head(df0)"
   ]
  },
  {
   "cell_type": "code",
   "execution_count": 3,
   "id": "95011cb1-a929-4de3-8621-b0370b7cefb9",
   "metadata": {
    "vscode": {
     "languageId": "r"
    }
   },
   "outputs": [],
   "source": [
    "df0$MarkerName <- df0$MARKERNAME\n",
    "df0$StdErr <- df0$SE\n",
    "df0$Effect <- df0$BETA\n",
    "df0$`P-value` <- df0$P\n",
    "df0$CHR <- df0$CHROMOSOME\n",
    "df0$BP <- df0$POSITION"
   ]
  },
  {
   "cell_type": "code",
   "execution_count": 66,
   "id": "5044916f-2541-4e85-af83-3496271f3afb",
   "metadata": {
    "vscode": {
     "languageId": "r"
    }
   },
   "outputs": [],
   "source": [
    "df0 <- na.omit(df0)"
   ]
  },
  {
   "cell_type": "code",
   "execution_count": 76,
   "id": "9a3faf1d-2cea-418f-bb5d-0f948218a512",
   "metadata": {
    "vscode": {
     "languageId": "r"
    }
   },
   "outputs": [
    {
     "name": "stdout",
     "output_type": "stream",
     "text": [
      "Classes ‘data.table’ and 'data.frame':\t5628895 obs. of  20 variables:\n",
      " $ MARKERNAME: chr  \"chr1:794332\" \"chr1:832359\" \"chr1:834056\" \"chr1:834263\" ...\n",
      " $ CHROMOSOME: int  1 1 1 1 1 1 1 1 1 1 ...\n",
      " $ POSITION  : int  794332 832359 834056 834263 834956 838665 838732 838890 838916 839461 ...\n",
      " $ EA        : chr  \"A\" \"T\" \"C\" \"T\" ...\n",
      " $ NEA       : chr  \"G\" \"C\" \"A\" \"C\" ...\n",
      " $ EAF       : num  0.1394 0.0312 0.0288 0.0288 0.0264 ...\n",
      " $ BETA      : num  0.0013 -0.0932 -0.0766 -0.0846 -0.0704 ...\n",
      " $ SE        : num  0.0336 0.0706 0.0775 0.0792 0.0779 ...\n",
      " $ OR        : num  1.001 0.911 0.926 0.919 0.932 ...\n",
      " $ OR_95U    : num  1.07 1.05 1.08 1.07 1.09 ...\n",
      " $ OR_95L    : num  0.938 0.793 0.796 0.787 0.8 ...\n",
      " $ N         : int  31575 31575 31575 31575 31575 31575 31575 31575 31575 31575 ...\n",
      " $ NMISS     : num  21168 21168 21168 21168 21168 ...\n",
      " $ P         : num  0.969 0.187 0.323 0.285 0.366 ...\n",
      " $ MarkerName: chr  \"chr1:794332\" \"chr1:832359\" \"chr1:834056\" \"chr1:834263\" ...\n",
      " $ StdErr    : num  0.0336 0.0706 0.0775 0.0792 0.0779 ...\n",
      " $ Effect    : num  0.0013 -0.0932 -0.0766 -0.0846 -0.0704 ...\n",
      " $ P-value   : num  0.969 0.187 0.323 0.285 0.366 ...\n",
      " $ CHR       : int  1 1 1 1 1 1 1 1 1 1 ...\n",
      " $ BP        : int  794332 832359 834056 834263 834956 838665 838732 838890 838916 839461 ...\n",
      " - attr(*, \".internal.selfref\")=<externalptr> \n"
     ]
    }
   ],
   "source": [
    "str(df0)"
   ]
  },
  {
   "cell_type": "code",
   "execution_count": 78,
   "id": "a5866442-d84e-4019-a329-9bc88a2a3807",
   "metadata": {
    "vscode": {
     "languageId": "r"
    }
   },
   "outputs": [],
   "source": [
    "## EXTRACT CHRS\n",
    "# Chromosome 1: 155,210,185 -> 155,110,185 - 155,310,185\n",
    "GBA1_sumstats = subset(df0, CHR==1 & BP > 155110185 & BP< 155310185)\n",
    "# Chromosome 6: 112,151,452 -> 112,051,452 - 112,251,452\n",
    "FYN_sumstats = subset(df0, CHR==6 & BP > 111660332 & BP< 111873452)\n",
    "# Chromosome 12: 40,387,749 -> 40,287,749 - 40,487,749\n",
    "LRRK2_sumstats = subset(df0, CHR==12 & BP > 40287749 & BP< 40487749)\n",
    "# Chromosome 4: 90,682,474 -> 90,582,474 - 90,782,474\n",
    "SNCA_sumstats = subset(df0, CHR==4 & BP > 90582474 & BP< 90782474)\n",
    "# Chromosome 5: 75,599,208 -> 75,499,208 - 75,699,208\n",
    "SV2C_sumstats = subset(df0, CHR==5 & BP > 75847464 & BP<76353939)\n",
    "# Chromosome 7: 70,750,493 -> 70,650,493 - 70,850,493\n",
    "WBSCR17_sumstats = subset(df0, CHR==7 & BP > 70650493 & BP<70850493)\n",
    "# Chromosome 3: 182,735,211 -> 182,635,211 - 182,835,211\n",
    "MCCC1_sumstats = subset(df0, CHR==3 & BP > 182635211 & BP < 182835211)\n",
    "# Chromosome 1: 226,846,712 -> 226,746,712 - 226,946,712\n",
    "ITPKB_sumstats = subset(df0, CHR==1 & BP > 226746712 & BP < 226946712)\n",
    "# Chromosome 4: 77,101,068 -> 77,001,068 - 77,201,068\n",
    "FAM47E_sumstats = subset(df0, CHR==4 & BP > 77001068 & BP < 77201068)\n",
    "# Chromosome 11: 83,510,117 -> 83,410,117 - 83,610,117\n",
    "DLG2_sumstats = subset(df0, CHR==11 & BP > 83410117 & BP < 83610117)\n",
    "# Chromosome 18: 40,678,235 -> 40,578,235 - 40,778,235\n",
    "RIT2_sumstats = subset(df0, CHR==18 & BP > 40578235 & BP < 40778235)"
   ]
  },
  {
   "cell_type": "code",
   "execution_count": 79,
   "id": "8fa1bc5d-7487-49e6-b081-f337e8379ccd",
   "metadata": {
    "vscode": {
     "languageId": "r"
    }
   },
   "outputs": [],
   "source": [
    "## Run for genes\n",
    "genes <- c(\"GBA1\",\"FYN\",\"LRRK2\",\"SNCA\",\"SV2C\",\"WBSCR17\",\"MCCC1\",\"ITPKB\",\"FAM47E\",\"DLG2\",\"RIT2\")"
   ]
  },
  {
   "cell_type": "code",
   "execution_count": 80,
   "id": "98fdf7ca-8a8b-47ee-a644-2782ed9395b3",
   "metadata": {
    "vscode": {
     "languageId": "r"
    }
   },
   "outputs": [],
   "source": [
    "for (gene in genes) {\n",
    "    # Assume gene_sumstats is a data frame with summary statistics for each gene\n",
    "    gene_sumstats <- get(paste0(gene, \"_sumstats\"))  # Get the data frame for the current gene\n",
    "    if (is.data.frame(gene_sumstats)) {\n",
    "        write_tsv(gene_sumstats, paste0(\"{WORK_DIR}/PAR/\", \"/\", gene, \"_variants_eas.tab\"))\n",
    "    } else {\n",
    "        warning(paste(\"No data frame found for\", gene))\n",
    "    }\n",
    "}"
   ]
  },
  {
   "cell_type": "code",
   "execution_count": 81,
   "id": "43aac15f-fb9c-46f3-a1fb-e3527648f3d2",
   "metadata": {
    "vscode": {
     "languageId": "r"
    }
   },
   "outputs": [],
   "source": [
    "## Run for genes\n",
    "genes <- c(\"GBA1\",\"FYN\",\"LRRK2\",\"SNCA\",\"SV2C\",\"WBSCR17\",\"MCCC1\",\"ITPKB\",\"FAM47E\",\"DLG2\",\"RIT2\")"
   ]
  },
  {
   "cell_type": "code",
   "execution_count": 82,
   "id": "ddeadd5b-97c5-4858-96d8-1020b3c1f63b",
   "metadata": {
    "vscode": {
     "languageId": "r"
    }
   },
   "outputs": [],
   "source": [
    "for (gene in genes) {\n",
    "    input_file <- paste0(\"{WORK_DIR}/PAR/\", gene, \"_variants_eas.tab\")\n",
    "    output_file <- paste0(\"{WORK_DIR}/PAR/\", gene, \"_Foo_2020.csv\")\n",
    "    \n",
    "    # Read in the dataset\n",
    "    dataset1 <- fread(input_file, header = TRUE, sep = \"\\t\")\n",
    "    \n",
    "    # Remove duplicated rows based on the 'MarkerName' column\n",
    "    dataset1 <- dataset1[!duplicated(dataset1$MarkerName), ]\n",
    "    \n",
    "    # Add a new column 'StdErr_squared' by squaring 'StdErr'\n",
    "    dataset_final <- dataset1 %>% mutate(StdErr_squared = StdErr^2)\n",
    "    \n",
    "    # Select the required columns and rename them\n",
    "    output <- dataset_final[, c(\"MarkerName\", \"Effect\", \"P-value\", \"StdErr_squared\")]\n",
    "    colnames(output) <- c(\"SNP\", \"beta\", \"P\", \"varbeta\")\n",
    "\n",
    "    # Remove rows where beta is 0\n",
    "    output <- output[output$beta != 0, ]\n",
    "    \n",
    "    # Write the output to a CSV file\n",
    "    fwrite(output, file = output_file, na = \"NA\", quote = FALSE, row.names = FALSE, sep = \"\\t\")\n",
    "}"
   ]
  },
  {
   "cell_type": "code",
   "execution_count": 83,
   "id": "694aa4da-85ff-4fb9-bf1d-0e2670493f31",
   "metadata": {
    "vscode": {
     "languageId": "r"
    }
   },
   "outputs": [],
   "source": [
    "## Run for genes\n",
    "genes <- c(\"GBA1\",\"FYN\",\"LRRK2\",\"SNCA\",\"SV2C\",\"WBSCR17\",\"MCCC1\",\"ITPKB\",\"FAM47E\",\"DLG2\",\"RIT2\")"
   ]
  },
  {
   "cell_type": "code",
   "execution_count": 84,
   "id": "fe4d20d6-08e7-40d1-8c5e-ff7b6e38d0a5",
   "metadata": {
    "vscode": {
     "languageId": "r"
    }
   },
   "outputs": [
    {
     "name": "stderr",
     "output_type": "stream",
     "text": [
      "Warning message in check_dataset(dataset, \"\"):\n",
      "“minimum p value is: 1.546e-06\n",
      "If this is what you expected, this is not a problem.\n",
      "If this is not as small as you expected, please check you supplied var(beta) and not sd(beta) for the varbeta argument. If that's not the explanation, please check the 02_data vignette.”\n",
      "Warning message in check_dataset(dataset, \"\"):\n",
      "“minimum p value is: 0.007145\n",
      "If this is what you expected, this is not a problem.\n",
      "If this is not as small as you expected, please check you supplied var(beta) and not sd(beta) for the varbeta argument. If that's not the explanation, please check the 02_data vignette.”\n",
      "Warning message in check_dataset(dataset, \"\"):\n",
      "“minimum p value is: 0.004287\n",
      "If this is what you expected, this is not a problem.\n",
      "If this is not as small as you expected, please check you supplied var(beta) and not sd(beta) for the varbeta argument. If that's not the explanation, please check the 02_data vignette.”\n"
     ]
    }
   ],
   "source": [
    "for (gene in genes) {\n",
    "    input_file <- paste0(\"{WORK_DIR}/PAR/\", gene, \"_Foo_2020.csv\")\n",
    "    output <- fread(input_file, header = TRUE, sep = \"\\t\")\n",
    "    \n",
    "    # Check if output has 0 rows\n",
    "    if (nrow(output) == 0) {\n",
    "        cat(\"No rows in output for gene: \", gene, \". Skipping...\\n\")\n",
    "        next  # Skip to the next gene in the loop\n",
    "    }\n",
    "    \n",
    "    SNP <- output$SNP\n",
    "    beta <- output$beta\n",
    "    varbeta <- output$varbeta\n",
    "    N <- 31575  # 6724 PD cases vs 31575 total (6724 cases, 24851 controls - Foo et al 2020)\n",
    "    s <- 0.213\n",
    "    type <- 'cc'\n",
    "    \n",
    "    # Create dataset for fine-mapping\n",
    "    dataset <- list(\n",
    "        snp = SNP, \n",
    "        beta = beta, \n",
    "        varbeta = varbeta, \n",
    "        N = N, \n",
    "        s = s, \n",
    "        type = type)\n",
    "        \n",
    "    # Ensure dataset variables are numeric\n",
    "    dataset$snp <- unlist(dataset$snp)\n",
    "    dataset$beta <- unlist(dataset$beta)\n",
    "    dataset$varbeta <- unlist(dataset$varbeta)\n",
    "    \n",
    "    # Assuming finemap.abf() works with a list, otherwise convert to a data.frame\n",
    "    results <- finemap.abf(\n",
    "        dataset = dataset,\n",
    "        p1 = 1e-04  # Optional parameter for p-value threshold (can adjust based on your data)\n",
    "    )\n",
    "        \n",
    "    # Check if results has 0 rows\n",
    "    if (nrow(results) == 0) {\n",
    "        cat(\"No results returned for gene: \", gene, \". Skipping...\\n\")\n",
    "        next  # Skip to the next gene in the loop\n",
    "    }\n",
    "    \n",
    "    # Combine the results with the original output\n",
    "    combo <- cbind(results[1:(nrow(results) - 1),], output)\n",
    "    \n",
    "    # Subset results where SNP.PP > 0.2\n",
    "    hits <- subset(combo, SNP.PP > 0.2)\n",
    "    \n",
    "    # Save the results to a CSV file\n",
    "    final_output_file <- paste0(\"{WORK_DIR}/PAR/\", gene, \"_results_fine_map_Foo.csv\")\n",
    "    fwrite(combo, file = final_output_file, na = \"NA\", quote = F, row.names = F, sep = \",\")\n",
    "    }"
   ]
  },
  {
   "cell_type": "code",
   "execution_count": 85,
   "id": "ca685dbe-b88a-48e7-b170-016eb6f1294d",
   "metadata": {
    "vscode": {
     "languageId": "r"
    }
   },
   "outputs": [
    {
     "name": "stdout",
     "output_type": "stream",
     "text": [
      "            V.        z.        r.     lABF.            snp prior       SNP.PP\n",
      "1 0.0005231275 -5.626972 0.9870906 13.452134 chr11:83510117 1e-04 0.1628960866\n",
      "2 0.0005692900 -5.658053 0.9859675 13.648977  chr4:77101068 1e-04 0.2575197109\n",
      "3 0.0005159110 -2.690009 0.9872665  1.390247 chr6:111871349 1e-04 0.0004015336\n",
      "4 0.0042537873  4.805196 0.9038774  9.264158 chr1:155205203 1e-04 0.3488126265\n",
      "5 0.0019876177  6.141395 0.9526618 16.440425 chr1:226885608 1e-04 0.0544968760\n",
      "6 0.0030640578 -8.125891 0.9288488 29.344516 chr12:40458384 1e-04 0.5307933273\n",
      "             SNP    beta         P      varbeta   gene\n",
      "1 chr11:83510117 -0.1287 1.830e-08 0.0005231275   DLG2\n",
      "2  chr4:77101068 -0.1350 1.530e-08 0.0005692900 FAM47E\n",
      "3 chr6:111871349 -0.0611 7.145e-03 0.0005159110    FYN\n",
      "4 chr1:155205203  0.3134 1.550e-06 0.0042537873   GBA1\n",
      "5 chr1:226885608  0.2738 8.180e-10 0.0019876177  ITPKB\n",
      "6 chr12:40458384 -0.4498 5.140e-16 0.0030640578  LRRK2\n"
     ]
    }
   ],
   "source": [
    "# Define the directory containing the CSV files\n",
    "input_directory <- \"{WORK_DIR}/PAR/\"  # Replace with your directory path\n",
    "\n",
    "# List all files with the pattern \"results_fine_map.csv\" in the directory\n",
    "file_list <- list.files(input_directory, pattern = \"_results_fine_map_Foo.csv$\", full.names = TRUE)\n",
    "\n",
    "# Initialize an empty list to store the results\n",
    "results_list <- list()\n",
    "\n",
    "# Loop through each file\n",
    "for (file in file_list) {\n",
    "  # Extract the gene name from the file name (remove the \"_results_fine_map.csv\" suffix)\n",
    "  gene <- gsub(\"_results_fine_map_Foo\\\\.csv$\", \"\", basename(file))\n",
    "  \n",
    "  # Read the CSV file\n",
    "  data <- read.csv(file)\n",
    "  \n",
    "  # Select the SNP with the highest SNP.PP value\n",
    "  best_snp <- data %>%\n",
    "    slice_max(SNP.PP, n = 1) %>%  # Select row(s) with the max SNP.PP\n",
    "    mutate(gene = gene)           # Add the gene name\n",
    "  \n",
    "  # Append to the results list\n",
    "  results_list[[gene]] <- best_snp\n",
    "}\n",
    "\n",
    "# Combine all results into a single dataframe\n",
    "final_results <- bind_rows(results_list)\n",
    "\n",
    "# Export the results to a CSV file\n",
    "output_file <- \"top_snp_per_gene_eas.csv\"  # Desired output file name\n",
    "write.csv(final_results, output_file, row.names = FALSE)\n",
    "\n",
    "# Print the first few rows of the final results\n",
    "print(head(final_results))"
   ]
  },
  {
   "cell_type": "code",
   "execution_count": 86,
   "id": "f62d04fb-2b81-4164-8131-9db2f5047ae1",
   "metadata": {
    "vscode": {
     "languageId": "r"
    }
   },
   "outputs": [
    {
     "data": {
      "text/html": [
       "<table class=\"dataframe\">\n",
       "<caption>A data.frame: 11 × 12</caption>\n",
       "<thead>\n",
       "\t<tr><th scope=col>V.</th><th scope=col>z.</th><th scope=col>r.</th><th scope=col>lABF.</th><th scope=col>snp</th><th scope=col>prior</th><th scope=col>SNP.PP</th><th scope=col>SNP</th><th scope=col>beta</th><th scope=col>P</th><th scope=col>varbeta</th><th scope=col>gene</th></tr>\n",
       "\t<tr><th scope=col>&lt;dbl&gt;</th><th scope=col>&lt;dbl&gt;</th><th scope=col>&lt;dbl&gt;</th><th scope=col>&lt;dbl&gt;</th><th scope=col>&lt;chr&gt;</th><th scope=col>&lt;dbl&gt;</th><th scope=col>&lt;dbl&gt;</th><th scope=col>&lt;chr&gt;</th><th scope=col>&lt;dbl&gt;</th><th scope=col>&lt;dbl&gt;</th><th scope=col>&lt;dbl&gt;</th><th scope=col>&lt;chr&gt;</th></tr>\n",
       "</thead>\n",
       "<tbody>\n",
       "\t<tr><td>0.0005231275</td><td>-5.626972</td><td>0.9870906</td><td>13.452134</td><td>chr11:83510117</td><td>1e-04</td><td>0.1628960866</td><td>chr11:83510117</td><td>-0.1287</td><td>1.830e-08</td><td>0.0005231275</td><td>DLG2   </td></tr>\n",
       "\t<tr><td>0.0005692900</td><td>-5.658053</td><td>0.9859675</td><td>13.648977</td><td>chr4:77101068 </td><td>1e-04</td><td>0.2575197109</td><td>chr4:77101068 </td><td>-0.1350</td><td>1.530e-08</td><td>0.0005692900</td><td>FAM47E </td></tr>\n",
       "\t<tr><td>0.0005159110</td><td>-2.690009</td><td>0.9872665</td><td> 1.390247</td><td>chr6:111871349</td><td>1e-04</td><td>0.0004015336</td><td>chr6:111871349</td><td>-0.0611</td><td>7.145e-03</td><td>0.0005159110</td><td>FYN    </td></tr>\n",
       "\t<tr><td>0.0042537873</td><td> 4.805196</td><td>0.9038774</td><td> 9.264158</td><td>chr1:155205203</td><td>1e-04</td><td>0.3488126265</td><td>chr1:155205203</td><td> 0.3134</td><td>1.550e-06</td><td>0.0042537873</td><td>GBA1   </td></tr>\n",
       "\t<tr><td>0.0019876177</td><td> 6.141395</td><td>0.9526618</td><td>16.440425</td><td>chr1:226885608</td><td>1e-04</td><td>0.0544968760</td><td>chr1:226885608</td><td> 0.2738</td><td>8.180e-10</td><td>0.0019876177</td><td>ITPKB  </td></tr>\n",
       "\t<tr><td>0.0030640578</td><td>-8.125891</td><td>0.9288488</td><td>29.344516</td><td>chr12:40458384</td><td>1e-04</td><td>0.5307933273</td><td>chr12:40458384</td><td>-0.4498</td><td>5.140e-16</td><td>0.0030640578</td><td>LRRK2  </td></tr>\n",
       "\t<tr><td>0.0005327549</td><td>-8.292361</td><td>0.9868562</td><td>31.763819</td><td>chr3:182731890</td><td>1e-04</td><td>0.1530013394</td><td>chr3:182731890</td><td>-0.1914</td><td>8.610e-17</td><td>0.0005327549</td><td>MCCC1  </td></tr>\n",
       "\t<tr><td>0.0005413375</td><td> 5.449858</td><td>0.9866473</td><td>12.494166</td><td>chr18:40678235</td><td>1e-04</td><td>0.1109885881</td><td>chr18:40678235</td><td> 0.1268</td><td>5.040e-08</td><td>0.0005413375</td><td>RIT2   </td></tr>\n",
       "\t<tr><td>0.0005694186</td><td> 8.209536</td><td>0.9859643</td><td>31.092188</td><td>chr4:90709236 </td><td>1e-04</td><td>0.2869566535</td><td>chr4:90709236 </td><td> 0.1959</td><td>2.980e-16</td><td>0.0005694186</td><td>SNCA   </td></tr>\n",
       "\t<tr><td>0.0007343356</td><td>-2.856233</td><td>0.9819726</td><td> 1.997569</td><td>chr5:75854512 </td><td>1e-04</td><td>0.0008006339</td><td>chr5:75854512 </td><td>-0.0774</td><td>4.287e-03</td><td>0.0007343356</td><td>SV2C   </td></tr>\n",
       "\t<tr><td>0.0005258711</td><td> 5.533781</td><td>0.9870238</td><td>12.940364</td><td>chr7:70751108 </td><td>1e-04</td><td>0.0974722707</td><td>chr7:70751108 </td><td> 0.1269</td><td>3.130e-08</td><td>0.0005258711</td><td>WBSCR17</td></tr>\n",
       "</tbody>\n",
       "</table>\n"
      ],
      "text/latex": [
       "A data.frame: 11 × 12\n",
       "\\begin{tabular}{llllllllllll}\n",
       " V. & z. & r. & lABF. & snp & prior & SNP.PP & SNP & beta & P & varbeta & gene\\\\\n",
       " <dbl> & <dbl> & <dbl> & <dbl> & <chr> & <dbl> & <dbl> & <chr> & <dbl> & <dbl> & <dbl> & <chr>\\\\\n",
       "\\hline\n",
       "\t 0.0005231275 & -5.626972 & 0.9870906 & 13.452134 & chr11:83510117 & 1e-04 & 0.1628960866 & chr11:83510117 & -0.1287 & 1.830e-08 & 0.0005231275 & DLG2   \\\\\n",
       "\t 0.0005692900 & -5.658053 & 0.9859675 & 13.648977 & chr4:77101068  & 1e-04 & 0.2575197109 & chr4:77101068  & -0.1350 & 1.530e-08 & 0.0005692900 & FAM47E \\\\\n",
       "\t 0.0005159110 & -2.690009 & 0.9872665 &  1.390247 & chr6:111871349 & 1e-04 & 0.0004015336 & chr6:111871349 & -0.0611 & 7.145e-03 & 0.0005159110 & FYN    \\\\\n",
       "\t 0.0042537873 &  4.805196 & 0.9038774 &  9.264158 & chr1:155205203 & 1e-04 & 0.3488126265 & chr1:155205203 &  0.3134 & 1.550e-06 & 0.0042537873 & GBA1   \\\\\n",
       "\t 0.0019876177 &  6.141395 & 0.9526618 & 16.440425 & chr1:226885608 & 1e-04 & 0.0544968760 & chr1:226885608 &  0.2738 & 8.180e-10 & 0.0019876177 & ITPKB  \\\\\n",
       "\t 0.0030640578 & -8.125891 & 0.9288488 & 29.344516 & chr12:40458384 & 1e-04 & 0.5307933273 & chr12:40458384 & -0.4498 & 5.140e-16 & 0.0030640578 & LRRK2  \\\\\n",
       "\t 0.0005327549 & -8.292361 & 0.9868562 & 31.763819 & chr3:182731890 & 1e-04 & 0.1530013394 & chr3:182731890 & -0.1914 & 8.610e-17 & 0.0005327549 & MCCC1  \\\\\n",
       "\t 0.0005413375 &  5.449858 & 0.9866473 & 12.494166 & chr18:40678235 & 1e-04 & 0.1109885881 & chr18:40678235 &  0.1268 & 5.040e-08 & 0.0005413375 & RIT2   \\\\\n",
       "\t 0.0005694186 &  8.209536 & 0.9859643 & 31.092188 & chr4:90709236  & 1e-04 & 0.2869566535 & chr4:90709236  &  0.1959 & 2.980e-16 & 0.0005694186 & SNCA   \\\\\n",
       "\t 0.0007343356 & -2.856233 & 0.9819726 &  1.997569 & chr5:75854512  & 1e-04 & 0.0008006339 & chr5:75854512  & -0.0774 & 4.287e-03 & 0.0007343356 & SV2C   \\\\\n",
       "\t 0.0005258711 &  5.533781 & 0.9870238 & 12.940364 & chr7:70751108  & 1e-04 & 0.0974722707 & chr7:70751108  &  0.1269 & 3.130e-08 & 0.0005258711 & WBSCR17\\\\\n",
       "\\end{tabular}\n"
      ],
      "text/markdown": [
       "\n",
       "A data.frame: 11 × 12\n",
       "\n",
       "| V. &lt;dbl&gt; | z. &lt;dbl&gt; | r. &lt;dbl&gt; | lABF. &lt;dbl&gt; | snp &lt;chr&gt; | prior &lt;dbl&gt; | SNP.PP &lt;dbl&gt; | SNP &lt;chr&gt; | beta &lt;dbl&gt; | P &lt;dbl&gt; | varbeta &lt;dbl&gt; | gene &lt;chr&gt; |\n",
       "|---|---|---|---|---|---|---|---|---|---|---|---|\n",
       "| 0.0005231275 | -5.626972 | 0.9870906 | 13.452134 | chr11:83510117 | 1e-04 | 0.1628960866 | chr11:83510117 | -0.1287 | 1.830e-08 | 0.0005231275 | DLG2    |\n",
       "| 0.0005692900 | -5.658053 | 0.9859675 | 13.648977 | chr4:77101068  | 1e-04 | 0.2575197109 | chr4:77101068  | -0.1350 | 1.530e-08 | 0.0005692900 | FAM47E  |\n",
       "| 0.0005159110 | -2.690009 | 0.9872665 |  1.390247 | chr6:111871349 | 1e-04 | 0.0004015336 | chr6:111871349 | -0.0611 | 7.145e-03 | 0.0005159110 | FYN     |\n",
       "| 0.0042537873 |  4.805196 | 0.9038774 |  9.264158 | chr1:155205203 | 1e-04 | 0.3488126265 | chr1:155205203 |  0.3134 | 1.550e-06 | 0.0042537873 | GBA1    |\n",
       "| 0.0019876177 |  6.141395 | 0.9526618 | 16.440425 | chr1:226885608 | 1e-04 | 0.0544968760 | chr1:226885608 |  0.2738 | 8.180e-10 | 0.0019876177 | ITPKB   |\n",
       "| 0.0030640578 | -8.125891 | 0.9288488 | 29.344516 | chr12:40458384 | 1e-04 | 0.5307933273 | chr12:40458384 | -0.4498 | 5.140e-16 | 0.0030640578 | LRRK2   |\n",
       "| 0.0005327549 | -8.292361 | 0.9868562 | 31.763819 | chr3:182731890 | 1e-04 | 0.1530013394 | chr3:182731890 | -0.1914 | 8.610e-17 | 0.0005327549 | MCCC1   |\n",
       "| 0.0005413375 |  5.449858 | 0.9866473 | 12.494166 | chr18:40678235 | 1e-04 | 0.1109885881 | chr18:40678235 |  0.1268 | 5.040e-08 | 0.0005413375 | RIT2    |\n",
       "| 0.0005694186 |  8.209536 | 0.9859643 | 31.092188 | chr4:90709236  | 1e-04 | 0.2869566535 | chr4:90709236  |  0.1959 | 2.980e-16 | 0.0005694186 | SNCA    |\n",
       "| 0.0007343356 | -2.856233 | 0.9819726 |  1.997569 | chr5:75854512  | 1e-04 | 0.0008006339 | chr5:75854512  | -0.0774 | 4.287e-03 | 0.0007343356 | SV2C    |\n",
       "| 0.0005258711 |  5.533781 | 0.9870238 | 12.940364 | chr7:70751108  | 1e-04 | 0.0974722707 | chr7:70751108  |  0.1269 | 3.130e-08 | 0.0005258711 | WBSCR17 |\n",
       "\n"
      ],
      "text/plain": [
       "   V.           z.        r.        lABF.     snp            prior SNP.PP      \n",
       "1  0.0005231275 -5.626972 0.9870906 13.452134 chr11:83510117 1e-04 0.1628960866\n",
       "2  0.0005692900 -5.658053 0.9859675 13.648977 chr4:77101068  1e-04 0.2575197109\n",
       "3  0.0005159110 -2.690009 0.9872665  1.390247 chr6:111871349 1e-04 0.0004015336\n",
       "4  0.0042537873  4.805196 0.9038774  9.264158 chr1:155205203 1e-04 0.3488126265\n",
       "5  0.0019876177  6.141395 0.9526618 16.440425 chr1:226885608 1e-04 0.0544968760\n",
       "6  0.0030640578 -8.125891 0.9288488 29.344516 chr12:40458384 1e-04 0.5307933273\n",
       "7  0.0005327549 -8.292361 0.9868562 31.763819 chr3:182731890 1e-04 0.1530013394\n",
       "8  0.0005413375  5.449858 0.9866473 12.494166 chr18:40678235 1e-04 0.1109885881\n",
       "9  0.0005694186  8.209536 0.9859643 31.092188 chr4:90709236  1e-04 0.2869566535\n",
       "10 0.0007343356 -2.856233 0.9819726  1.997569 chr5:75854512  1e-04 0.0008006339\n",
       "11 0.0005258711  5.533781 0.9870238 12.940364 chr7:70751108  1e-04 0.0974722707\n",
       "   SNP            beta    P         varbeta      gene   \n",
       "1  chr11:83510117 -0.1287 1.830e-08 0.0005231275 DLG2   \n",
       "2  chr4:77101068  -0.1350 1.530e-08 0.0005692900 FAM47E \n",
       "3  chr6:111871349 -0.0611 7.145e-03 0.0005159110 FYN    \n",
       "4  chr1:155205203  0.3134 1.550e-06 0.0042537873 GBA1   \n",
       "5  chr1:226885608  0.2738 8.180e-10 0.0019876177 ITPKB  \n",
       "6  chr12:40458384 -0.4498 5.140e-16 0.0030640578 LRRK2  \n",
       "7  chr3:182731890 -0.1914 8.610e-17 0.0005327549 MCCC1  \n",
       "8  chr18:40678235  0.1268 5.040e-08 0.0005413375 RIT2   \n",
       "9  chr4:90709236   0.1959 2.980e-16 0.0005694186 SNCA   \n",
       "10 chr5:75854512  -0.0774 4.287e-03 0.0007343356 SV2C   \n",
       "11 chr7:70751108   0.1269 3.130e-08 0.0005258711 WBSCR17"
      ]
     },
     "metadata": {},
     "output_type": "display_data"
    }
   ],
   "source": [
    "final_results"
   ]
  },
  {
   "cell_type": "code",
   "execution_count": null,
   "id": "c14d3723-9efe-45f2-9138-f51c274c277f",
   "metadata": {
    "vscode": {
     "languageId": "r"
    }
   },
   "outputs": [],
   "source": []
  }
 ],
 "metadata": {
  "kernelspec": {
   "display_name": "R/4.4",
   "language": "R",
   "name": "ir44"
  },
  "language_info": {
   "codemirror_mode": "r",
   "file_extension": ".r",
   "mimetype": "text/x-r-source",
   "name": "R",
   "pygments_lexer": "r",
   "version": "4.4.2"
  }
 },
 "nbformat": 4,
 "nbformat_minor": 5
}
