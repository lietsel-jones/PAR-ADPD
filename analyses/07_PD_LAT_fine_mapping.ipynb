{
 "cells": [
  {
   "cell_type": "markdown",
   "id": "e505a73d-ebef-4d19-a39a-2da91cdebe57",
   "metadata": {},
   "source": [
    "# Fine-mapping of PD-related risk loci in Latino summary statistics\n",
    "* Project: Cross-ancestry PAR\n",
    "* Version: R/4.4\n",
    "* Status: Complete\n",
    "* Last Updated: 13-FEB-2025"
   ]
  },
  {
   "cell_type": "markdown",
   "id": "bceef999-8e63-4b0a-8fa3-359bbb658b44",
   "metadata": {},
   "source": [
    "## Notebook overview\n",
    "* Extract chromosome and base pair positions from summary statistics for selected loci\n",
    "* Perform fine-mapping and save results"
   ]
  },
  {
   "cell_type": "code",
   "execution_count": 1,
   "id": "a1e57727-805b-425a-bfa0-f0f220bb44c4",
   "metadata": {
    "vscode": {
     "languageId": "r"
    }
   },
   "outputs": [
    {
     "name": "stderr",
     "output_type": "stream",
     "text": [
      "Skipping install of 'coloc' from a github remote, the SHA1 (fd1c0351) has not changed since last install.\n",
      "  Use `force = TRUE` to force installation\n",
      "\n",
      "This is coloc version 5.2.3\n",
      "\n",
      "── \u001b[1mAttaching core tidyverse packages\u001b[22m ────────────────────────────────────── tidyverse 2.0.0 ──\n",
      "\u001b[32m✔\u001b[39m \u001b[34mdplyr    \u001b[39m 1.1.4     \u001b[32m✔\u001b[39m \u001b[34mreadr    \u001b[39m 2.1.5\n",
      "\u001b[32m✔\u001b[39m \u001b[34mforcats  \u001b[39m 1.0.0     \u001b[32m✔\u001b[39m \u001b[34mstringr  \u001b[39m 1.5.1\n",
      "\u001b[32m✔\u001b[39m \u001b[34mlubridate\u001b[39m 1.9.4     \u001b[32m✔\u001b[39m \u001b[34mtibble   \u001b[39m 3.2.1\n",
      "\u001b[32m✔\u001b[39m \u001b[34mpurrr    \u001b[39m 1.0.2     \n",
      "── \u001b[1mConflicts\u001b[22m ──────────────────────────────────────────────────────── tidyverse_conflicts() ──\n",
      "\u001b[31m✖\u001b[39m \u001b[34mdplyr\u001b[39m::\u001b[32mbetween()\u001b[39m     masks \u001b[34mdata.table\u001b[39m::between()\n",
      "\u001b[31m✖\u001b[39m \u001b[34mdplyr\u001b[39m::\u001b[32mfilter()\u001b[39m      masks \u001b[34mstats\u001b[39m::filter()\n",
      "\u001b[31m✖\u001b[39m \u001b[34mdplyr\u001b[39m::\u001b[32mfirst()\u001b[39m       masks \u001b[34mdata.table\u001b[39m::first()\n",
      "\u001b[31m✖\u001b[39m \u001b[34mlubridate\u001b[39m::\u001b[32mhour()\u001b[39m    masks \u001b[34mdata.table\u001b[39m::hour()\n",
      "\u001b[31m✖\u001b[39m \u001b[34mlubridate\u001b[39m::\u001b[32misoweek()\u001b[39m masks \u001b[34mdata.table\u001b[39m::isoweek()\n",
      "\u001b[31m✖\u001b[39m \u001b[34mdplyr\u001b[39m::\u001b[32mlag()\u001b[39m         masks \u001b[34mstats\u001b[39m::lag()\n",
      "\u001b[31m✖\u001b[39m \u001b[34mdplyr\u001b[39m::\u001b[32mlast()\u001b[39m        masks \u001b[34mdata.table\u001b[39m::last()\n",
      "\u001b[31m✖\u001b[39m \u001b[34mlubridate\u001b[39m::\u001b[32mmday()\u001b[39m    masks \u001b[34mdata.table\u001b[39m::mday()\n",
      "\u001b[31m✖\u001b[39m \u001b[34mlubridate\u001b[39m::\u001b[32mminute()\u001b[39m  masks \u001b[34mdata.table\u001b[39m::minute()\n",
      "\u001b[31m✖\u001b[39m \u001b[34mlubridate\u001b[39m::\u001b[32mmonth()\u001b[39m   masks \u001b[34mdata.table\u001b[39m::month()\n",
      "\u001b[31m✖\u001b[39m \u001b[34mlubridate\u001b[39m::\u001b[32mquarter()\u001b[39m masks \u001b[34mdata.table\u001b[39m::quarter()\n",
      "\u001b[31m✖\u001b[39m \u001b[34mlubridate\u001b[39m::\u001b[32msecond()\u001b[39m  masks \u001b[34mdata.table\u001b[39m::second()\n",
      "\u001b[31m✖\u001b[39m \u001b[34mpurrr\u001b[39m::\u001b[32mtranspose()\u001b[39m   masks \u001b[34mdata.table\u001b[39m::transpose()\n",
      "\u001b[31m✖\u001b[39m \u001b[34mlubridate\u001b[39m::\u001b[32mwday()\u001b[39m    masks \u001b[34mdata.table\u001b[39m::wday()\n",
      "\u001b[31m✖\u001b[39m \u001b[34mlubridate\u001b[39m::\u001b[32mweek()\u001b[39m    masks \u001b[34mdata.table\u001b[39m::week()\n",
      "\u001b[31m✖\u001b[39m \u001b[34mlubridate\u001b[39m::\u001b[32myday()\u001b[39m    masks \u001b[34mdata.table\u001b[39m::yday()\n",
      "\u001b[31m✖\u001b[39m \u001b[34mlubridate\u001b[39m::\u001b[32myear()\u001b[39m    masks \u001b[34mdata.table\u001b[39m::year()\n",
      "\u001b[36mℹ\u001b[39m Use the conflicted package (\u001b[3m\u001b[34m<http://conflicted.r-lib.org/>\u001b[39m\u001b[23m) to force all conflicts to become errors\n"
     ]
    }
   ],
   "source": [
    "library(\"data.table\")\n",
    "#if (!requireNamespace(\"BiocManager\", quietly = TRUE))\n",
    "#    install.packages(\"BiocManager\")\n",
    "#BiocManager::install(\"snpStats\")\n",
    "library(\"robustbase\")\n",
    "library(ggplot2)\n",
    "library(tidyr)\n",
    "devtools::install_github(\"chr1swallace/coloc\")\n",
    "library(\"coloc\")\n",
    "library(\"tidyverse\")\n",
    "library(\"readr\")"
   ]
  },
  {
   "cell_type": "code",
   "execution_count": 2,
   "id": "9367cd7f-25b1-49bb-a37d-7475a809e6be",
   "metadata": {
    "vscode": {
     "languageId": "r"
    }
   },
   "outputs": [
    {
     "data": {
      "text/html": [
       "<table class=\"dataframe\">\n",
       "<caption>A data.table: 6 × 14</caption>\n",
       "<thead>\n",
       "\t<tr><th scope=col>MARKERNAME</th><th scope=col>CHROMOSOME</th><th scope=col>POSITION</th><th scope=col>EA</th><th scope=col>NEA</th><th scope=col>EAF</th><th scope=col>BETA</th><th scope=col>SE</th><th scope=col>OR</th><th scope=col>OR_95U</th><th scope=col>OR_95L</th><th scope=col>N</th><th scope=col>NMISS</th><th scope=col>P</th></tr>\n",
       "\t<tr><th scope=col>&lt;chr&gt;</th><th scope=col>&lt;chr&gt;</th><th scope=col>&lt;int&gt;</th><th scope=col>&lt;chr&gt;</th><th scope=col>&lt;chr&gt;</th><th scope=col>&lt;dbl&gt;</th><th scope=col>&lt;dbl&gt;</th><th scope=col>&lt;dbl&gt;</th><th scope=col>&lt;dbl&gt;</th><th scope=col>&lt;dbl&gt;</th><th scope=col>&lt;dbl&gt;</th><th scope=col>&lt;int&gt;</th><th scope=col>&lt;dbl&gt;</th><th scope=col>&lt;dbl&gt;</th></tr>\n",
       "</thead>\n",
       "<tbody>\n",
       "\t<tr><td>chr1:662622</td><td>1</td><td>662622</td><td>A</td><td>G </td><td>0.06547400</td><td>-0.18757510</td><td>0.2100987</td><td>0.8289669</td><td>1.251344</td><td>0.5491583</td><td>1481</td><td>1487.856</td><td>0.3719668</td></tr>\n",
       "\t<tr><td>chr1:666249</td><td>1</td><td>666249</td><td>T</td><td>C </td><td>0.07331668</td><td> 0.26633693</td><td>0.1809179</td><td>1.3051747</td><td>1.860669</td><td>0.9155208</td><td>1481</td><td>1487.856</td><td>0.1409824</td></tr>\n",
       "\t<tr><td>chr1:668394</td><td>1</td><td>668394</td><td>A</td><td>AG</td><td>0.01880756</td><td>-0.17170011</td><td>0.4917997</td><td>0.8422317</td><td>2.208309</td><td>0.3212205</td><td>1481</td><td>1487.856</td><td>0.7269946</td></tr>\n",
       "\t<tr><td>chr1:676118</td><td>1</td><td>676118</td><td>T</td><td>C </td><td>0.03893248</td><td> 0.04431366</td><td>0.2828777</td><td>1.0453102</td><td>1.819850</td><td>0.6004195</td><td>1481</td><td>1487.856</td><td>0.8755183</td></tr>\n",
       "\t<tr><td>chr1:693625</td><td>1</td><td>693625</td><td>C</td><td>T </td><td>0.02188589</td><td>-0.31083938</td><td>0.3586972</td><td>0.7328316</td><td>1.480244</td><td>0.3628064</td><td>1481</td><td>1487.856</td><td>0.3861729</td></tr>\n",
       "\t<tr><td>chr1:693731</td><td>1</td><td>693731</td><td>G</td><td>A </td><td>0.06359318</td><td>-0.17158118</td><td>0.2129181</td><td>0.8423319</td><td>1.278565</td><td>0.5549370</td><td>1481</td><td>1487.856</td><td>0.4203263</td></tr>\n",
       "</tbody>\n",
       "</table>\n"
      ],
      "text/latex": [
       "A data.table: 6 × 14\n",
       "\\begin{tabular}{llllllllllllll}\n",
       " MARKERNAME & CHROMOSOME & POSITION & EA & NEA & EAF & BETA & SE & OR & OR\\_95U & OR\\_95L & N & NMISS & P\\\\\n",
       " <chr> & <chr> & <int> & <chr> & <chr> & <dbl> & <dbl> & <dbl> & <dbl> & <dbl> & <dbl> & <int> & <dbl> & <dbl>\\\\\n",
       "\\hline\n",
       "\t chr1:662622 & 1 & 662622 & A & G  & 0.06547400 & -0.18757510 & 0.2100987 & 0.8289669 & 1.251344 & 0.5491583 & 1481 & 1487.856 & 0.3719668\\\\\n",
       "\t chr1:666249 & 1 & 666249 & T & C  & 0.07331668 &  0.26633693 & 0.1809179 & 1.3051747 & 1.860669 & 0.9155208 & 1481 & 1487.856 & 0.1409824\\\\\n",
       "\t chr1:668394 & 1 & 668394 & A & AG & 0.01880756 & -0.17170011 & 0.4917997 & 0.8422317 & 2.208309 & 0.3212205 & 1481 & 1487.856 & 0.7269946\\\\\n",
       "\t chr1:676118 & 1 & 676118 & T & C  & 0.03893248 &  0.04431366 & 0.2828777 & 1.0453102 & 1.819850 & 0.6004195 & 1481 & 1487.856 & 0.8755183\\\\\n",
       "\t chr1:693625 & 1 & 693625 & C & T  & 0.02188589 & -0.31083938 & 0.3586972 & 0.7328316 & 1.480244 & 0.3628064 & 1481 & 1487.856 & 0.3861729\\\\\n",
       "\t chr1:693731 & 1 & 693731 & G & A  & 0.06359318 & -0.17158118 & 0.2129181 & 0.8423319 & 1.278565 & 0.5549370 & 1481 & 1487.856 & 0.4203263\\\\\n",
       "\\end{tabular}\n"
      ],
      "text/markdown": [
       "\n",
       "A data.table: 6 × 14\n",
       "\n",
       "| MARKERNAME &lt;chr&gt; | CHROMOSOME &lt;chr&gt; | POSITION &lt;int&gt; | EA &lt;chr&gt; | NEA &lt;chr&gt; | EAF &lt;dbl&gt; | BETA &lt;dbl&gt; | SE &lt;dbl&gt; | OR &lt;dbl&gt; | OR_95U &lt;dbl&gt; | OR_95L &lt;dbl&gt; | N &lt;int&gt; | NMISS &lt;dbl&gt; | P &lt;dbl&gt; |\n",
       "|---|---|---|---|---|---|---|---|---|---|---|---|---|---|\n",
       "| chr1:662622 | 1 | 662622 | A | G  | 0.06547400 | -0.18757510 | 0.2100987 | 0.8289669 | 1.251344 | 0.5491583 | 1481 | 1487.856 | 0.3719668 |\n",
       "| chr1:666249 | 1 | 666249 | T | C  | 0.07331668 |  0.26633693 | 0.1809179 | 1.3051747 | 1.860669 | 0.9155208 | 1481 | 1487.856 | 0.1409824 |\n",
       "| chr1:668394 | 1 | 668394 | A | AG | 0.01880756 | -0.17170011 | 0.4917997 | 0.8422317 | 2.208309 | 0.3212205 | 1481 | 1487.856 | 0.7269946 |\n",
       "| chr1:676118 | 1 | 676118 | T | C  | 0.03893248 |  0.04431366 | 0.2828777 | 1.0453102 | 1.819850 | 0.6004195 | 1481 | 1487.856 | 0.8755183 |\n",
       "| chr1:693625 | 1 | 693625 | C | T  | 0.02188589 | -0.31083938 | 0.3586972 | 0.7328316 | 1.480244 | 0.3628064 | 1481 | 1487.856 | 0.3861729 |\n",
       "| chr1:693731 | 1 | 693731 | G | A  | 0.06359318 | -0.17158118 | 0.2129181 | 0.8423319 | 1.278565 | 0.5549370 | 1481 | 1487.856 | 0.4203263 |\n",
       "\n"
      ],
      "text/plain": [
       "  MARKERNAME  CHROMOSOME POSITION EA NEA EAF        BETA        SE       \n",
       "1 chr1:662622 1          662622   A  G   0.06547400 -0.18757510 0.2100987\n",
       "2 chr1:666249 1          666249   T  C   0.07331668  0.26633693 0.1809179\n",
       "3 chr1:668394 1          668394   A  AG  0.01880756 -0.17170011 0.4917997\n",
       "4 chr1:676118 1          676118   T  C   0.03893248  0.04431366 0.2828777\n",
       "5 chr1:693625 1          693625   C  T   0.02188589 -0.31083938 0.3586972\n",
       "6 chr1:693731 1          693731   G  A   0.06359318 -0.17158118 0.2129181\n",
       "  OR        OR_95U   OR_95L    N    NMISS    P        \n",
       "1 0.8289669 1.251344 0.5491583 1481 1487.856 0.3719668\n",
       "2 1.3051747 1.860669 0.9155208 1481 1487.856 0.1409824\n",
       "3 0.8422317 2.208309 0.3212205 1481 1487.856 0.7269946\n",
       "4 1.0453102 1.819850 0.6004195 1481 1487.856 0.8755183\n",
       "5 0.7328316 1.480244 0.3628064 1481 1487.856 0.3861729\n",
       "6 0.8423319 1.278565 0.5549370 1481 1487.856 0.4203263"
      ]
     },
     "metadata": {},
     "output_type": "display_data"
    }
   ],
   "source": [
    "## Read dataframe\n",
    "df0 <- fread(\"{WORK_DIR}/Sumstat/per-cohort/AMR.final.txt\", header =T)\n",
    "head(df0)"
   ]
  },
  {
   "cell_type": "code",
   "execution_count": 3,
   "id": "95011cb1-a929-4de3-8621-b0370b7cefb9",
   "metadata": {
    "vscode": {
     "languageId": "r"
    }
   },
   "outputs": [],
   "source": [
    "df0$MarkerName <- df0$MARKERNAME\n",
    "df0$StdErr <- df0$SE\n",
    "df0$Effect <- df0$BETA\n",
    "df0$`P-value` <- df0$P\n",
    "df0$CHR <- df0$CHROMOSOME\n",
    "df0$BP <- df0$POSITION"
   ]
  },
  {
   "cell_type": "code",
   "execution_count": 14,
   "id": "a5866442-d84e-4019-a329-9bc88a2a3807",
   "metadata": {
    "vscode": {
     "languageId": "r"
    }
   },
   "outputs": [],
   "source": [
    "## EXTRACT CHRS\n",
    "# Chromosome 1: 155,234,452 - 155,244,627\n",
    "GBA1_sumstats = subset(df0, CHR==1 & BP > 155234452 & BP< 155244627)\n",
    "# Chromosome 12: 40,340,400 -> 40,240,400 - 40,440,400\n",
    "LRRK2_sumstats = subset(df0, CHR==12 & BP > 40240400 & BP< 40440400)\n",
    "# Chromosome 4: 89,722,606 -> 89,622,606 - 89,822,606\n",
    "SNCA_sumstats = subset(df0, CHR==4 & BP > 89622606 & BP< 89822606)\n",
    "# Chromosome 17: 45,974,480 -> 45,874,480 - 46,074,480\n",
    "MAPT_sumstats = subset(df0, CHR==17 & BP > 45874480 & BP < 46074480)"
   ]
  },
  {
   "cell_type": "code",
   "execution_count": 15,
   "id": "d952c48c-f5cc-49cf-8167-e3e5cec4fae1",
   "metadata": {
    "vscode": {
     "languageId": "r"
    }
   },
   "outputs": [],
   "source": [
    "## Run for genes\n",
    "genes <- c(\"GBA1\", \"MAPT\", \"LRRK2\", \"SNCA\")"
   ]
  },
  {
   "cell_type": "code",
   "execution_count": 16,
   "id": "98fdf7ca-8a8b-47ee-a644-2782ed9395b3",
   "metadata": {
    "vscode": {
     "languageId": "r"
    }
   },
   "outputs": [],
   "source": [
    "for (gene in genes) {\n",
    "    # Assume gene_sumstats is a data frame with summary statistics for each gene\n",
    "    gene_sumstats <- get(paste0(gene, \"_sumstats\"))  # Get the data frame for the current gene\n",
    "    if (is.data.frame(gene_sumstats)) {\n",
    "        write_tsv(gene_sumstats, paste0(\"{WORK_DIR}/PAR/\", \"/\", gene, \"_variants_lat.tab\"))\n",
    "    } else {\n",
    "        warning(paste(\"No data frame found for\", gene))\n",
    "    }\n",
    "}"
   ]
  },
  {
   "cell_type": "code",
   "execution_count": 17,
   "id": "43aac15f-fb9c-46f3-a1fb-e3527648f3d2",
   "metadata": {
    "vscode": {
     "languageId": "r"
    }
   },
   "outputs": [],
   "source": [
    "## Run for genes\n",
    "genes <- c(\"GBA1\", \"MAPT\", \"LRRK2\", \"SNCA\")"
   ]
  },
  {
   "cell_type": "code",
   "execution_count": 18,
   "id": "ddeadd5b-97c5-4858-96d8-1020b3c1f63b",
   "metadata": {
    "vscode": {
     "languageId": "r"
    }
   },
   "outputs": [],
   "source": [
    "for (gene in genes) {\n",
    "    input_file <- paste0(\"{WORK_DIR}/PAR/\", gene, \"_variants_lat.tab\")\n",
    "    output_file <- paste0(\"{WORK_DIR}/PAR/\", gene, \"_Loesch_2021.csv\")\n",
    "    \n",
    "    # Read in the dataset\n",
    "    dataset1 <- fread(input_file, header = TRUE, sep = \"\\t\")\n",
    "    \n",
    "    # Remove duplicated rows based on the 'MarkerName' column\n",
    "    dataset1 <- dataset1[!duplicated(dataset1$MarkerName), ]\n",
    "    \n",
    "    # Add a new column 'StdErr_squared' by squaring 'StdErr'\n",
    "    dataset_final <- dataset1 %>% mutate(StdErr_squared = StdErr^2)\n",
    "    \n",
    "    # Select the required columns and rename them\n",
    "    output <- dataset_final[, c(\"MarkerName\", \"Effect\", \"P-value\", \"StdErr_squared\")]\n",
    "    colnames(output) <- c(\"SNP\", \"beta\", \"P\", \"varbeta\")\n",
    "    \n",
    "    # Write the output to a CSV file\n",
    "    fwrite(output, file = output_file, na = \"NA\", quote = FALSE, row.names = FALSE, sep = \"\\t\")\n",
    "}"
   ]
  },
  {
   "cell_type": "code",
   "execution_count": 19,
   "id": "694aa4da-85ff-4fb9-bf1d-0e2670493f31",
   "metadata": {
    "vscode": {
     "languageId": "r"
    }
   },
   "outputs": [],
   "source": [
    "## Run for genes\n",
    "genes <- c(\"GBA1\", \"MAPT\", \"LRRK2\", \"SNCA\")"
   ]
  },
  {
   "cell_type": "code",
   "execution_count": 20,
   "id": "fe4d20d6-08e7-40d1-8c5e-ff7b6e38d0a5",
   "metadata": {
    "vscode": {
     "languageId": "r"
    }
   },
   "outputs": [
    {
     "name": "stderr",
     "output_type": "stream",
     "text": [
      "Warning message in check_dataset(dataset, \"\"):\n",
      "“minimum p value is: 0.45266\n",
      "If this is what you expected, this is not a problem.\n",
      "If this is not as small as you expected, please check you supplied var(beta) and not sd(beta) for the varbeta argument. If that's not the explanation, please check the 02_data vignette.”\n",
      "Warning message in check_dataset(dataset, \"\"):\n",
      "“minimum p value is: 0.012797\n",
      "If this is what you expected, this is not a problem.\n",
      "If this is not as small as you expected, please check you supplied var(beta) and not sd(beta) for the varbeta argument. If that's not the explanation, please check the 02_data vignette.”\n",
      "Warning message in check_dataset(dataset, \"\"):\n",
      "“minimum p value is: 0.0052142\n",
      "If this is what you expected, this is not a problem.\n",
      "If this is not as small as you expected, please check you supplied var(beta) and not sd(beta) for the varbeta argument. If that's not the explanation, please check the 02_data vignette.”\n",
      "Warning message in check_dataset(dataset, \"\"):\n",
      "“minimum p value is: 0.0020453\n",
      "If this is what you expected, this is not a problem.\n",
      "If this is not as small as you expected, please check you supplied var(beta) and not sd(beta) for the varbeta argument. If that's not the explanation, please check the 02_data vignette.”\n"
     ]
    }
   ],
   "source": [
    "for (gene in genes) {\n",
    "    input_file <- paste0(\"{WORK_DIR}/PAR/\", gene, \"_Loesch_2021.csv\")\n",
    "    output <- fread(input_file, header = TRUE, sep = \"\\t\")\n",
    "    \n",
    "    # Check if output has 0 rows\n",
    "    if (nrow(output) == 0) {\n",
    "        cat(\"No rows in output for gene: \", gene, \". Skipping...\\n\")\n",
    "        next  # Skip to the next gene in the loop\n",
    "    }\n",
    "    \n",
    "    SNP <- output$SNP\n",
    "    beta <- output$beta\n",
    "    varbeta <- output$varbeta\n",
    "    N <- 1497  # 807 PD cases vs 1497 total (807 cases, 690 controls - Loesch et al 2021)\n",
    "    s <- 0.539\n",
    "    type <- 'cc'\n",
    "    \n",
    "    # Create dataset for fine-mapping\n",
    "    dataset <- list(\n",
    "        snp = SNP, \n",
    "        beta = beta, \n",
    "        varbeta = varbeta, \n",
    "        N = N, \n",
    "        s = s, \n",
    "        type = type)\n",
    "        \n",
    "    # Ensure dataset variables are numeric\n",
    "    dataset$snp <- unlist(dataset$snp)\n",
    "    dataset$beta <- unlist(dataset$beta)\n",
    "    dataset$varbeta <- unlist(dataset$varbeta)\n",
    "    \n",
    "    # Assuming finemap.abf() works with a list, otherwise convert to a data.frame\n",
    "    results <- finemap.abf(\n",
    "        dataset = dataset,\n",
    "        p1 = 1e-04  # Optional parameter for p-value threshold (can adjust based on your data)\n",
    "    )\n",
    "        \n",
    "    # Check if results has 0 rows\n",
    "    if (nrow(results) == 0) {\n",
    "        cat(\"No results returned for gene: \", gene, \". Skipping...\\n\")\n",
    "        next  # Skip to the next gene in the loop\n",
    "    }\n",
    "    \n",
    "    # Combine the results with the original output\n",
    "    combo <- cbind(results[1:(nrow(results) - 1),], output)\n",
    "    \n",
    "    # Subset results where SNP.PP > 0.2\n",
    "    hits <- subset(combo, SNP.PP > 0.2)\n",
    "    \n",
    "    # Save the results to a CSV file\n",
    "    final_output_file <- paste0(\"{WORK_DIR}/PAR/\", gene, \"_results_fine_map_Loesch.csv\")\n",
    "    fwrite(combo, file = final_output_file, na = \"NA\", quote = F, row.names = F, sep = \",\")\n",
    "    }"
   ]
  },
  {
   "cell_type": "code",
   "execution_count": 21,
   "id": "ca685dbe-b88a-48e7-b170-016eb6f1294d",
   "metadata": {
    "vscode": {
     "languageId": "r"
    }
   },
   "outputs": [
    {
     "name": "stdout",
     "output_type": "stream",
     "text": [
      "          V.         z.        r.       lABF.            snp prior       SNP.PP\n",
      "1 0.01595388  2.5630248 0.7148744  1.72062664 chr6:111871411 1e-04 5.596847e-04\n",
      "2 0.23006075  0.1466591 0.1481148 -0.07855887 chr1:155237103 1e-04 9.250008e-05\n",
      "3 0.03281979  2.7934910 0.5493012  1.74478332 chr12:40385910 1e-04 5.800107e-04\n",
      "4 0.01035702 -2.3988447 0.7943282  1.49472645 chr17:45874509 1e-04 4.533845e-04\n",
      "5 0.02563770  2.4515184 0.6094059  1.36120403  chr4:89667591 1e-04 3.928434e-04\n",
      "             SNP       beta           P    varbeta  gene\n",
      "1 chr6:111871411  0.3237323 0.010376463 0.01595388   FYN\n",
      "2 chr1:155237103  0.0703445 0.883401139 0.23006075  GBA1\n",
      "3 chr12:40385910  0.5060753 0.005214248 0.03281979 LRRK2\n",
      "4 chr17:45874509 -0.2441291 0.016446890 0.01035702  MAPT\n",
      "5  chr4:89667591  0.3925316 0.014225491 0.02563770  SNCA\n"
     ]
    }
   ],
   "source": [
    "# Define the directory containing the CSV files\n",
    "input_directory <- \"{WORK_DIR}/PAR/\"  # Replace with your directory path\n",
    "\n",
    "# List all files with the pattern \"results_fine_map.csv\" in the directory\n",
    "file_list <- list.files(input_directory, pattern = \"_results_fine_map_Loesch.csv$\", full.names = TRUE)\n",
    "\n",
    "# Initialize an empty list to store the results\n",
    "results_list <- list()\n",
    "\n",
    "# Loop through each file\n",
    "for (file in file_list) {\n",
    "  # Extract the gene name from the file name (remove the \"_results_fine_map.csv\" suffix)\n",
    "  gene <- gsub(\"_results_fine_map_Loesch\\\\.csv$\", \"\", basename(file))\n",
    "  \n",
    "  # Read the CSV file\n",
    "  data <- read.csv(file)\n",
    "  \n",
    "  # Select the SNP with the highest SNP.PP value\n",
    "  best_snp <- data %>%\n",
    "    slice_max(SNP.PP, n = 1) %>%  # Select row(s) with the max SNP.PP\n",
    "    mutate(gene = gene)           # Add the gene name\n",
    "  \n",
    "  # Append to the results list\n",
    "  results_list[[gene]] <- best_snp\n",
    "}\n",
    "\n",
    "# Combine all results into a single dataframe\n",
    "final_results <- bind_rows(results_list)\n",
    "\n",
    "# Export the results to a CSV file\n",
    "output_file <- \"top_snp_per_gene_lat.csv\"  # Desired output file name\n",
    "write.csv(final_results, output_file, row.names = FALSE)\n",
    "\n",
    "# Print the first few rows of the final results\n",
    "print(head(final_results))"
   ]
  },
  {
   "cell_type": "code",
   "execution_count": null,
   "id": "f62d04fb-2b81-4164-8131-9db2f5047ae1",
   "metadata": {
    "vscode": {
     "languageId": "r"
    }
   },
   "outputs": [],
   "source": []
  }
 ],
 "metadata": {
  "kernelspec": {
   "display_name": "R/4.4",
   "language": "R",
   "name": "ir44"
  },
  "language_info": {
   "codemirror_mode": "r",
   "file_extension": ".r",
   "mimetype": "text/x-r-source",
   "name": "R",
   "pygments_lexer": "r",
   "version": "4.4.2"
  }
 },
 "nbformat": 4,
 "nbformat_minor": 5
}
