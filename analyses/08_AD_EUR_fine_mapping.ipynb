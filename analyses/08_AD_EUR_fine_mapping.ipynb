{
 "cells": [
  {
   "cell_type": "markdown",
   "id": "386e5c79-7632-434c-a144-5fdcc42b5107",
   "metadata": {},
   "source": [
    "# Fine-mapping of AD-related risk loci in European summary statistics\n",
    "* Project: Cross-ancestry PAR\n",
    "* Version: R/4.4\n",
    "* Status: Complete\n",
    "* Last Updated: 13-FEB-2025"
   ]
  },
  {
   "cell_type": "markdown",
   "id": "482f6852-fe18-4b47-bf5e-126a6cc34e85",
   "metadata": {},
   "source": [
    "## Notebook overview\n",
    "* Extract chromosome and base pair positions from summary statistics for selected loci\n",
    "* Perform fine-mapping and save results"
   ]
  },
  {
   "cell_type": "code",
   "execution_count": 1,
   "id": "a1e57727-805b-425a-bfa0-f0f220bb44c4",
   "metadata": {
    "vscode": {
     "languageId": "r"
    }
   },
   "outputs": [
    {
     "name": "stderr",
     "output_type": "stream",
     "text": [
      "This is coloc version 5.2.3\n",
      "\n",
      "── \u001b[1mAttaching core tidyverse packages\u001b[22m ────────────────────────── tidyverse 2.0.0 ──\n",
      "\u001b[32m✔\u001b[39m \u001b[34mdplyr    \u001b[39m 1.1.4     \u001b[32m✔\u001b[39m \u001b[34mreadr    \u001b[39m 2.1.5\n",
      "\u001b[32m✔\u001b[39m \u001b[34mforcats  \u001b[39m 1.0.0     \u001b[32m✔\u001b[39m \u001b[34mstringr  \u001b[39m 1.5.1\n",
      "\u001b[32m✔\u001b[39m \u001b[34mlubridate\u001b[39m 1.9.3     \u001b[32m✔\u001b[39m \u001b[34mtibble   \u001b[39m 3.2.1\n",
      "\u001b[32m✔\u001b[39m \u001b[34mpurrr    \u001b[39m 1.0.2     \n",
      "── \u001b[1mConflicts\u001b[22m ──────────────────────────────────────────── tidyverse_conflicts() ──\n",
      "\u001b[31m✖\u001b[39m \u001b[34mdplyr\u001b[39m::\u001b[32mbetween()\u001b[39m     masks \u001b[34mdata.table\u001b[39m::between()\n",
      "\u001b[31m✖\u001b[39m \u001b[34mdplyr\u001b[39m::\u001b[32mfilter()\u001b[39m      masks \u001b[34mstats\u001b[39m::filter()\n",
      "\u001b[31m✖\u001b[39m \u001b[34mdplyr\u001b[39m::\u001b[32mfirst()\u001b[39m       masks \u001b[34mdata.table\u001b[39m::first()\n",
      "\u001b[31m✖\u001b[39m \u001b[34mlubridate\u001b[39m::\u001b[32mhour()\u001b[39m    masks \u001b[34mdata.table\u001b[39m::hour()\n",
      "\u001b[31m✖\u001b[39m \u001b[34mlubridate\u001b[39m::\u001b[32misoweek()\u001b[39m masks \u001b[34mdata.table\u001b[39m::isoweek()\n",
      "\u001b[31m✖\u001b[39m \u001b[34mdplyr\u001b[39m::\u001b[32mlag()\u001b[39m         masks \u001b[34mstats\u001b[39m::lag()\n",
      "\u001b[31m✖\u001b[39m \u001b[34mdplyr\u001b[39m::\u001b[32mlast()\u001b[39m        masks \u001b[34mdata.table\u001b[39m::last()\n",
      "\u001b[31m✖\u001b[39m \u001b[34mlubridate\u001b[39m::\u001b[32mmday()\u001b[39m    masks \u001b[34mdata.table\u001b[39m::mday()\n",
      "\u001b[31m✖\u001b[39m \u001b[34mlubridate\u001b[39m::\u001b[32mminute()\u001b[39m  masks \u001b[34mdata.table\u001b[39m::minute()\n",
      "\u001b[31m✖\u001b[39m \u001b[34mlubridate\u001b[39m::\u001b[32mmonth()\u001b[39m   masks \u001b[34mdata.table\u001b[39m::month()\n",
      "\u001b[31m✖\u001b[39m \u001b[34mlubridate\u001b[39m::\u001b[32mquarter()\u001b[39m masks \u001b[34mdata.table\u001b[39m::quarter()\n",
      "\u001b[31m✖\u001b[39m \u001b[34mlubridate\u001b[39m::\u001b[32msecond()\u001b[39m  masks \u001b[34mdata.table\u001b[39m::second()\n",
      "\u001b[31m✖\u001b[39m \u001b[34mpurrr\u001b[39m::\u001b[32mtranspose()\u001b[39m   masks \u001b[34mdata.table\u001b[39m::transpose()\n",
      "\u001b[31m✖\u001b[39m \u001b[34mlubridate\u001b[39m::\u001b[32mwday()\u001b[39m    masks \u001b[34mdata.table\u001b[39m::wday()\n",
      "\u001b[31m✖\u001b[39m \u001b[34mlubridate\u001b[39m::\u001b[32mweek()\u001b[39m    masks \u001b[34mdata.table\u001b[39m::week()\n",
      "\u001b[31m✖\u001b[39m \u001b[34mlubridate\u001b[39m::\u001b[32myday()\u001b[39m    masks \u001b[34mdata.table\u001b[39m::yday()\n",
      "\u001b[31m✖\u001b[39m \u001b[34mlubridate\u001b[39m::\u001b[32myear()\u001b[39m    masks \u001b[34mdata.table\u001b[39m::year()\n",
      "\u001b[36mℹ\u001b[39m Use the conflicted package (\u001b[3m\u001b[34m<http://conflicted.r-lib.org/>\u001b[39m\u001b[23m) to force all conflicts to become errors\n"
     ]
    }
   ],
   "source": [
    "library(\"data.table\")\n",
    "#if (!requireNamespace(\"BiocManager\", quietly = TRUE))\n",
    "#    install.packages(\"BiocManager\")\n",
    "#BiocManager::install(\"snpStats\")\n",
    "library(\"robustbase\")\n",
    "library(ggplot2)\n",
    "library(tidyr)\n",
    "#devtools::install_github(\"chr1swallace/coloc\")\n",
    "library(\"coloc\")\n",
    "library(\"tidyverse\")\n",
    "library(\"readr\")"
   ]
  },
  {
   "cell_type": "code",
   "execution_count": 3,
   "id": "9367cd7f-25b1-49bb-a37d-7475a809e6be",
   "metadata": {
    "vscode": {
     "languageId": "r"
    }
   },
   "outputs": [],
   "source": [
    "## Read dataframe\n",
    "df0 <- fread(\"{WORK_DIR}/AD/summary_stats/Bellenguez_2022/noProxy/EADB-minus-UKB_Nov2022.tsv.gz\", header =T)"
   ]
  },
  {
   "cell_type": "code",
   "execution_count": 4,
   "id": "95011cb1-a929-4de3-8621-b0370b7cefb9",
   "metadata": {
    "vscode": {
     "languageId": "r"
    }
   },
   "outputs": [
    {
     "data": {
      "text/html": [
       "<table class=\"dataframe\">\n",
       "<caption>A data.table: 6 × 13</caption>\n",
       "<thead>\n",
       "\t<tr><th scope=col>MarkerName</th><th scope=col>CHR</th><th scope=col>BP</th><th scope=col>p_value</th><th scope=col>effect_allele</th><th scope=col>other_allele</th><th scope=col>effect_allele_frequency</th><th scope=col>beta</th><th scope=col>standard_error</th><th scope=col>n_cases</th><th scope=col>n_controls</th><th scope=col>het_isq</th><th scope=col>het_pvalue</th></tr>\n",
       "\t<tr><th scope=col>&lt;chr&gt;</th><th scope=col>&lt;int&gt;</th><th scope=col>&lt;int&gt;</th><th scope=col>&lt;chr&gt;</th><th scope=col>&lt;chr&gt;</th><th scope=col>&lt;chr&gt;</th><th scope=col>&lt;dbl&gt;</th><th scope=col>&lt;dbl&gt;</th><th scope=col>&lt;dbl&gt;</th><th scope=col>&lt;int&gt;</th><th scope=col>&lt;int&gt;</th><th scope=col>&lt;dbl&gt;</th><th scope=col>&lt;dbl&gt;</th></tr>\n",
       "</thead>\n",
       "<tbody>\n",
       "\t<tr><td>chr11:12541586:A:G</td><td>11</td><td> 12541586</td><td>0.9486 </td><td>A</td><td>G</td><td>0.3748</td><td> 0.0007</td><td>0.0106</td><td>36659</td><td>63137</td><td>32.7</td><td>0.1371</td></tr>\n",
       "\t<tr><td>chr8:102803998:G:A</td><td> 8</td><td>102803998</td><td>0.1991 </td><td>A</td><td>G</td><td>0.0026</td><td>-0.1579</td><td>0.1230</td><td>32228</td><td>42115</td><td> 0.0</td><td>0.7297</td></tr>\n",
       "\t<tr><td>chr13:55101557:T:C</td><td>13</td><td> 55101557</td><td>0.5626 </td><td>T</td><td>C</td><td>0.9856</td><td>-0.0252</td><td>0.0436</td><td>36227</td><td>62057</td><td> 9.0</td><td>0.3599</td></tr>\n",
       "\t<tr><td>chr7:17885109:C:G </td><td> 7</td><td> 17885109</td><td>0.01901</td><td>C</td><td>G</td><td>0.9989</td><td> 0.5638</td><td>0.2404</td><td>23331</td><td>28992</td><td> 0.0</td><td>0.6406</td></tr>\n",
       "\t<tr><td>chr3:97729697:A:G </td><td> 3</td><td> 97729697</td><td>0.8134 </td><td>A</td><td>G</td><td>0.0183</td><td>-0.0126</td><td>0.0532</td><td>36131</td><td>56626</td><td> 0.0</td><td>0.9542</td></tr>\n",
       "\t<tr><td>chr19:22932213:G:C</td><td>19</td><td> 22932213</td><td>0.8503 </td><td>C</td><td>G</td><td>0.0008</td><td> 0.0531</td><td>0.2812</td><td>26798</td><td>28624</td><td> 0.0</td><td>0.4073</td></tr>\n",
       "</tbody>\n",
       "</table>\n"
      ],
      "text/latex": [
       "A data.table: 6 × 13\n",
       "\\begin{tabular}{lllllllllllll}\n",
       " MarkerName & CHR & BP & p\\_value & effect\\_allele & other\\_allele & effect\\_allele\\_frequency & beta & standard\\_error & n\\_cases & n\\_controls & het\\_isq & het\\_pvalue\\\\\n",
       " <chr> & <int> & <int> & <chr> & <chr> & <chr> & <dbl> & <dbl> & <dbl> & <int> & <int> & <dbl> & <dbl>\\\\\n",
       "\\hline\n",
       "\t chr11:12541586:A:G & 11 &  12541586 & 0.9486  & A & G & 0.3748 &  0.0007 & 0.0106 & 36659 & 63137 & 32.7 & 0.1371\\\\\n",
       "\t chr8:102803998:G:A &  8 & 102803998 & 0.1991  & A & G & 0.0026 & -0.1579 & 0.1230 & 32228 & 42115 &  0.0 & 0.7297\\\\\n",
       "\t chr13:55101557:T:C & 13 &  55101557 & 0.5626  & T & C & 0.9856 & -0.0252 & 0.0436 & 36227 & 62057 &  9.0 & 0.3599\\\\\n",
       "\t chr7:17885109:C:G  &  7 &  17885109 & 0.01901 & C & G & 0.9989 &  0.5638 & 0.2404 & 23331 & 28992 &  0.0 & 0.6406\\\\\n",
       "\t chr3:97729697:A:G  &  3 &  97729697 & 0.8134  & A & G & 0.0183 & -0.0126 & 0.0532 & 36131 & 56626 &  0.0 & 0.9542\\\\\n",
       "\t chr19:22932213:G:C & 19 &  22932213 & 0.8503  & C & G & 0.0008 &  0.0531 & 0.2812 & 26798 & 28624 &  0.0 & 0.4073\\\\\n",
       "\\end{tabular}\n"
      ],
      "text/markdown": [
       "\n",
       "A data.table: 6 × 13\n",
       "\n",
       "| MarkerName &lt;chr&gt; | CHR &lt;int&gt; | BP &lt;int&gt; | p_value &lt;chr&gt; | effect_allele &lt;chr&gt; | other_allele &lt;chr&gt; | effect_allele_frequency &lt;dbl&gt; | beta &lt;dbl&gt; | standard_error &lt;dbl&gt; | n_cases &lt;int&gt; | n_controls &lt;int&gt; | het_isq &lt;dbl&gt; | het_pvalue &lt;dbl&gt; |\n",
       "|---|---|---|---|---|---|---|---|---|---|---|---|---|\n",
       "| chr11:12541586:A:G | 11 |  12541586 | 0.9486  | A | G | 0.3748 |  0.0007 | 0.0106 | 36659 | 63137 | 32.7 | 0.1371 |\n",
       "| chr8:102803998:G:A |  8 | 102803998 | 0.1991  | A | G | 0.0026 | -0.1579 | 0.1230 | 32228 | 42115 |  0.0 | 0.7297 |\n",
       "| chr13:55101557:T:C | 13 |  55101557 | 0.5626  | T | C | 0.9856 | -0.0252 | 0.0436 | 36227 | 62057 |  9.0 | 0.3599 |\n",
       "| chr7:17885109:C:G  |  7 |  17885109 | 0.01901 | C | G | 0.9989 |  0.5638 | 0.2404 | 23331 | 28992 |  0.0 | 0.6406 |\n",
       "| chr3:97729697:A:G  |  3 |  97729697 | 0.8134  | A | G | 0.0183 | -0.0126 | 0.0532 | 36131 | 56626 |  0.0 | 0.9542 |\n",
       "| chr19:22932213:G:C | 19 |  22932213 | 0.8503  | C | G | 0.0008 |  0.0531 | 0.2812 | 26798 | 28624 |  0.0 | 0.4073 |\n",
       "\n"
      ],
      "text/plain": [
       "  MarkerName         CHR BP        p_value effect_allele other_allele\n",
       "1 chr11:12541586:A:G 11   12541586 0.9486  A             G           \n",
       "2 chr8:102803998:G:A  8  102803998 0.1991  A             G           \n",
       "3 chr13:55101557:T:C 13   55101557 0.5626  T             C           \n",
       "4 chr7:17885109:C:G   7   17885109 0.01901 C             G           \n",
       "5 chr3:97729697:A:G   3   97729697 0.8134  A             G           \n",
       "6 chr19:22932213:G:C 19   22932213 0.8503  C             G           \n",
       "  effect_allele_frequency beta    standard_error n_cases n_controls het_isq\n",
       "1 0.3748                   0.0007 0.0106         36659   63137      32.7   \n",
       "2 0.0026                  -0.1579 0.1230         32228   42115       0.0   \n",
       "3 0.9856                  -0.0252 0.0436         36227   62057       9.0   \n",
       "4 0.9989                   0.5638 0.2404         23331   28992       0.0   \n",
       "5 0.0183                  -0.0126 0.0532         36131   56626       0.0   \n",
       "6 0.0008                   0.0531 0.2812         26798   28624       0.0   \n",
       "  het_pvalue\n",
       "1 0.1371    \n",
       "2 0.7297    \n",
       "3 0.3599    \n",
       "4 0.6406    \n",
       "5 0.9542    \n",
       "6 0.4073    "
      ]
     },
     "metadata": {},
     "output_type": "display_data"
    }
   ],
   "source": [
    "head(df0)"
   ]
  },
  {
   "cell_type": "code",
   "execution_count": 5,
   "id": "53d5f508-6579-42cc-bdc6-e3a9482b3eba",
   "metadata": {
    "vscode": {
     "languageId": "r"
    }
   },
   "outputs": [],
   "source": [
    "df0 <- df0 %>% separate(MarkerName, into = c(\"CHR\", \"BP\", \"REF\", \"ALT\"), sep = \":\", remove = FALSE) %>% mutate(CHR = str_remove(CHR, \"chr\")) %>% select(-REF, -ALT)\n",
    "\n",
    "df0$Effect <- df0$beta\n",
    "df0$StdErr <- df0$standard_error\n",
    "df0$`P-value` <- df0$p_value"
   ]
  },
  {
   "cell_type": "code",
   "execution_count": 8,
   "id": "a5866442-d84e-4019-a329-9bc88a2a3807",
   "metadata": {
    "vscode": {
     "languageId": "r"
    }
   },
   "outputs": [],
   "source": [
    "## EXTRACT CHRS - 100KB up & downstream from GWAS hits\n",
    "# APOE rs429358 at chromosome 19, position 44,908,684 & rs7412 at chromosome 19, position 44,908,822\n",
    "APOE_sumstats = subset(df0, CHR==19 & ((BP > 44808684 & BP < 45008684) | (BP > 44808822 & BP < 45008822)))\n",
    "# CR1 rs679515 hit at chromosome 1, position 207,577,223 -> BP range: 207,477,223 - 207,677,223\n",
    "CR1_sumstats = subset(df0, CHR==1 & BP > 207477223 & BP < 207677223)\n",
    "# BIN1 rs6733839 hit at chromosome 2, position 127,135,234 -> BP range: 127,035,234 - 127,235,234\n",
    "BIN1_sumstats = subset(df0, CHR==2 & BP > 127035234 & BP < 127235234)\n",
    "# INPP5D rs10933431 hit at chromosome 2, position 233,117,202 -> BP range: 233,017,202 - 233,217,202\n",
    "INPP5D_sumstats = subset(df0, CHR==2 & BP > 233017202 & BP < 233217202)\n",
    "# MAPT rs199515 hit at chromosome 17, position 46,779,275 -> BP range: 46,679,275 - 46,879,275\n",
    "MAPT_sumstats = subset(df0, CHR==17 & BP > 46679275 & BP < 46879275)\n",
    "# CLNK rs6846529 hit at chromosome 4, position 11,023,507 -> BP range: 10,923,507 - 11,123,507\n",
    "CLNK_sumstats = subset(df0, CHR==4 & BP > 10923507 & BP < 11123507)\n",
    "# HLA-DQA1 rs6605556 at chromosome 6, position 32,615,322 -> BP range: 32,515,322 - 32,715,322\n",
    "HLA_sumstats = subset(df0, CHR==6 & BP > 32515322 & BP < 32715322)\n",
    "# UNC5CL rs10947943 hit at chromosome 6, position 41,036,354 -> BP range: 40,936,354 - 41,136,354\n",
    "UNC5CL_sumstats = subset(df0, CHR==6 & BP > 40936354 & BP < 41136354)\n",
    "# TREM2 rs143442484 hit at chromosome 6, position 41,161,469 & rs75932628 at chromosome 6, position 41,161514\n",
    "TREM2_sumstats = subset(df0, CHR==6 & ((BP > 41061469 & BP < 41261469) | (BP > 41061514 & BP < 41261514)))\n",
    "# TREML2 rs60755019 hit at chromosome 6, position 41,181,270 -> BP range: 41,081,270 - 41,281,270\n",
    "TREML2_sumstats = subset(df0, CHR==6 & BP > 41081270 & BP < 41281270)\n",
    "# CD2AP rs7767350 hit at chromosome 6, position 47,517,390 -> BP range: 47,417,390 - 47,617,390\n",
    "CD2AP_sumstats = subset(df0, CHR==6 & BP > 47417390 & BP < 47617390)\n",
    "# EPDR1 rs6966331 hit at chromosome 7, position 37,844,191 -> BP range: 37,744,191 - 37,944,191\n",
    "EPDR1_sumstats = subset(df0, CHR==7 & BP > 37920640 & BP < 37951936)\n",
    "# SPDYE3 rs7384878 hit at chromosome 7, position 100,334,426 -> BP range: 100,234,426 - 100,434,426\n",
    "SPDYE3_sumstats = subset(df0, CHR==7 & BP > 100307702 & BP < 100322196)\n",
    "# EPHA1 rs11771145 hit at chromosome 7, position 143,413,669 -> BP range: 143,313,669 - 143,513,669\n",
    "EPHA1_sumstats = subset(df0, CHR==7 & BP > 143313669 & BP < 143513669)\n",
    "# PTK2B rs73223431 hit at chromosome 8, position 27,362,470 -> BP range: 27,262,470 - 27,462,470\n",
    "PTK2B_sumstats = subset(df0, CHR==8 & BP > 27262470 & BP < 27462470)\n",
    "# CLU rs11787077 hit at chromosome 8, position 27,607,795 -> BP range: 27,507,795 - 27,707,795\n",
    "CLU_sumstats = subset(df0, CHR==8 & BP > 27507795 & BP < 27707795)\n",
    "# USP6NL rs7912495 hit at chromosome 10, position 11,676,714 -> BP range: 11,576,714 - 11,776,714\n",
    "USP6NL_sumstats = subset(df0, CHR==10 & BP > 11576714 & BP < 11776714)\n",
    "# SPI1 rs10437655 hit at chromosome 11, position 47,370,397 -> BP range: 47,270,397 - 47,470,397\n",
    "SPI1_sumstats = subset(df0, CHR==11 & BP > 47270397 & BP < 47470397)\n",
    "# MS4A4A rs1582763 hit at chromosome 11, position 60,254,475 -> BP range: 60,154,475 - 60,354,475\n",
    "MS4A4A_sumstats = subset(df0, CHR==11 & BP > 60154475 & BP < 60354475)\n",
    "# PICALM rs3851179 hit at chromosome 11, position 86,157,598 -> BP range: 86,057,598 - 86,257,598\n",
    "PICALM_sumstats = subset(df0, CHR==11 & BP > 86057598 & BP < 86257598)\n",
    "# SORL1 rs74685827 hit at chromosome 11, position 121,482,368 & rs11218343 at chromosome 11, position 121,564,878\n",
    "SORL1_sumstats = subset(df0, CHR==11 & ((BP > 121382368 & BP < 121582368) | (BP > 121464878 & BP < 121664878)))\n",
    "# FERMT2 rs17125924 hit at chromosome 14, position 52,924,962 -> BP range: 52,824,962 - 53,024,962\n",
    "FERMT2_sumstats = subset(df0, CHR==14 & BP > 52824962  & BP < 53024962)\n",
    "# SLC24A4 rs7401792 hit at chromosome 14, position 92,464,917 & rs12590654 at chromosome 14, position 92,472,511\n",
    "SLC24A4_sumstats = subset(df0, CHR==14 & ((BP > 92364917 & BP < 92564917) | (BP > 92372511 & BP < 92572511)))\n",
    "# SPPL2A rs8025980 hit at chromosome 15, position 50,701,814 -> BP range: 50,601,814 - 50,801,814\n",
    "SPPL2A_sumstats = subset(df0, CHR==15 & BP > 50601814 & BP < 50801814)\n",
    "# ADAM10 rs602602 hit at chromosome 15, position 58,764,824 -> BP range: 58,664,824 - 58,864,824\n",
    "ADAM10_sumstats = subset(df0, CHR==15 & BP > 58664824 & BP < 58864824)\n",
    "# APH1B rs117618017 hit at chromosome 15, position 63,277,703 -> BP range: 63,177,703 - 63,377,703\n",
    "APH1B_sumstats = subset(df0, CHR==15 & BP > 63177703 & BP < 63377703)\n",
    "# BCKDK rs889555 hit at chromosome 16, position 31,111,250 -> BP range: 31,011,250 - 31,211,250\n",
    "BCKDK_sumstats = subset(df0, CHR==16 & BP > 31011250 & BP < 31211250)\n",
    "# IL34 rs4985556 hit at chromosome 16, position 70,660,097 -> BP range: 70,560,097 - 70,760,097\n",
    "IL34_sumstats = subset(df0, CHR==16 & BP > 70560097 & BP < 70760097)\n",
    "# PLCG2 rs12446759 hit at chromosome 16, position 81,739,398 & rs72824905 at chromosome 16, position 81,908,423\n",
    "PLCG2_sumstats = subset(df0, CHR==16 & ((BP > 81639398 & BP < 81839398) | (BP > 81808423 & BP < 82008423)))\n",
    "# SCIMP rs7225151 hit at chromosome 17, position 5,233,752 -> BP range: 5,133,752 - 5,333,752\n",
    "SCIMP_sumstats = subset(df0, CHR==17 & BP > 5133752 & BP < 5333752)\n",
    "# ABI3 rs616338 hit at chromosome 17, position 49,219,935 -> BP range: 49,119,935 - 49,319,935\n",
    "ABI3_sumstats = subset(df0, CHR==17 & BP > 49119935 & BP < 49319935)\n",
    "# TSPOAP1 rs2526377 hit at chromosome 17, position 58,332,680 -> BP range: 58,232,680 - 58,432,680\n",
    "TSPOAP1_sumstats = subset(df0, CHR==17 & BP > 58232680 & BP < 58432680)\n",
    "# ACE rs4277405 hit at chromosome 17, position 63,471,557 -> BP range: 63,371,557 - 63,571,557\n",
    "ACE_sumstats = subset(df0, CHR==17 & BP > 63371557 & BP < 63571557)\n",
    "# ABCA7 rs12151021 hit at chromosome 19, position 1,050,875 -> BP range: 950,875 - 1,150,875\n",
    "ABCA7_sumstats = subset(df0, CHR==19 & BP > 950875 & BP < 1150875)\n",
    "# CASS4 rs6014724 hit at chromosome 20, position 56,423,488 -> BP range: 56,323,488 - 56,523,488\n",
    "CASS4_sumstats = subset(df0, CHR==20 & BP > 56323488 & BP < 56523488)\n",
    "# ADAMTS1 rs2830489 hit at chromosome 21, position 26,775,872 -> BP range: 26,675,872 - 26,875,872\n",
    "ADAMTS1_sumstats = subset(df0, CHR==21 & BP > 26675872 & BP < 26875872)\n",
    "# SORT1 rs141749679 hit at chromosome 1, position 109,345,810 -> BP range: 109,245,810 - 109,445,810\n",
    "SORT1_sumstats = subset(df0, CHR==1 & BP > 109245810 & BP < 109445810)\n",
    "# ADAM17 rs72777026 hit at chromosome 2, position 9,558,882 -> BP range: 9,458,882 - 9,658,882\n",
    "ADAM17_sumstats = subset(df0, CHR==2 & BP > 9458882 & BP < 9658882)\n",
    "# PRKD3 rs17020490 hit at chromosome 2, position 37,304,796 -> BP range: 37,204,796 - 37,404,796\n",
    "PRKD3_sumstats = subset(df0, CHR==2 & BP > 37204796 & BP < 37404796)\n",
    "# NCK2 rs143080277 hit at chromosome 2, position 105,749,599 -> BP range: 105,649,599 - 105,849,599\n",
    "NCK2_sumstats = subset(df0, CHR==2 & BP > 105649599 & BP < 105849599)\n",
    "# WDR12 rs139643391 hit at chromosome 2, position 202,878,716 -> BP range: 202,778,716 - 202,978,716\n",
    "WDR12_sumstats = subset(df0, CHR==2 & BP > 202778716 & BP < 202978716)\n",
    "# MME rs16824536 hit at chromosome 3, position 155,069,722 & rs61762319 at chromosome 3, position 155,084,189\n",
    "MME_sumstats = subset(df0, CHR==3 & ((BP > 154969722 & BP < 155169722) | (BP > 154984189 & BP < 155184189)))\n",
    "# IDUA rs3822030 hit at chromosome 4, position 993,555 -> BP range: 893,555 - 1,093,555\n",
    "IDUA_sumstats = subset(df0, CHR==4 & BP > 893555 & BP < 1093555)\n",
    "# RHOH rs2245466 hit at chromosome 4, position 40,197,226 -> BP range: 40,097,226 - 40,297,226\n",
    "RHOH_sumstats = subset(df0, CHR==4 & BP > 40097226 & BP < 40297226) \n",
    "# ANKH rs112403360 hit at chromosome 5, position 14,724,304 -> BP range: 14,624,304 - 14,824,304\n",
    "ANKH_sumstats = subset(df0, CHR==5 & BP > 14624304 & BP < 14824304)\n",
    "# COX7C rs62374257 hit at chromosome 5, position 86,927,378 -> BP range: 86,827,378 - 87,027,378\n",
    "COX7C_sumstats = subset(df0, CHR==5 & BP > 86827378 & BP < 87027378)\n",
    "# TNIP1 rs871269 hit at chromosome 5, position 151,052,827 -> BP range: 150,952,827 - 151,152,827\n",
    "TNIP1_sumstats = subset(df0, CHR==5 & BP > 150952827 & BP < 151152827)\n",
    "# RASGEF1C rs113706587 hit at chromosome 5, position 180,201,150 -> BP range: 180,101,150 - 180,301,150\n",
    "RASGEF1C_sumstats = subset(df0, CHR==5 & BP > 180101150 & BP < 180301150)\n",
    "# HS3ST5 rs785129 hit at chromosome 6, position 114,291,731 -> BP range: 114,191,731 - 114,391,731\n",
    "HS3ST5_sumstats = subset(df0, CHR==6 & BP > 114191731 & BP < 114391731)\n",
    "# UMAD1 rs6943429 hit at chromosome 7, position 7,817,263 -> BP range: 7,717,263 - 7,917,263\n",
    "UMAD1_sumstats = subset(df0, CHR==7 & BP > 7717263 & BP < 7917263)\n",
    "# ICA1 rs10952097 hit at chromosome 7, position 8,204,382 -> BP range: 8,104,382 - 8,304,382\n",
    "ICA1_sumstats = subset(df0, CHR==7 & BP > 8104382 & BP < 8304382)\n",
    "# TMEM106B rs13237518 hit at chromosome 7, position 12,229,967 -> BP range: 12,129,967 - 12,329,967\n",
    "TMEM106B_sumstats = subset(df0, CHR==7 & BP > 12129967 & BP < 12329967)\n",
    "# JAZF1 rs1160871 hit at chromosome 7, position 28,129,126 -> BP range: 28,029,126 - 28,229,126\n",
    "JAZF1_sumstats = subset(df0, CHR==7 & BP > 28029126 & BP < 28229126)\n",
    "# SEC61G rs76928645 hit at chromosome 7, position 54,873,635 -> BP range: 54,773,635 - 54,973,635\n",
    "SEC61G_sumstats = subset(df0, CHR==7 & BP > 54773635 & BP < 54973635)\n",
    "# CTSB rs1065712 hit at chromosome 8, position 11,844,613 -> BP range: 11,744,613 - 11,944,613\n",
    "CTSB_sumstats = subset(df0, CHR==8 & BP > 11744613 & BP < 11944613)\n",
    "# SHARPIN rs34173062 hit at chromosome 8, position 144,103,704 -> BP range: 144,003,704 - 144,203,704\n",
    "SHARPIN_sumstats = subset(df0, CHR==8 & BP > 144003704 & BP < 144203704)\n",
    "# ABCA1 rs1800978 hit at chromosome 9, position 104,903,697 -> BP range: 104,803,697 - 105,003,697\n",
    "ABCA1_sumstats = subset(df0, CHR==9 & BP > 104803697 & BP < 105003697)\n",
    "# ANK3 rs7068231 hit at chromosome 10, position 60,025,170 -> BP range: 59,925,170 - 60,125,170\n",
    "ANK3_sumstats = subset(df0, CHR==10 & BP > 59925170 & BP < 60125170)\n",
    "# TSPAN14 rs6586028 hit at chromosome 10, position 80,494,228 -> BP range: 80,394,228 - 80,594,228\n",
    "TSPAN14_sumstats = subset(df0, CHR==10 & BP > 80394228 & BP < 80594228)\n",
    "# BLNK rs6584063 hit at chromosome 10, position 96,266,650 -> BP range: 96,166,650 - 96,366,650\n",
    "BLNK_sumstats = subset(df0, CHR==10 & BP > 96166650 & BP < 96366650)\n",
    "# PLEKHA1 rs7908662 hit at chromosome 10, position 122,413,396 -> BP range: 122,313,396 - 122,513,396\n",
    "PLEKHA1_sumstats = subset(df0, CHR==10 & BP > 122313396 & BP < 122513396)\n",
    "# TPCN1 rs6489896 hit at chromosome 12, position 113,281,983 -> BP range: 113,181,983 - 113,381,983\n",
    "TPCN1_sumstats = subset(df0, CHR==12 & BP > 113181983 & BP < 113381983)\n",
    "# IGH gene cluster rs7157106 hit at chromosome 14, position 105,761,758 & rs10131280 at chromosome 14, position 106,665,591\n",
    "IGH_sumstats = subset(df0, CHR==12 & ((BP > 105661758 & BP < 105861758) | (BP > 106565591 & BP < 106765591)))\n",
    "# SNX1 rs3848143 hit at chromosome 15, position 64,131,307 -> BP range: 64,031,307 - 64,231,307\n",
    "SNX1_sumstats = subset(df0, CHR==15 & BP > 64031307 & BP < 64231307)\n",
    "# CTSH rs12592898 hit at chromosome 15, position 78,936,857 -> BP range: 78,836,857 - 79,036,857\n",
    "CTSH_sumstats = subset(df0, CHR==15 & BP > 78836857 & BP < 79036857)\n",
    "# DOC2A rs1140239 hit at chromosome 16, position 30,010,081 -> BP range: 29,910,081 - 30,110,081\n",
    "DOC2A_sumstats = subset(df0, CHR==16 & BP > 29910081 & BP < 30110081)\n",
    "# MAF rs450674 hit at chromosome 16, position 79,574,511 -> BP range: 79,474,511 - 79,674,511\n",
    "MAF_sumstats = subset(df0, CHR==16 & BP > 79474511 & BP < 79674511)\n",
    "# FOXF1 rs16941239 hit at chromosome 16, position 86,420,604 -> BP range: 86,320,604 - 86,520,604\n",
    "FOXF1_sumstats = subset(df0, CHR==16 & BP > 86320604 & BP < 86520604)\n",
    "# WDR81 rs35048651 hit at chromosome 17, position 1,728,046 -> BP range: 1,628,046 - 1,828,046\n",
    "WDR81_sumstats = subset(df0, CHR==17 & BP > 1628046 & BP < 1828046)\n",
    "# MYO15A rs2242595 hit at chromosome 17, position 18,156,140 -> BP range: 18,056,140 - 18,256,140\n",
    "MYO15A_sumstats = subset(df0, CHR==17 & BP > 18056140 & BP < 18256140)\n",
    "# GRN rs5848 hit at chromosome 17, position 44,352,876 -> BP range: 44,252,876 - 44,452,876\n",
    "GRN_sumstats = subset(df0, CHR==17 & BP > 44252876 & BP < 44452876)\n",
    "# KLF16 rs149080927 hit at chromosome 19, position 1,854,254 -> BP range: 1,754,254 - 1,954,254\n",
    "KLF16_sumstats = subset(df0, CHR==19 & BP > 1754254 & BP < 1954254)\n",
    "# SIGLEC11 rs9304690 hit at chromosome 19, position 49,950,060 -> BP range: 49,850,060 - 50,050,060\n",
    "SIGLEC11_sumstats = subset(df0, CHR==19 & BP > 49850060 & BP < 50050060)\n",
    "# LILRB2 rs587709 hit at chromosome 19, position 54,267,597 -> BP range: 54,167,597 - 54,367,597\n",
    "LILRB2_sumstats = subset(df0, CHR==19 & BP > 54167597 & BP < 54367597)\n",
    "# RBCK1 rs1358782 hit at chromosome 20, position 413,334 -> BP range: 313,334 - 513,334\n",
    "RBCK1_sumstats = subset(df0, CHR==20 & BP > 313334 & BP < 513334)\n",
    "# SLC2A4RG rs6742 hit at chromosome 20, position 63,743,088 -> BP range: 63,643,088 - 63,843,088\n",
    "SLC2A4RG_sumstats = subset(df0, CHR==20 & BP > 63643088 & BP < 63843088)\n",
    "# APP rs2154481 hit at chromosome 21, position 26,101,558 -> BP range: 26,001,558 - 26,201,558\n",
    "APP_sumstats = subset(df0, CHR==21 & BP > 26001558 & BP < 26201558)"
   ]
  },
  {
   "cell_type": "code",
   "execution_count": 9,
   "id": "d952c48c-f5cc-49cf-8167-e3e5cec4fae1",
   "metadata": {
    "vscode": {
     "languageId": "r"
    }
   },
   "outputs": [],
   "source": [
    "## Run for genes\n",
    "genes <- c(\"APOE\",\"CR1\",\"BIN1\",\"INPP5D\",\"MAPT\",\"CLNK\",\"HLA\",\"UNC5CL\",\"TREM2\",\"TREML2\",\"CD2AP\",\"EPDR1\",\"SPDYE3\",\"EPHA1\",\"PTK2B\",\"CLU\",\"USP6NL\",\"SPI1\",\"MS4A4A\",\"PICALM\",\"SORL1\",\"FERMT2\",\"SLC24A4\",\"SPPL2A\",\"ADAM10\",\"APH1B\",\"BCKDK\",\"IL34\",\"PLCG2\",\"SCIMP\",\"ABI3\",\"TSPOAP1\",\"ACE\",\"ABCA7\",\"CASS4\",\"ADAMTS1\",\"SORT1\",\"ADAM17\",\"PRKD3\",\"NCK2\",\"WDR12\",\"MME\",\"IDUA\",\"RHOH\",\"ANKH\",\"COX7C\",\"TNIP1\",\"RASGEF1C\",\"HS3ST5\",\"UMAD1\",\"ICA1\",\"TMEM106B\",\"JAZF1\",\"SEC61G\",\"CTSB\",\"SHARPIN\",\"ABCA1\",\"ANK3\",\"TSPAN14\",\"BLNK\",\"PLEKHA1\",\"TPCN1\",\"IGH\",\"SNX1\",\"CTSH\",\"DOC2A\",\"MAF\",\"FOXF1\",\"WDR81\",\"MYO15A\",\"GRN\",\"KLF16\",\"SIGLEC11\",\"LILRB2\",\"RBCK1\",\"SLC2A4RG\",\"APP\")"
   ]
  },
  {
   "cell_type": "code",
   "execution_count": 10,
   "id": "98fdf7ca-8a8b-47ee-a644-2782ed9395b3",
   "metadata": {
    "vscode": {
     "languageId": "r"
    }
   },
   "outputs": [],
   "source": [
    "for (gene in genes) {\n",
    "    # Assume gene_sumstats is a data frame with summary statistics for each gene\n",
    "    gene_sumstats <- get(paste0(gene, \"_sumstats\"))  # Get the data frame for the current gene\n",
    "    if (is.data.frame(gene_sumstats)) {\n",
    "        write_tsv(gene_sumstats, paste0(\"{WORK_DIR}/PAR/\", \"/\", gene, \"_ad_variants_eur.tab\"))\n",
    "    } else {\n",
    "        warning(paste(\"No data frame found for\", gene))\n",
    "    }\n",
    "}"
   ]
  },
  {
   "cell_type": "code",
   "execution_count": 11,
   "id": "43aac15f-fb9c-46f3-a1fb-e3527648f3d2",
   "metadata": {
    "vscode": {
     "languageId": "r"
    }
   },
   "outputs": [],
   "source": [
    "## Run for genes\n",
    "genes <- c(\"APOE\",\"CR1\",\"BIN1\",\"INPP5D\",\"MAPT\",\"CLNK\",\"HLA\",\"UNC5CL\",\"TREM2\",\"TREML2\",\"CD2AP\",\"EPDR1\",\"SPDYE3\",\"EPHA1\",\"PTK2B\",\"CLU\",\"USP6NL\",\"SPI1\",\"MS4A4A\",\"PICALM\",\"SORL1\",\"FERMT2\",\"SLC24A4\",\"SPPL2A\",\"ADAM10\",\"APH1B\",\"BCKDK\",\"IL34\",\"PLCG2\",\"SCIMP\",\"ABI3\",\"TSPOAP1\",\"ACE\",\"ABCA7\",\"CASS4\",\"ADAMTS1\",\"SORT1\",\"ADAM17\",\"PRKD3\",\"NCK2\",\"WDR12\",\"MME\",\"IDUA\",\"RHOH\",\"ANKH\",\"COX7C\",\"TNIP1\",\"RASGEF1C\",\"HS3ST5\",\"UMAD1\",\"ICA1\",\"TMEM106B\",\"JAZF1\",\"SEC61G\",\"CTSB\",\"SHARPIN\",\"ABCA1\",\"ANK3\",\"TSPAN14\",\"BLNK\",\"PLEKHA1\",\"TPCN1\",\"IGH\",\"SNX1\",\"CTSH\",\"DOC2A\",\"MAF\",\"FOXF1\",\"WDR81\",\"MYO15A\",\"GRN\",\"KLF16\",\"SIGLEC11\",\"LILRB2\",\"RBCK1\",\"SLC2A4RG\",\"APP\")"
   ]
  },
  {
   "cell_type": "code",
   "execution_count": 12,
   "id": "ddeadd5b-97c5-4858-96d8-1020b3c1f63b",
   "metadata": {
    "vscode": {
     "languageId": "r"
    }
   },
   "outputs": [],
   "source": [
    "for (gene in genes) {\n",
    "    input_file <- paste0(\"{WORK_DIR}/PAR/\", gene, \"_ad_variants_eur.tab\")\n",
    "    output_file <- paste0(\"{WORK_DIR}/PAR/\", gene, \"_Bellenguez_2022.csv\")\n",
    "    \n",
    "    # Read in the dataset\n",
    "    dataset1 <- fread(input_file, header = TRUE, sep = \"\\t\")\n",
    "    \n",
    "    # Remove duplicated rows based on the 'MarkerName' column\n",
    "    dataset1 <- dataset1[!duplicated(dataset1$MarkerName), ]\n",
    "    \n",
    "    # Add a new column 'StdErr_squared' by squaring 'StdErr'\n",
    "    dataset_final <- dataset1 %>% mutate(StdErr_squared = StdErr^2)\n",
    "    \n",
    "    # Select the required columns and rename them\n",
    "    output <- dataset_final[, c(\"MarkerName\", \"Effect\", \"P-value\", \"StdErr_squared\")]\n",
    "    colnames(output) <- c(\"SNP\", \"beta\", \"P\", \"varbeta\")\n",
    "    \n",
    "    # Write the output to a CSV file\n",
    "    fwrite(output, file = output_file, na = \"NA\", quote = FALSE, row.names = FALSE, sep = \"\\t\")\n",
    "}"
   ]
  },
  {
   "cell_type": "code",
   "execution_count": 13,
   "id": "694aa4da-85ff-4fb9-bf1d-0e2670493f31",
   "metadata": {
    "vscode": {
     "languageId": "r"
    }
   },
   "outputs": [],
   "source": [
    "## Run for genes\n",
    "genes <- c(\"APOE\",\"CR1\",\"BIN1\",\"INPP5D\",\"MAPT\",\"CLNK\",\"HLA\",\"UNC5CL\",\"TREM2\",\"TREML2\",\"CD2AP\",\"EPDR1\",\"SPDYE3\",\"EPHA1\",\"PTK2B\",\"CLU\",\"USP6NL\",\"SPI1\",\"MS4A4A\",\"PICALM\",\"SORL1\",\"FERMT2\",\"SLC24A4\",\"SPPL2A\",\"ADAM10\",\"APH1B\",\"BCKDK\",\"IL34\",\"PLCG2\",\"SCIMP\",\"ABI3\",\"TSPOAP1\",\"ACE\",\"ABCA7\",\"CASS4\",\"ADAMTS1\",\"SORT1\",\"ADAM17\",\"PRKD3\",\"NCK2\",\"WDR12\",\"MME\",\"IDUA\",\"RHOH\",\"ANKH\",\"COX7C\",\"TNIP1\",\"RASGEF1C\",\"HS3ST5\",\"UMAD1\",\"ICA1\",\"TMEM106B\",\"JAZF1\",\"SEC61G\",\"CTSB\",\"SHARPIN\",\"ABCA1\",\"ANK3\",\"TSPAN14\",\"BLNK\",\"PLEKHA1\",\"TPCN1\",\"IGH\",\"SNX1\",\"CTSH\",\"DOC2A\",\"MAF\",\"FOXF1\",\"WDR81\",\"MYO15A\",\"GRN\",\"KLF16\",\"SIGLEC11\",\"LILRB2\",\"RBCK1\",\"SLC2A4RG\",\"APP\")"
   ]
  },
  {
   "cell_type": "code",
   "execution_count": 14,
   "id": "fe4d20d6-08e7-40d1-8c5e-ff7b6e38d0a5",
   "metadata": {
    "vscode": {
     "languageId": "r"
    }
   },
   "outputs": [
    {
     "name": "stderr",
     "output_type": "stream",
     "text": [
      "Warning message in check_dataset(dataset, \"\"):\n",
      "“minimum p value is: 0.00012938\n",
      "If this is what you expected, this is not a problem.\n",
      "If this is not as small as you expected, please check you supplied var(beta) and not sd(beta) for the varbeta argument. If that's not the explanation, please check the 02_data vignette.”\n",
      "Warning message in check_dataset(dataset, \"\"):\n",
      "“minimum p value is: 0.0067688\n",
      "If this is what you expected, this is not a problem.\n",
      "If this is not as small as you expected, please check you supplied var(beta) and not sd(beta) for the varbeta argument. If that's not the explanation, please check the 02_data vignette.”\n",
      "Warning message in check_dataset(dataset, \"\"):\n",
      "“minimum p value is: 1.4749e-06\n",
      "If this is what you expected, this is not a problem.\n",
      "If this is not as small as you expected, please check you supplied var(beta) and not sd(beta) for the varbeta argument. If that's not the explanation, please check the 02_data vignette.”\n",
      "Warning message in check_dataset(dataset, \"\"):\n",
      "“minimum p value is: 0.00062158\n",
      "If this is what you expected, this is not a problem.\n",
      "If this is not as small as you expected, please check you supplied var(beta) and not sd(beta) for the varbeta argument. If that's not the explanation, please check the 02_data vignette.”\n",
      "Warning message in check_dataset(dataset, \"\"):\n",
      "“minimum p value is: 3.888e-05\n",
      "If this is what you expected, this is not a problem.\n",
      "If this is not as small as you expected, please check you supplied var(beta) and not sd(beta) for the varbeta argument. If that's not the explanation, please check the 02_data vignette.”\n",
      "Warning message in check_dataset(dataset, \"\"):\n",
      "“minimum p value is: 1.1874e-05\n",
      "If this is what you expected, this is not a problem.\n",
      "If this is not as small as you expected, please check you supplied var(beta) and not sd(beta) for the varbeta argument. If that's not the explanation, please check the 02_data vignette.”\n",
      "Warning message in check_dataset(dataset, \"\"):\n",
      "“minimum p value is: 1.4551e-06\n",
      "If this is what you expected, this is not a problem.\n",
      "If this is not as small as you expected, please check you supplied var(beta) and not sd(beta) for the varbeta argument. If that's not the explanation, please check the 02_data vignette.”\n",
      "Warning message in check_dataset(dataset, \"\"):\n",
      "“minimum p value is: 6.9144e-06\n",
      "If this is what you expected, this is not a problem.\n",
      "If this is not as small as you expected, please check you supplied var(beta) and not sd(beta) for the varbeta argument. If that's not the explanation, please check the 02_data vignette.”\n",
      "Warning message in check_dataset(dataset, \"\"):\n",
      "“minimum p value is: 1.2254e-05\n",
      "If this is what you expected, this is not a problem.\n",
      "If this is not as small as you expected, please check you supplied var(beta) and not sd(beta) for the varbeta argument. If that's not the explanation, please check the 02_data vignette.”\n",
      "Warning message in check_dataset(dataset, \"\"):\n",
      "“minimum p value is: 3.2897e-06\n",
      "If this is what you expected, this is not a problem.\n",
      "If this is not as small as you expected, please check you supplied var(beta) and not sd(beta) for the varbeta argument. If that's not the explanation, please check the 02_data vignette.”\n",
      "Warning message in check_dataset(dataset, \"\"):\n",
      "“minimum p value is: 0.00031983\n",
      "If this is what you expected, this is not a problem.\n",
      "If this is not as small as you expected, please check you supplied var(beta) and not sd(beta) for the varbeta argument. If that's not the explanation, please check the 02_data vignette.”\n",
      "Warning message in check_dataset(dataset, \"\"):\n",
      "“minimum p value is: 2.6576e-06\n",
      "If this is what you expected, this is not a problem.\n",
      "If this is not as small as you expected, please check you supplied var(beta) and not sd(beta) for the varbeta argument. If that's not the explanation, please check the 02_data vignette.”\n",
      "Warning message in check_dataset(dataset, \"\"):\n",
      "“minimum p value is: 0.00096581\n",
      "If this is what you expected, this is not a problem.\n",
      "If this is not as small as you expected, please check you supplied var(beta) and not sd(beta) for the varbeta argument. If that's not the explanation, please check the 02_data vignette.”\n",
      "Warning message in check_dataset(dataset, \"\"):\n",
      "“minimum p value is: 7.8995e-06\n",
      "If this is what you expected, this is not a problem.\n",
      "If this is not as small as you expected, please check you supplied var(beta) and not sd(beta) for the varbeta argument. If that's not the explanation, please check the 02_data vignette.”\n",
      "Warning message in check_dataset(dataset, \"\"):\n",
      "“minimum p value is: 6.7953e-06\n",
      "If this is what you expected, this is not a problem.\n",
      "If this is not as small as you expected, please check you supplied var(beta) and not sd(beta) for the varbeta argument. If that's not the explanation, please check the 02_data vignette.”\n",
      "Warning message in check_dataset(dataset, \"\"):\n",
      "“minimum p value is: 3.3937e-05\n",
      "If this is what you expected, this is not a problem.\n",
      "If this is not as small as you expected, please check you supplied var(beta) and not sd(beta) for the varbeta argument. If that's not the explanation, please check the 02_data vignette.”\n",
      "Warning message in check_dataset(dataset, \"\"):\n",
      "“minimum p value is: 1.8208e-06\n",
      "If this is what you expected, this is not a problem.\n",
      "If this is not as small as you expected, please check you supplied var(beta) and not sd(beta) for the varbeta argument. If that's not the explanation, please check the 02_data vignette.”\n",
      "Warning message in check_dataset(dataset, \"\"):\n",
      "“minimum p value is: 8.6562e-06\n",
      "If this is what you expected, this is not a problem.\n",
      "If this is not as small as you expected, please check you supplied var(beta) and not sd(beta) for the varbeta argument. If that's not the explanation, please check the 02_data vignette.”\n",
      "Warning message in check_dataset(dataset, \"\"):\n",
      "“minimum p value is: 1.7447e-06\n",
      "If this is what you expected, this is not a problem.\n",
      "If this is not as small as you expected, please check you supplied var(beta) and not sd(beta) for the varbeta argument. If that's not the explanation, please check the 02_data vignette.”\n",
      "Warning message in check_dataset(dataset, \"\"):\n",
      "“minimum p value is: 1.9745e-06\n",
      "If this is what you expected, this is not a problem.\n",
      "If this is not as small as you expected, please check you supplied var(beta) and not sd(beta) for the varbeta argument. If that's not the explanation, please check the 02_data vignette.”\n",
      "Warning message in check_dataset(dataset, \"\"):\n",
      "“minimum p value is: 6.3342e-05\n",
      "If this is what you expected, this is not a problem.\n",
      "If this is not as small as you expected, please check you supplied var(beta) and not sd(beta) for the varbeta argument. If that's not the explanation, please check the 02_data vignette.”\n",
      "Warning message in check_dataset(dataset, \"\"):\n",
      "“minimum p value is: 4.7593e-06\n",
      "If this is what you expected, this is not a problem.\n",
      "If this is not as small as you expected, please check you supplied var(beta) and not sd(beta) for the varbeta argument. If that's not the explanation, please check the 02_data vignette.”\n",
      "Warning message in check_dataset(dataset, \"\"):\n",
      "“minimum p value is: 8.0194e-05\n",
      "If this is what you expected, this is not a problem.\n",
      "If this is not as small as you expected, please check you supplied var(beta) and not sd(beta) for the varbeta argument. If that's not the explanation, please check the 02_data vignette.”\n",
      "Warning message in check_dataset(dataset, \"\"):\n",
      "“minimum p value is: 1.7644e-06\n",
      "If this is what you expected, this is not a problem.\n",
      "If this is not as small as you expected, please check you supplied var(beta) and not sd(beta) for the varbeta argument. If that's not the explanation, please check the 02_data vignette.”\n",
      "Warning message in check_dataset(dataset, \"\"):\n",
      "“minimum p value is: 0.00036445\n",
      "If this is what you expected, this is not a problem.\n",
      "If this is not as small as you expected, please check you supplied var(beta) and not sd(beta) for the varbeta argument. If that's not the explanation, please check the 02_data vignette.”\n",
      "Warning message in check_dataset(dataset, \"\"):\n",
      "“minimum p value is: 1.1278e-06\n",
      "If this is what you expected, this is not a problem.\n",
      "If this is not as small as you expected, please check you supplied var(beta) and not sd(beta) for the varbeta argument. If that's not the explanation, please check the 02_data vignette.”\n",
      "Warning message in check_dataset(dataset, \"\"):\n",
      "“minimum p value is: 0.0004145\n",
      "If this is what you expected, this is not a problem.\n",
      "If this is not as small as you expected, please check you supplied var(beta) and not sd(beta) for the varbeta argument. If that's not the explanation, please check the 02_data vignette.”\n",
      "Warning message in check_dataset(dataset, \"\"):\n",
      "“minimum p value is: 4.7186e-06\n",
      "If this is what you expected, this is not a problem.\n",
      "If this is not as small as you expected, please check you supplied var(beta) and not sd(beta) for the varbeta argument. If that's not the explanation, please check the 02_data vignette.”\n",
      "Warning message in check_dataset(dataset, \"\"):\n",
      "“minimum p value is: 0.00048168\n",
      "If this is what you expected, this is not a problem.\n",
      "If this is not as small as you expected, please check you supplied var(beta) and not sd(beta) for the varbeta argument. If that's not the explanation, please check the 02_data vignette.”\n",
      "Warning message in check_dataset(dataset, \"\"):\n",
      "“minimum p value is: 1.2747e-05\n",
      "If this is what you expected, this is not a problem.\n",
      "If this is not as small as you expected, please check you supplied var(beta) and not sd(beta) for the varbeta argument. If that's not the explanation, please check the 02_data vignette.”\n",
      "Warning message in check_dataset(dataset, \"\"):\n",
      "“minimum p value is: 0.0002685\n",
      "If this is what you expected, this is not a problem.\n",
      "If this is not as small as you expected, please check you supplied var(beta) and not sd(beta) for the varbeta argument. If that's not the explanation, please check the 02_data vignette.”\n"
     ]
    }
   ],
   "source": [
    "for (gene in genes) {\n",
    "    input_file <- paste0(\"{WORK_DIR}/PAR/\", gene, \"_Bellenguez_2022.csv\")\n",
    "    output <- fread(input_file, header = TRUE, sep = \"\\t\")\n",
    "    \n",
    "    # Check if output has 0 rows\n",
    "    if (nrow(output) == 0) {\n",
    "        cat(\"No rows in output for gene: \", gene, \". Skipping...\\n\")\n",
    "        next  # Skip to the next gene in the loop\n",
    "    }\n",
    "    \n",
    "    SNP <- output$SNP\n",
    "    beta <- output$beta\n",
    "    varbeta <- output$varbeta\n",
    "    N <- 440683  # 39,106 AD cases vs 440,683 total (39,106 cases, 401,577 controls - Bellenguez et al 2022)\n",
    "    s <- 0.089\n",
    "    type <- 'cc'\n",
    "    \n",
    "    # Create dataset for fine-mapping\n",
    "    dataset <- list(\n",
    "        snp = SNP, \n",
    "        beta = beta, \n",
    "        varbeta = varbeta, \n",
    "        N = N, \n",
    "        s = s, \n",
    "        type = type)\n",
    "        \n",
    "    # Ensure dataset variables are numeric\n",
    "    dataset$snp <- unlist(dataset$snp)\n",
    "    dataset$beta <- unlist(dataset$beta)\n",
    "    dataset$varbeta <- unlist(dataset$varbeta)\n",
    "    \n",
    "    # Assuming finemap.abf() works with a list, otherwise convert to a data.frame\n",
    "    results <- finemap.abf(\n",
    "        dataset = dataset,\n",
    "        p1 = 1e-04  # Optional parameter for p-value threshold (can adjust based on your data)\n",
    "    )\n",
    "        \n",
    "    # Check if results has 0 rows\n",
    "    if (nrow(results) == 0) {\n",
    "        cat(\"No results returned for gene: \", gene, \". Skipping...\\n\")\n",
    "        next  # Skip to the next gene in the loop\n",
    "    }\n",
    "    \n",
    "    # Combine the results with the original output\n",
    "    combo <- cbind(results[1:(nrow(results) - 1),], output)\n",
    "    \n",
    "    # Subset results where SNP.PP > 0.2\n",
    "    hits <- subset(combo, SNP.PP > 0.2)\n",
    "    \n",
    "    # Save the results to a CSV file\n",
    "    final_output_file <- paste0(\"{WORK_DIR}/PAR/\", gene, \"_results_fine_map_Bellenguez.csv\")\n",
    "    fwrite(combo, file = final_output_file, na = \"NA\", quote = F, row.names = F, sep = \",\")\n",
    "    }"
   ]
  },
  {
   "cell_type": "code",
   "execution_count": 15,
   "id": "ca685dbe-b88a-48e7-b170-016eb6f1294d",
   "metadata": {
    "vscode": {
     "languageId": "r"
    }
   },
   "outputs": [
    {
     "name": "stdout",
     "output_type": "stream",
     "text": [
      "          V.        z.        r.     lABF.                 snp prior     SNP.PP\n",
      "1 0.00023409 -5.228758 0.9941818 11.017039 chr9:104903754:G:GC 1e-04 0.37584804\n",
      "2 0.00011664 11.351852 0.9970925 61.324705   chr19:1050875:A:G 1e-04 1.00000000\n",
      "3 0.00267289  5.365571 0.9373633 12.107837  chr17:49219935:T:C 1e-04 0.93810071\n",
      "4 0.00010201 -6.138614 0.9974562 15.806307  chr17:63483402:T:C 1e-04 0.16476466\n",
      "5 0.00013689 -6.427350 0.9965894 17.744533 chr15:58790585:TA:T 1e-04 0.55954096\n",
      "6 0.00015876 -4.373016 0.9960467  6.757233    chr2:9474089:G:T 1e-04 0.03536693\n",
      "                  SNP    beta         P    varbeta   gene\n",
      "1 chr9:104903754:G:GC -0.0800 1.759e-07 0.00023409  ABCA1\n",
      "2   chr19:1050875:A:G  0.1226 7.692e-30 0.00011664  ABCA7\n",
      "3  chr17:49219935:T:C  0.2774 8.180e-08 0.00267289   ABI3\n",
      "4  chr17:63483402:T:C -0.0620 8.077e-10 0.00010201    ACE\n",
      "5 chr15:58790585:TA:T -0.0752 1.306e-10 0.00013689 ADAM10\n",
      "6    chr2:9474089:G:T -0.0551 1.193e-05 0.00015876 ADAM17\n"
     ]
    }
   ],
   "source": [
    "# Define the directory containing the CSV files\n",
    "input_directory <- \"{WORK_DIR}/PAR/\"  # Replace with your directory path\n",
    "\n",
    "# List all files with the pattern \"results_fine_map.csv\" in the directory\n",
    "file_list <- list.files(input_directory, pattern = \"_results_fine_map_Bellenguez.csv$\", full.names = TRUE)\n",
    "\n",
    "# Initialize an empty list to store the results\n",
    "results_list <- list()\n",
    "\n",
    "# Loop through each file\n",
    "for (file in file_list) {\n",
    "  # Extract the gene name from the file name (remove the \"_results_fine_map.csv\" suffix)\n",
    "  gene <- gsub(\"_results_fine_map_Bellenguez\\\\.csv$\", \"\", basename(file))\n",
    "  \n",
    "  # Read the CSV file\n",
    "  data <- read.csv(file)\n",
    "  \n",
    "  # Select the SNP with the highest SNP.PP value\n",
    "  best_snp <- data %>%\n",
    "    slice_max(SNP.PP, n = 1) %>%  # Select row(s) with the max SNP.PP\n",
    "    mutate(gene = gene)           # Add the gene name\n",
    "  \n",
    "  # Append to the results list\n",
    "  results_list[[gene]] <- best_snp\n",
    "}\n",
    "\n",
    "# Combine all results into a single dataframe\n",
    "final_results <- bind_rows(results_list)\n",
    "\n",
    "# Export the results to a CSV file\n",
    "output_file <- \"top_snp_per_gene_eur_ad.csv\"  # Desired output file name\n",
    "write.csv(final_results, output_file, row.names = FALSE)\n",
    "\n",
    "# Print the first few rows of the final results\n",
    "print(head(final_results))"
   ]
  },
  {
   "cell_type": "code",
   "execution_count": null,
   "id": "f62d04fb-2b81-4164-8131-9db2f5047ae1",
   "metadata": {
    "vscode": {
     "languageId": "r"
    }
   },
   "outputs": [],
   "source": []
  }
 ],
 "metadata": {
  "kernelspec": {
   "display_name": "R/4.4",
   "language": "R",
   "name": "ir44"
  },
  "language_info": {
   "codemirror_mode": "r",
   "file_extension": ".r",
   "mimetype": "text/x-r-source",
   "name": "R",
   "pygments_lexer": "r",
   "version": "4.4.2"
  }
 },
 "nbformat": 4,
 "nbformat_minor": 5
}
