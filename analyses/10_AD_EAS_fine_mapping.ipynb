{
 "cells": [
  {
   "cell_type": "markdown",
   "id": "730571f7-71ba-4ab5-882e-631e03ce95ab",
   "metadata": {},
   "source": [
    "# Fine-mapping of AD-related risk loci in East Asian summary statistics\n",
    "* Project: Cross-ancestry PAR\n",
    "* Version: R/4.4\n",
    "* Status: Complete\n",
    "* Last Updated: 13-FEB-2025"
   ]
  },
  {
   "cell_type": "markdown",
   "id": "6d5867dd-9fb3-493a-9a04-05d95e1be0a2",
   "metadata": {},
   "source": [
    "## Notebook overview\n",
    "* Extract chromosome and base pair positions from summary statistics for selected loci\n",
    "* Perform fine-mapping and save results"
   ]
  },
  {
   "cell_type": "code",
   "execution_count": 35,
   "id": "a1e57727-805b-425a-bfa0-f0f220bb44c4",
   "metadata": {
    "vscode": {
     "languageId": "r"
    }
   },
   "outputs": [],
   "source": [
    "library(\"data.table\")\n",
    "#if (!requireNamespace(\"BiocManager\", quietly = TRUE))\n",
    "#    install.packages(\"BiocManager\")\n",
    "#BiocManager::install(\"snpStats\")\n",
    "library(\"robustbase\")\n",
    "library(ggplot2)\n",
    "library(tidyr)\n",
    "#devtools::install_github(\"chr1swallace/coloc\")\n",
    "library(\"coloc\")\n",
    "library(\"tidyverse\")\n",
    "library(\"readr\")"
   ]
  },
  {
   "cell_type": "code",
   "execution_count": 37,
   "id": "9367cd7f-25b1-49bb-a37d-7475a809e6be",
   "metadata": {
    "vscode": {
     "languageId": "r"
    }
   },
   "outputs": [],
   "source": [
    "## Read dataframe\n",
    "df0 <- fread(\"{WORK_DIR}/AD/summary_stats/diverse_ancestry/Shigemizu_2021/NCGG_AD_GWAS2.txt\", header =T)"
   ]
  },
  {
   "cell_type": "code",
   "execution_count": 38,
   "id": "52f44992-97f7-43dd-9891-187bc2b70f45",
   "metadata": {
    "vscode": {
     "languageId": "r"
    }
   },
   "outputs": [
    {
     "data": {
      "text/html": [
       "<table class=\"dataframe\">\n",
       "<caption>A data.table: 6 × 18</caption>\n",
       "<thead>\n",
       "\t<tr><th scope=col>CHR</th><th scope=col>SNP</th><th scope=col>BP</th><th scope=col>A1</th><th scope=col>A2</th><th scope=col>NMISS</th><th scope=col>NMISS_A</th><th scope=col>NMISS_U</th><th scope=col>MAF_A</th><th scope=col>MAF_U</th><th scope=col>OR</th><th scope=col>SE</th><th scope=col>L95</th><th scope=col>U95</th><th scope=col>STAT</th><th scope=col>P</th><th scope=col>Info_NCGG</th><th scope=col>Info_Niigata</th></tr>\n",
       "\t<tr><th scope=col>&lt;int&gt;</th><th scope=col>&lt;chr&gt;</th><th scope=col>&lt;int&gt;</th><th scope=col>&lt;chr&gt;</th><th scope=col>&lt;chr&gt;</th><th scope=col>&lt;int&gt;</th><th scope=col>&lt;int&gt;</th><th scope=col>&lt;int&gt;</th><th scope=col>&lt;dbl&gt;</th><th scope=col>&lt;dbl&gt;</th><th scope=col>&lt;dbl&gt;</th><th scope=col>&lt;dbl&gt;</th><th scope=col>&lt;dbl&gt;</th><th scope=col>&lt;dbl&gt;</th><th scope=col>&lt;dbl&gt;</th><th scope=col>&lt;dbl&gt;</th><th scope=col>&lt;dbl&gt;</th><th scope=col>&lt;dbl&gt;</th></tr>\n",
       "</thead>\n",
       "<tbody>\n",
       "\t<tr><td>1</td><td>rs3094315</td><td>752566</td><td>G</td><td>A</td><td>8035</td><td>3961</td><td>4074</td><td>0.14710</td><td>0.15230</td><td>0.9691</td><td>0.04579</td><td>0.8860</td><td>1.060</td><td>-0.6845</td><td>0.4937</td><td>1.000</td><td>0.999</td></tr>\n",
       "\t<tr><td>1</td><td>rs3115860</td><td>753405</td><td>C</td><td>A</td><td>7936</td><td>3921</td><td>4015</td><td>0.14890</td><td>0.15490</td><td>0.9668</td><td>0.04571</td><td>0.8840</td><td>1.057</td><td>-0.7385</td><td>0.4602</td><td>0.966</td><td>0.989</td></tr>\n",
       "\t<tr><td>1</td><td>rs2073813</td><td>753541</td><td>A</td><td>G</td><td>7723</td><td>3797</td><td>3926</td><td>0.37410</td><td>0.38350</td><td>0.9759</td><td>0.03514</td><td>0.9110</td><td>1.045</td><td>-0.6944</td><td>0.4874</td><td>0.969</td><td>0.979</td></tr>\n",
       "\t<tr><td>1</td><td>rs3131969</td><td>754182</td><td>A</td><td>G</td><td>7724</td><td>3795</td><td>3929</td><td>0.37400</td><td>0.38370</td><td>0.9746</td><td>0.03514</td><td>0.9097</td><td>1.044</td><td>-0.7322</td><td>0.4640</td><td>0.969</td><td>0.978</td></tr>\n",
       "\t<tr><td>1</td><td>rs3131968</td><td>754192</td><td>A</td><td>G</td><td>7724</td><td>3795</td><td>3929</td><td>0.37400</td><td>0.38370</td><td>0.9746</td><td>0.03514</td><td>0.9097</td><td>1.044</td><td>-0.7322</td><td>0.4640</td><td>0.969</td><td>0.978</td></tr>\n",
       "\t<tr><td>1</td><td>rs4372192</td><td>876499</td><td>A</td><td>G</td><td>7959</td><td>3917</td><td>4042</td><td>0.04353</td><td>0.04181</td><td>1.0380</td><td>0.08228</td><td>0.8836</td><td>1.220</td><td> 0.4561</td><td>0.6483</td><td>0.980</td><td>0.907</td></tr>\n",
       "</tbody>\n",
       "</table>\n"
      ],
      "text/latex": [
       "A data.table: 6 × 18\n",
       "\\begin{tabular}{llllllllllllllllll}\n",
       " CHR & SNP & BP & A1 & A2 & NMISS & NMISS\\_A & NMISS\\_U & MAF\\_A & MAF\\_U & OR & SE & L95 & U95 & STAT & P & Info\\_NCGG & Info\\_Niigata\\\\\n",
       " <int> & <chr> & <int> & <chr> & <chr> & <int> & <int> & <int> & <dbl> & <dbl> & <dbl> & <dbl> & <dbl> & <dbl> & <dbl> & <dbl> & <dbl> & <dbl>\\\\\n",
       "\\hline\n",
       "\t 1 & rs3094315 & 752566 & G & A & 8035 & 3961 & 4074 & 0.14710 & 0.15230 & 0.9691 & 0.04579 & 0.8860 & 1.060 & -0.6845 & 0.4937 & 1.000 & 0.999\\\\\n",
       "\t 1 & rs3115860 & 753405 & C & A & 7936 & 3921 & 4015 & 0.14890 & 0.15490 & 0.9668 & 0.04571 & 0.8840 & 1.057 & -0.7385 & 0.4602 & 0.966 & 0.989\\\\\n",
       "\t 1 & rs2073813 & 753541 & A & G & 7723 & 3797 & 3926 & 0.37410 & 0.38350 & 0.9759 & 0.03514 & 0.9110 & 1.045 & -0.6944 & 0.4874 & 0.969 & 0.979\\\\\n",
       "\t 1 & rs3131969 & 754182 & A & G & 7724 & 3795 & 3929 & 0.37400 & 0.38370 & 0.9746 & 0.03514 & 0.9097 & 1.044 & -0.7322 & 0.4640 & 0.969 & 0.978\\\\\n",
       "\t 1 & rs3131968 & 754192 & A & G & 7724 & 3795 & 3929 & 0.37400 & 0.38370 & 0.9746 & 0.03514 & 0.9097 & 1.044 & -0.7322 & 0.4640 & 0.969 & 0.978\\\\\n",
       "\t 1 & rs4372192 & 876499 & A & G & 7959 & 3917 & 4042 & 0.04353 & 0.04181 & 1.0380 & 0.08228 & 0.8836 & 1.220 &  0.4561 & 0.6483 & 0.980 & 0.907\\\\\n",
       "\\end{tabular}\n"
      ],
      "text/markdown": [
       "\n",
       "A data.table: 6 × 18\n",
       "\n",
       "| CHR &lt;int&gt; | SNP &lt;chr&gt; | BP &lt;int&gt; | A1 &lt;chr&gt; | A2 &lt;chr&gt; | NMISS &lt;int&gt; | NMISS_A &lt;int&gt; | NMISS_U &lt;int&gt; | MAF_A &lt;dbl&gt; | MAF_U &lt;dbl&gt; | OR &lt;dbl&gt; | SE &lt;dbl&gt; | L95 &lt;dbl&gt; | U95 &lt;dbl&gt; | STAT &lt;dbl&gt; | P &lt;dbl&gt; | Info_NCGG &lt;dbl&gt; | Info_Niigata &lt;dbl&gt; |\n",
       "|---|---|---|---|---|---|---|---|---|---|---|---|---|---|---|---|---|---|\n",
       "| 1 | rs3094315 | 752566 | G | A | 8035 | 3961 | 4074 | 0.14710 | 0.15230 | 0.9691 | 0.04579 | 0.8860 | 1.060 | -0.6845 | 0.4937 | 1.000 | 0.999 |\n",
       "| 1 | rs3115860 | 753405 | C | A | 7936 | 3921 | 4015 | 0.14890 | 0.15490 | 0.9668 | 0.04571 | 0.8840 | 1.057 | -0.7385 | 0.4602 | 0.966 | 0.989 |\n",
       "| 1 | rs2073813 | 753541 | A | G | 7723 | 3797 | 3926 | 0.37410 | 0.38350 | 0.9759 | 0.03514 | 0.9110 | 1.045 | -0.6944 | 0.4874 | 0.969 | 0.979 |\n",
       "| 1 | rs3131969 | 754182 | A | G | 7724 | 3795 | 3929 | 0.37400 | 0.38370 | 0.9746 | 0.03514 | 0.9097 | 1.044 | -0.7322 | 0.4640 | 0.969 | 0.978 |\n",
       "| 1 | rs3131968 | 754192 | A | G | 7724 | 3795 | 3929 | 0.37400 | 0.38370 | 0.9746 | 0.03514 | 0.9097 | 1.044 | -0.7322 | 0.4640 | 0.969 | 0.978 |\n",
       "| 1 | rs4372192 | 876499 | A | G | 7959 | 3917 | 4042 | 0.04353 | 0.04181 | 1.0380 | 0.08228 | 0.8836 | 1.220 |  0.4561 | 0.6483 | 0.980 | 0.907 |\n",
       "\n"
      ],
      "text/plain": [
       "  CHR SNP       BP     A1 A2 NMISS NMISS_A NMISS_U MAF_A   MAF_U   OR    \n",
       "1 1   rs3094315 752566 G  A  8035  3961    4074    0.14710 0.15230 0.9691\n",
       "2 1   rs3115860 753405 C  A  7936  3921    4015    0.14890 0.15490 0.9668\n",
       "3 1   rs2073813 753541 A  G  7723  3797    3926    0.37410 0.38350 0.9759\n",
       "4 1   rs3131969 754182 A  G  7724  3795    3929    0.37400 0.38370 0.9746\n",
       "5 1   rs3131968 754192 A  G  7724  3795    3929    0.37400 0.38370 0.9746\n",
       "6 1   rs4372192 876499 A  G  7959  3917    4042    0.04353 0.04181 1.0380\n",
       "  SE      L95    U95   STAT    P      Info_NCGG Info_Niigata\n",
       "1 0.04579 0.8860 1.060 -0.6845 0.4937 1.000     0.999       \n",
       "2 0.04571 0.8840 1.057 -0.7385 0.4602 0.966     0.989       \n",
       "3 0.03514 0.9110 1.045 -0.6944 0.4874 0.969     0.979       \n",
       "4 0.03514 0.9097 1.044 -0.7322 0.4640 0.969     0.978       \n",
       "5 0.03514 0.9097 1.044 -0.7322 0.4640 0.969     0.978       \n",
       "6 0.08228 0.8836 1.220  0.4561 0.6483 0.980     0.907       "
      ]
     },
     "metadata": {},
     "output_type": "display_data"
    }
   ],
   "source": [
    "head(df0)"
   ]
  },
  {
   "cell_type": "code",
   "execution_count": 39,
   "id": "53d5f508-6579-42cc-bdc6-e3a9482b3eba",
   "metadata": {
    "vscode": {
     "languageId": "r"
    }
   },
   "outputs": [],
   "source": [
    "# Rename columns\n",
    "df0$Effect <- log(df0$OR)\n",
    "df0$`P-value` <- df0$P\n",
    "df0$StdErr <- df0$SE\n",
    "df0$MarkerName <- paste(df0$CHR, df0$BP, sep = \":\")"
   ]
  },
  {
   "cell_type": "code",
   "execution_count": 40,
   "id": "a5866442-d84e-4019-a329-9bc88a2a3807",
   "metadata": {
    "vscode": {
     "languageId": "r"
    }
   },
   "outputs": [],
   "source": [
    "## EXTRACT CHRS - 100KB up & downstream from GWAS hits\n",
    "# APOE rs429358 at chromosome 19, position 45,411,941 & rs7412 at chromosome 19, position 45,412,079\n",
    "APOE_sumstats = subset(df0, CHR==19 & ((BP > 45311941 & BP < 45511941) | (BP > 45312079 & BP < 45512079)))\n",
    "# FAM47E hit at chromosome 4, position 77,138,460 -> BP range: 77,038,460 - 77,238,460\n",
    "FAM47E_sumstats = subset(df0, CHR==4 & BP > 77038460 & BP < 77238460)\n",
    "# PAPOLG hit at chromosome 2, position 61,020,078 -> BP range: 60,920,078 - 61,120,078\n",
    "PAPOLG_sumstats = subset(df0, CHR==2 & BP > 60920078 & BP < 61120078)\n",
    "# RAB3C hit at chromosome 5, position 58,089,867 -> BP range: 57,989,867 - 58,189,867\n",
    "RAB3C_sumstats = subset(df0, CHR==5 & BP > 57989867 & BP < 58189867)\n",
    "# BANK1 hit at chromosome 4, position 102,551,570 -> BP range: 102,451,570 - 102,651,570\n",
    "BANK1_sumstats = subset(df0, CHR==4 & BP > 102451570 & BP < 102651570)\n",
    "# LINC01867 hit at chromosome 2, position 52,608,484 -> BP range: 52,508,484 - 52,708,484\n",
    "LINC01867_sumstats = subset(df0, CHR==2 & BP > 52508484 & BP < 52708484)\n",
    "# LINC00899 hit at chromosome 22, position 46,440,007: BP range: 46,340,007 - 46,540,007\n",
    "LINC00899_sumstats = subset(df0, CHR==22 & BP > 46340007 & BP < 46540007)\n",
    "# LOC101928516 hit at chromosome 6, position 74,763,411 -> BP range: 74,663,411 - 74,863,411\n",
    "LOC101928516_sumstats = subset(df0, CHR==6 & BP > 74663411 & BP < 74863411)\n",
    "# PICALM rs3851179 hit at chromosome 11, position -> BP range: 85,768,640 - 85,968,640\n",
    "PICALM_sumstats = subset(df0, CHR==11 & BP > 85768640 & BP < 85968640)\n",
    "# BIN1 rs7561528 hit at chromosome 2, position 127,889,637 -> BP range: 127,789,637 - 127,989,637\n",
    "BIN1_sumstats = subset(df0, CHR==2 & BP > 127789637 & BP < 127989637)\n",
    "# CLU rs1532276 hit at chromosome 8, position 27,466,157 -> BP range: 27,366,157 - 27,566,157\n",
    "CLU_sumstats = subset(df0, CHR==8 & BP > 27366157 & BP < 27566157)\n",
    "# CR1 rs679515 hit at chromosome 1, position 207,750,568 -> BP range: 207,650,568 - 207,850,568\n",
    "CR1_sumstats = subset(df0, CHR==1 & BP > 207650568 & BP < 207850568)\n",
    "# MS4A4A rs1582763 hit at chromosome 11, position 60,021,948 -> BP range: 59,921,948 - 60,121,948\n",
    "MS4A4A_sumstats = subset(df0, CHR==11 & BP > 59921948 & BP < 60121948)\n",
    "# SORL1 rs117807585 hit at chromosome 11, position 121,456,061 -> BP range: 121,356,061 - 121,556,061\n",
    "SORL1_sumstats = subset(df0, CHR==11 & BP > 121356061 & BP < 121556061)\n",
    "# MADD rs67472071 hit at chromosome 11, position 47,391,745 -> BP range: 47,291,745 - 47,491,745\n",
    "MADD_sumstats = subset(df0, CHR==11 & BP > 47291745 & BP < 47491745)\n",
    "# HLA-DRA rs4335021 hit at chromosome 6, position 32,386,619 -> BP range: 32,286,619 - 32,486,619\n",
    "HLA_sumstats = subset(df0, CHR==6 & BP > 32286619 & BP < 32486619)\n",
    "# CD2AP rs9473119 hit at chromosome 6, position 47,450,618 -> BP range: 47,350,618 - 47,550,618\n",
    "CD2AP_sumstats = subset(df0, CHR==6 & BP > 47350618 & BP < 47550618)\n",
    "# MTSS1L rs7195572 hit at chromosome 16, position 70,701,411 -> BP range: 70,601,411 - 70,801,411\n",
    "MTSS1L_sumstats = subset(df0, CHR==16 & BP > 70601411 & BP < 70801411)\n",
    "# EPHA1 rs11762262 hit at chromosome 7, position 143,107,876 \n",
    "EPHA1_sumstats = subset(df0, CHR==7 & BP > 143007876 & BP < 143207876)\n",
    "# ADAMTS1 rs2830489 hit at chromosome 21, position 28,148,191 -> BP range: 28,048,191 - 28,248,191\n",
    "ADAMTS1_sumstats = subset(df0, CHR==21 & BP > 28048191 & BP < 28248191)\n",
    "# SLC24A4 rs11160069 hit at chromosome 14, position 92,933,893 -> BP range: 92,833,893 - 93,033,893\n",
    "SLC24A4_sumstats = subset(df0, CHR==14 & BP > 92833893 & BP < 93033893)\n",
    "# CLEC3B rs7618668 (proxy rs7626571) hit at chromosome 3, position 45,097,509 -> BP range: 44,997,509 - 45,197,509\n",
    "CLEC3B_sumstats = subset(df0, CHR==3 & BP > 44997509 & BP < 45197509)\n",
    "# EFL1 rs905450 hit at chromosome 15, position 82,444,437 -> BP range: 82,344,437 - 82,544,437\n",
    "EFL1_sumstats = subset(df0, CHR==15 & BP > 82344437 & BP < 82544437)\n",
    "# LACTB2 rs13252043 hit at chromosome 8, position 71,551,628 -> BP range: 71,451,628 - 71,651,628\n",
    "LACTB2_sumstats = subset(df0, CHR==8 & BP > 71451628 & BP < 71651628)\n",
    "# ELL rs10405479 hit at chromosome 19, position 18,563,880 -> BP range: 18,463,880 - 18,663,880\n",
    "ELL_sumstats = subset(df0, CHR==19 & BP > 18463880 & BP < 18663880)\n",
    "# FAM155A rs9520713 hit at chromosome 13, position 108,672,385 -> 108,572,385 - 108,772,385\n",
    "FAM155A_sumstats = subset(df0, CHR==13 & BP > 108572385 & BP < 108772385)\n",
    "# FERMT2 rs74825460 hit at chromosome 14, position 53,390,015 -> BP range: 53,290,015 - 53,490,015\n",
    "FERMT2_sumstats = subset(df0, CHR==14 & BP > 53290015 & BP < 53490015)\n",
    "# ZCWPW1 rs34919929 hit at chromosome 7, position 100,012,334 -> BP range 99,912,334 - 100,112,334\n",
    "ZCWPW1_sumstats = subset(df0, CHR==7 & BP > 99912334 & BP < 100112334)\n",
    "# NTM rs9787911 hit at chromosome 11, position 131,769,402 -> BP range: 131,669,402 - 131,869,402\n",
    "NTM_sumstats = subset(df0, CHR==11 & BP > 131669402 & BP < 131869402)\n",
    "# OR2B2 rs1497525 (proxy rs1497526) hit at chromosome 6, position 27,883,269: BP range: 27,783,269 - 27,983,269\n",
    "OR2B2_sumstats = subset(df0, CHR==6 & BP > 27783269 & BP < 27983269)\n",
    "# C1S rs7311672 hit at chromosome 12, position 7,165,114 -> BP range: 7,065,114 - 7,265,114\n",
    "C1S_sumstats = subset(df0, CHR==12 & BP > 7065114 & BP < 7265114)\n",
    "# TSPOAP rs2526376 hit at chromosome 17, position 56,427,142 -> BP range: 56,327,142 - 56,527,142\n",
    "TSPOAP_sumstats = subset(df0, CHR==17 & BP > 56327142 & BP < 56527142)\n",
    "# TSPAN14 rs10748526 hit at chromosome 10, position 82,273,079 -> BP range: 82,173,079 - 82,373,079\n",
    "TSPAN14_sumstats = subset(df0, CHR==10 & BP > 82173079 & BP < 82373079)"
   ]
  },
  {
   "cell_type": "code",
   "execution_count": 41,
   "id": "d952c48c-f5cc-49cf-8167-e3e5cec4fae1",
   "metadata": {
    "vscode": {
     "languageId": "r"
    }
   },
   "outputs": [],
   "source": [
    "## Run for genes\n",
    "genes <- c(\"APOE\",\"FAM47E\",\"PAPOLG\",\"RAB3C\",\"BANK1\",\"LINC01867\",\"LINC00899\",\"LOC101928516\",\"PICALM\",\"BIN1\",\"CLU\",\"CR1\",\"MS4A4A\",\"SORL1\",\"MADD\",\"HLA\",\"CD2AP\",\"MTSS1L\",\"EPHA1\",\"ADAMTS1\",\"SLC24A4\",\"CLEC3B\",\"EFL1\",\"LACTB2\",\"ELL\",\"FAM155A\",\"FERMT2\",\"ZCWPW1\",\"NTM\",\"OR2B2\",\"C1S\",\"TSPOAP\",\"TSPAN14\")"
   ]
  },
  {
   "cell_type": "code",
   "execution_count": 42,
   "id": "98fdf7ca-8a8b-47ee-a644-2782ed9395b3",
   "metadata": {
    "vscode": {
     "languageId": "r"
    }
   },
   "outputs": [],
   "source": [
    "for (gene in genes) {\n",
    "    # Assume gene_sumstats is a data frame with summary statistics for each gene\n",
    "    gene_sumstats <- get(paste0(gene, \"_sumstats\"))  # Get the data frame for the current gene\n",
    "    if (is.data.frame(gene_sumstats)) {\n",
    "        write_tsv(gene_sumstats, paste0(\"{WORK_DIR}/PAR/\", \"/\", gene, \"_ad_variants_eas.tab\"))\n",
    "    } else {\n",
    "        warning(paste(\"No data frame found for\", gene))\n",
    "    }\n",
    "}"
   ]
  },
  {
   "cell_type": "code",
   "execution_count": 43,
   "id": "43aac15f-fb9c-46f3-a1fb-e3527648f3d2",
   "metadata": {
    "vscode": {
     "languageId": "r"
    }
   },
   "outputs": [],
   "source": [
    "## Run for genes\n",
    "genes <- c(\"APOE\",\"FAM47E\",\"PAPOLG\",\"RAB3C\",\"BANK1\",\"LINC01867\",\"LINC00899\",\"LOC101928516\",\"PICALM\",\"BIN1\",\"CLU\",\"CR1\",\"MS4A4A\",\"SORL1\",\"MADD\",\"HLA\",\"CD2AP\",\"MTSS1L\",\"EPHA1\",\"ADAMTS1\",\"SLC24A4\",\"CLEC3B\",\"EFL1\",\"LACTB2\",\"ELL\",\"FAM155A\",\"FERMT2\",\"ZCWPW1\",\"NTM\",\"OR2B2\",\"C1S\",\"TSPOAP\",\"TSPAN14\")"
   ]
  },
  {
   "cell_type": "code",
   "execution_count": 44,
   "id": "ddeadd5b-97c5-4858-96d8-1020b3c1f63b",
   "metadata": {
    "vscode": {
     "languageId": "r"
    }
   },
   "outputs": [],
   "source": [
    "for (gene in genes) {\n",
    "    input_file <- paste0(\"{WORK_DIR}/PAR/\", gene, \"_ad_variants_eas.tab\")\n",
    "    output_file <- paste0(\"{WORK_DIR}/PAR/\", gene, \"_Shigemizu_2021.csv\")\n",
    "    \n",
    "    # Read in the dataset\n",
    "    dataset1 <- fread(input_file, header = TRUE, sep = \"\\t\")\n",
    "    \n",
    "    # Remove duplicated rows based on the 'MarkerName' column\n",
    "    dataset1 <- dataset1[!duplicated(dataset1$MarkerName), ]\n",
    "    \n",
    "    # Add a new column 'StdErr_squared' by squaring 'StdErr'\n",
    "    dataset_final <- dataset1 %>% mutate(StdErr_squared = StdErr^2)\n",
    "    \n",
    "    # Select the required columns and rename them\n",
    "    output <- dataset_final[, c(\"MarkerName\", \"Effect\", \"P-value\", \"StdErr_squared\")]\n",
    "    colnames(output) <- c(\"SNP\", \"beta\", \"P\", \"varbeta\")\n",
    "    \n",
    "    # Write the output to a CSV file\n",
    "    fwrite(output, file = output_file, na = \"NA\", quote = FALSE, row.names = FALSE, sep = \"\\t\")\n",
    "}"
   ]
  },
  {
   "cell_type": "code",
   "execution_count": 45,
   "id": "694aa4da-85ff-4fb9-bf1d-0e2670493f31",
   "metadata": {
    "vscode": {
     "languageId": "r"
    }
   },
   "outputs": [],
   "source": [
    "## Run for genes\n",
    "genes <- c(\"APOE\",\"FAM47E\",\"PAPOLG\",\"RAB3C\",\"BANK1\",\"LINC01867\",\"LINC00899\",\"LOC101928516\",\"PICALM\",\"BIN1\",\"CLU\",\"CR1\",\"MS4A4A\",\"SORL1\",\"MADD\",\"HLA\",\"CD2AP\",\"MTSS1L\",\"EPHA1\",\"ADAMTS1\",\"SLC24A4\",\"CLEC3B\",\"EFL1\",\"LACTB2\",\"ELL\",\"FAM155A\",\"FERMT2\",\"ZCWPW1\",\"NTM\",\"OR2B2\",\"C1S\",\"TSPOAP\",\"TSPAN14\")"
   ]
  },
  {
   "cell_type": "code",
   "execution_count": 46,
   "id": "fe4d20d6-08e7-40d1-8c5e-ff7b6e38d0a5",
   "metadata": {
    "vscode": {
     "languageId": "r"
    }
   },
   "outputs": [
    {
     "name": "stderr",
     "output_type": "stream",
     "text": [
      "Warning message in check_dataset(dataset, \"\"):\n",
      "“minimum p value is: 1.0668e-06\n",
      "If this is what you expected, this is not a problem.\n",
      "If this is not as small as you expected, please check you supplied var(beta) and not sd(beta) for the varbeta argument. If that's not the explanation, please check the 02_data vignette.”\n",
      "Warning message in check_dataset(dataset, \"\"):\n",
      "“minimum p value is: 1.7167e-06\n",
      "If this is what you expected, this is not a problem.\n",
      "If this is not as small as you expected, please check you supplied var(beta) and not sd(beta) for the varbeta argument. If that's not the explanation, please check the 02_data vignette.”\n",
      "Warning message in check_dataset(dataset, \"\"):\n",
      "“minimum p value is: 2.7786e-06\n",
      "If this is what you expected, this is not a problem.\n",
      "If this is not as small as you expected, please check you supplied var(beta) and not sd(beta) for the varbeta argument. If that's not the explanation, please check the 02_data vignette.”\n",
      "Warning message in check_dataset(dataset, \"\"):\n",
      "“minimum p value is: 3.29e-06\n",
      "If this is what you expected, this is not a problem.\n",
      "If this is not as small as you expected, please check you supplied var(beta) and not sd(beta) for the varbeta argument. If that's not the explanation, please check the 02_data vignette.”\n",
      "Warning message in check_dataset(dataset, \"\"):\n",
      "“minimum p value is: 3.8012e-06\n",
      "If this is what you expected, this is not a problem.\n",
      "If this is not as small as you expected, please check you supplied var(beta) and not sd(beta) for the varbeta argument. If that's not the explanation, please check the 02_data vignette.”\n",
      "Warning message in check_dataset(dataset, \"\"):\n",
      "“minimum p value is: 3.9842e-06\n",
      "If this is what you expected, this is not a problem.\n",
      "If this is not as small as you expected, please check you supplied var(beta) and not sd(beta) for the varbeta argument. If that's not the explanation, please check the 02_data vignette.”\n",
      "Warning message in check_dataset(dataset, \"\"):\n",
      "“minimum p value is: 8.1129e-06\n",
      "If this is what you expected, this is not a problem.\n",
      "If this is not as small as you expected, please check you supplied var(beta) and not sd(beta) for the varbeta argument. If that's not the explanation, please check the 02_data vignette.”\n",
      "Warning message in check_dataset(dataset, \"\"):\n",
      "“minimum p value is: 0.013525\n",
      "If this is what you expected, this is not a problem.\n",
      "If this is not as small as you expected, please check you supplied var(beta) and not sd(beta) for the varbeta argument. If that's not the explanation, please check the 02_data vignette.”\n",
      "Warning message in check_dataset(dataset, \"\"):\n",
      "“minimum p value is: 0.00011866\n",
      "If this is what you expected, this is not a problem.\n",
      "If this is not as small as you expected, please check you supplied var(beta) and not sd(beta) for the varbeta argument. If that's not the explanation, please check the 02_data vignette.”\n",
      "Warning message in check_dataset(dataset, \"\"):\n",
      "“minimum p value is: 0.011075\n",
      "If this is what you expected, this is not a problem.\n",
      "If this is not as small as you expected, please check you supplied var(beta) and not sd(beta) for the varbeta argument. If that's not the explanation, please check the 02_data vignette.”\n",
      "Warning message in check_dataset(dataset, \"\"):\n",
      "“minimum p value is: 0.043951\n",
      "If this is what you expected, this is not a problem.\n",
      "If this is not as small as you expected, please check you supplied var(beta) and not sd(beta) for the varbeta argument. If that's not the explanation, please check the 02_data vignette.”\n",
      "Warning message in check_dataset(dataset, \"\"):\n",
      "“minimum p value is: 0.010029\n",
      "If this is what you expected, this is not a problem.\n",
      "If this is not as small as you expected, please check you supplied var(beta) and not sd(beta) for the varbeta argument. If that's not the explanation, please check the 02_data vignette.”\n",
      "Warning message in check_dataset(dataset, \"\"):\n",
      "“minimum p value is: 0.003431\n",
      "If this is what you expected, this is not a problem.\n",
      "If this is not as small as you expected, please check you supplied var(beta) and not sd(beta) for the varbeta argument. If that's not the explanation, please check the 02_data vignette.”\n",
      "Warning message in check_dataset(dataset, \"\"):\n",
      "“minimum p value is: 0.010342\n",
      "If this is what you expected, this is not a problem.\n",
      "If this is not as small as you expected, please check you supplied var(beta) and not sd(beta) for the varbeta argument. If that's not the explanation, please check the 02_data vignette.”\n",
      "Warning message in check_dataset(dataset, \"\"):\n",
      "“minimum p value is: 0.00068445\n",
      "If this is what you expected, this is not a problem.\n",
      "If this is not as small as you expected, please check you supplied var(beta) and not sd(beta) for the varbeta argument. If that's not the explanation, please check the 02_data vignette.”\n",
      "Warning message in check_dataset(dataset, \"\"):\n",
      "“minimum p value is: 0.01239\n",
      "If this is what you expected, this is not a problem.\n",
      "If this is not as small as you expected, please check you supplied var(beta) and not sd(beta) for the varbeta argument. If that's not the explanation, please check the 02_data vignette.”\n",
      "Warning message in check_dataset(dataset, \"\"):\n",
      "“minimum p value is: 0.0033512\n",
      "If this is what you expected, this is not a problem.\n",
      "If this is not as small as you expected, please check you supplied var(beta) and not sd(beta) for the varbeta argument. If that's not the explanation, please check the 02_data vignette.”\n",
      "Warning message in check_dataset(dataset, \"\"):\n",
      "“minimum p value is: 0.0112\n",
      "If this is what you expected, this is not a problem.\n",
      "If this is not as small as you expected, please check you supplied var(beta) and not sd(beta) for the varbeta argument. If that's not the explanation, please check the 02_data vignette.”\n",
      "Warning message in check_dataset(dataset, \"\"):\n",
      "“minimum p value is: 0.017206\n",
      "If this is what you expected, this is not a problem.\n",
      "If this is not as small as you expected, please check you supplied var(beta) and not sd(beta) for the varbeta argument. If that's not the explanation, please check the 02_data vignette.”\n",
      "Warning message in check_dataset(dataset, \"\"):\n",
      "“minimum p value is: 0.0042327\n",
      "If this is what you expected, this is not a problem.\n",
      "If this is not as small as you expected, please check you supplied var(beta) and not sd(beta) for the varbeta argument. If that's not the explanation, please check the 02_data vignette.”\n",
      "Warning message in check_dataset(dataset, \"\"):\n",
      "“minimum p value is: 0.023149\n",
      "If this is what you expected, this is not a problem.\n",
      "If this is not as small as you expected, please check you supplied var(beta) and not sd(beta) for the varbeta argument. If that's not the explanation, please check the 02_data vignette.”\n",
      "Warning message in check_dataset(dataset, \"\"):\n",
      "“minimum p value is: 0.014603\n",
      "If this is what you expected, this is not a problem.\n",
      "If this is not as small as you expected, please check you supplied var(beta) and not sd(beta) for the varbeta argument. If that's not the explanation, please check the 02_data vignette.”\n",
      "Warning message in check_dataset(dataset, \"\"):\n",
      "“minimum p value is: 0.00023412\n",
      "If this is what you expected, this is not a problem.\n",
      "If this is not as small as you expected, please check you supplied var(beta) and not sd(beta) for the varbeta argument. If that's not the explanation, please check the 02_data vignette.”\n",
      "Warning message in check_dataset(dataset, \"\"):\n",
      "“minimum p value is: 0.01126\n",
      "If this is what you expected, this is not a problem.\n",
      "If this is not as small as you expected, please check you supplied var(beta) and not sd(beta) for the varbeta argument. If that's not the explanation, please check the 02_data vignette.”\n",
      "Warning message in check_dataset(dataset, \"\"):\n",
      "“minimum p value is: 0.02469\n",
      "If this is what you expected, this is not a problem.\n",
      "If this is not as small as you expected, please check you supplied var(beta) and not sd(beta) for the varbeta argument. If that's not the explanation, please check the 02_data vignette.”\n",
      "Warning message in check_dataset(dataset, \"\"):\n",
      "“minimum p value is: 3.254e-05\n",
      "If this is what you expected, this is not a problem.\n",
      "If this is not as small as you expected, please check you supplied var(beta) and not sd(beta) for the varbeta argument. If that's not the explanation, please check the 02_data vignette.”\n",
      "Warning message in check_dataset(dataset, \"\"):\n",
      "“minimum p value is: 0.00026703\n",
      "If this is what you expected, this is not a problem.\n",
      "If this is not as small as you expected, please check you supplied var(beta) and not sd(beta) for the varbeta argument. If that's not the explanation, please check the 02_data vignette.”\n",
      "Warning message in check_dataset(dataset, \"\"):\n",
      "“minimum p value is: 0.014463\n",
      "If this is what you expected, this is not a problem.\n",
      "If this is not as small as you expected, please check you supplied var(beta) and not sd(beta) for the varbeta argument. If that's not the explanation, please check the 02_data vignette.”\n",
      "Warning message in check_dataset(dataset, \"\"):\n",
      "“minimum p value is: 0.0020589\n",
      "If this is what you expected, this is not a problem.\n",
      "If this is not as small as you expected, please check you supplied var(beta) and not sd(beta) for the varbeta argument. If that's not the explanation, please check the 02_data vignette.”\n",
      "Warning message in check_dataset(dataset, \"\"):\n",
      "“minimum p value is: 0.0088737\n",
      "If this is what you expected, this is not a problem.\n",
      "If this is not as small as you expected, please check you supplied var(beta) and not sd(beta) for the varbeta argument. If that's not the explanation, please check the 02_data vignette.”\n"
     ]
    }
   ],
   "source": [
    "for (gene in genes) {\n",
    "    input_file <- paste0(\"{WORK_DIR}/PAR/\", gene, \"_Shigemizu_2021.csv\")\n",
    "    output <- fread(input_file, header = TRUE, sep = \"\\t\")\n",
    "    \n",
    "    # Check if output has 0 rows\n",
    "    if (nrow(output) == 0) {\n",
    "        cat(\"No rows in output for gene: \", gene, \". Skipping...\\n\")\n",
    "        next  # Skip to the next gene in the loop\n",
    "    }\n",
    "    \n",
    "    SNP <- output$SNP\n",
    "    beta <- output$beta\n",
    "    varbeta <- output$varbeta\n",
    "    N <- 8006  # 3,962 AD cases vs 8,036 total (3,962 cases, 4,074 controls - Shigemizu et al 2021)\n",
    "    s <- 0.493\n",
    "    type <- 'cc'\n",
    "    \n",
    "    # Create dataset for fine-mapping\n",
    "    dataset <- list(\n",
    "        snp = SNP, \n",
    "        beta = beta, \n",
    "        varbeta = varbeta, \n",
    "        N = N, \n",
    "        s = s, \n",
    "        type = type)\n",
    "        \n",
    "    # Ensure dataset variables are numeric\n",
    "    dataset$snp <- unlist(dataset$snp)\n",
    "    dataset$beta <- unlist(dataset$beta)\n",
    "    dataset$varbeta <- unlist(dataset$varbeta)\n",
    "    \n",
    "    # Assuming finemap.abf() works with a list, otherwise convert to a data.frame\n",
    "    results <- finemap.abf(\n",
    "        dataset = dataset,\n",
    "        p1 = 1e-04  # Optional parameter for p-value threshold (can adjust based on your data)\n",
    "    )\n",
    "        \n",
    "    # Check if results has 0 rows\n",
    "    if (nrow(results) == 0) {\n",
    "        cat(\"No results returned for gene: \", gene, \". Skipping...\\n\")\n",
    "        next  # Skip to the next gene in the loop\n",
    "    }\n",
    "    \n",
    "    # Combine the results with the original output\n",
    "    combo <- cbind(results[1:(nrow(results) - 1),], output)\n",
    "    \n",
    "    # Subset results where SNP.PP > 0.2\n",
    "    hits <- subset(combo, SNP.PP > 0.2)\n",
    "    \n",
    "    # Save the results to a CSV file\n",
    "    final_output_file <- paste0(\"{WORK_DIR}/PAR/\", gene, \"_results_fine_map_Shigemizu.csv\")\n",
    "    fwrite(combo, file = final_output_file, na = \"NA\", quote = F, row.names = F, sep = \",\")\n",
    "    }"
   ]
  },
  {
   "cell_type": "code",
   "execution_count": 47,
   "id": "ca685dbe-b88a-48e7-b170-016eb6f1294d",
   "metadata": {
    "vscode": {
     "languageId": "r"
    }
   },
   "outputs": [
    {
     "name": "stdout",
     "output_type": "stream",
     "text": [
      "           V.        z.        r.      lABF.         snp prior       SNP.PP\n",
      "1 0.031364410 -2.933541 0.5605035   2.000689 21:28109583 1e-04 0.0007538447\n",
      "2 0.002442336 24.697185 0.9424552 285.998125 19:45411941 1e-04 1.0000000000\n",
      "3 0.022891690 -4.686539 0.6360141   6.479274 4:102551570 1e-04 0.0397722719\n",
      "4 0.002139062  2.469646 0.9492380   1.404470 2:127910564 1e-04 0.0004175672\n",
      "5 0.004239312 -2.445557 0.9041732   1.531210  12:7169661 1e-04 0.0004653143\n",
      "6 0.002286752 -2.564193 0.9459227   1.651091  6:47380533 1e-04 0.0005290675\n",
      "          SNP       beta          P     varbeta    gene\n",
      "1 21:28109583 -0.5195301  3.360e-03 0.031364410 ADAMTS1\n",
      "2 19:45411941  1.2205349 1.090e-134 0.002442336    APOE\n",
      "3 4:102551570 -0.7090733  2.764e-06 0.022891690   BANK1\n",
      "4 2:127910564  0.1142211  1.319e-02 0.002139062    BIN1\n",
      "5  12:7169661 -0.1592302  1.446e-02 0.004239312     C1S\n",
      "6  6:47380533 -0.1226197  1.031e-02 0.002286752   CD2AP\n"
     ]
    }
   ],
   "source": [
    "# Define the directory containing the CSV files\n",
    "input_directory <- \"{WORK_DIR}/PAR/\"  # Replace with your directory path\n",
    "\n",
    "# List all files with the pattern \"results_fine_map.csv\" in the directory\n",
    "file_list <- list.files(input_directory, pattern = \"_results_fine_map_Shigemizu.csv$\", full.names = TRUE)\n",
    "\n",
    "# Initialize an empty list to store the results\n",
    "results_list <- list()\n",
    "\n",
    "# Loop through each file\n",
    "for (file in file_list) {\n",
    "  # Extract the gene name from the file name (remove the \"_results_fine_map.csv\" suffix)\n",
    "  gene <- gsub(\"_results_fine_map_Shigemizu\\\\.csv$\", \"\", basename(file))\n",
    "  \n",
    "  # Read the CSV file\n",
    "  data <- read.csv(file)\n",
    "  \n",
    "  # Select the SNP with the highest SNP.PP value\n",
    "  best_snp <- data %>%\n",
    "    slice_max(SNP.PP, n = 1) %>%  # Select row(s) with the max SNP.PP\n",
    "    mutate(gene = gene)           # Add the gene name\n",
    "  \n",
    "  # Append to the results list\n",
    "  results_list[[gene]] <- best_snp\n",
    "}\n",
    "\n",
    "# Combine all results into a single dataframe\n",
    "final_results <- bind_rows(results_list)\n",
    "\n",
    "# Export the results to a CSV file\n",
    "output_file <- \"top_snp_per_gene_eas_ad.csv\"  # Desired output file name\n",
    "write.csv(final_results, output_file, row.names = FALSE)\n",
    "\n",
    "# Print the first few rows of the final results\n",
    "print(head(final_results))"
   ]
  },
  {
   "cell_type": "code",
   "execution_count": null,
   "id": "f62d04fb-2b81-4164-8131-9db2f5047ae1",
   "metadata": {
    "vscode": {
     "languageId": "r"
    }
   },
   "outputs": [],
   "source": []
  }
 ],
 "metadata": {
  "kernelspec": {
   "display_name": "R/4.4",
   "language": "R",
   "name": "ir44"
  },
  "language_info": {
   "codemirror_mode": "r",
   "file_extension": ".r",
   "mimetype": "text/x-r-source",
   "name": "R",
   "pygments_lexer": "r",
   "version": "4.4.2"
  }
 },
 "nbformat": 4,
 "nbformat_minor": 5
}
