{
 "cells": [
  {
   "cell_type": "markdown",
   "id": "8a56f5bd-93be-4e04-88cb-8d35539f116c",
   "metadata": {},
   "source": [
    "# Fine-mapping of AD-related risk loci in Latino summary statistics\n",
    "* Project: Cross-ancestry PAR\n",
    "* Version: R/4.4\n",
    "* Status: Complete\n",
    "* Last Updated: 13-FEB-2025"
   ]
  },
  {
   "cell_type": "markdown",
   "id": "aed7593f-fd81-4740-87ad-32b51b12fab5",
   "metadata": {},
   "source": [
    "## Notebook overview\n",
    "* Extract chromosome and base pair positions from summary statistics for selected loci\n",
    "* Perform fine-mapping and save results"
   ]
  },
  {
   "cell_type": "code",
   "execution_count": 12,
   "id": "a1e57727-805b-425a-bfa0-f0f220bb44c4",
   "metadata": {
    "vscode": {
     "languageId": "r"
    }
   },
   "outputs": [],
   "source": [
    "library(\"data.table\")\n",
    "#if (!requireNamespace(\"BiocManager\", quietly = TRUE))\n",
    "#    install.packages(\"BiocManager\")\n",
    "#BiocManager::install(\"snpStats\")\n",
    "library(\"robustbase\")\n",
    "library(ggplot2)\n",
    "library(tidyr)\n",
    "#devtools::install_github(\"chr1swallace/coloc\")\n",
    "library(\"coloc\")\n",
    "library(\"tidyverse\")\n",
    "library(\"readr\")"
   ]
  },
  {
   "cell_type": "code",
   "execution_count": 13,
   "id": "8ab62cf3-a31e-4320-bab5-b5bdc4b48d75",
   "metadata": {
    "vscode": {
     "languageId": "r"
    }
   },
   "outputs": [
    {
     "data": {
      "text/html": [
       "'/vf/users/jonesln/PAR/PD/notebooks'"
      ],
      "text/latex": [
       "'/vf/users/jonesln/PAR/PD/notebooks'"
      ],
      "text/markdown": [
       "'/vf/users/jonesln/PAR/PD/notebooks'"
      ],
      "text/plain": [
       "[1] \"/vf/users/jonesln/PAR/PD/notebooks\""
      ]
     },
     "metadata": {},
     "output_type": "display_data"
    }
   ],
   "source": [
    "getwd()"
   ]
  },
  {
   "cell_type": "code",
   "execution_count": 14,
   "id": "9367cd7f-25b1-49bb-a37d-7475a809e6be",
   "metadata": {
    "vscode": {
     "languageId": "r"
    }
   },
   "outputs": [],
   "source": [
    "## Read dataframe\n",
    "df0 <- fread(\"{WORK_DIR}/trans_ethnic_AD/format_stats/CarHisp_for_MRMEGA.no_multiAllelics_indels.MAF_0.01.txt\", header =T)"
   ]
  },
  {
   "cell_type": "code",
   "execution_count": 15,
   "id": "52f44992-97f7-43dd-9891-187bc2b70f45",
   "metadata": {
    "vscode": {
     "languageId": "r"
    }
   },
   "outputs": [
    {
     "data": {
      "text/html": [
       "<table class=\"dataframe\">\n",
       "<caption>A data.table: 6 × 11</caption>\n",
       "<thead>\n",
       "\t<tr><th scope=col>MARKERNAME</th><th scope=col>CHROMOSOME</th><th scope=col>POSITION</th><th scope=col>EA</th><th scope=col>NEA</th><th scope=col>EAF</th><th scope=col>OR</th><th scope=col>OR_95U</th><th scope=col>OR_95L</th><th scope=col>N</th><th scope=col>P</th></tr>\n",
       "\t<tr><th scope=col>&lt;chr&gt;</th><th scope=col>&lt;int&gt;</th><th scope=col>&lt;int&gt;</th><th scope=col>&lt;chr&gt;</th><th scope=col>&lt;chr&gt;</th><th scope=col>&lt;dbl&gt;</th><th scope=col>&lt;dbl&gt;</th><th scope=col>&lt;dbl&gt;</th><th scope=col>&lt;dbl&gt;</th><th scope=col>&lt;int&gt;</th><th scope=col>&lt;dbl&gt;</th></tr>\n",
       "</thead>\n",
       "<tbody>\n",
       "\t<tr><td>1:48824</td><td>1</td><td>48824</td><td>C</td><td>T</td><td>0.0176655</td><td>0.795203</td><td>1.407862</td><td>0.4491546</td><td>2240</td><td>0.431702</td></tr>\n",
       "\t<tr><td>1:54490</td><td>1</td><td>54490</td><td>A</td><td>G</td><td>0.0431574</td><td>0.853678</td><td>1.255188</td><td>0.5806030</td><td>2240</td><td>0.421182</td></tr>\n",
       "\t<tr><td>1:60351</td><td>1</td><td>60351</td><td>G</td><td>A</td><td>0.0248211</td><td>0.864445</td><td>1.395185</td><td>0.5356029</td><td>2240</td><td>0.550887</td></tr>\n",
       "\t<tr><td>1:64931</td><td>1</td><td>64931</td><td>A</td><td>G</td><td>0.0245975</td><td>0.821548</td><td>1.334293</td><td>0.5058416</td><td>2240</td><td>0.426951</td></tr>\n",
       "\t<tr><td>1:66861</td><td>1</td><td>66861</td><td>T</td><td>C</td><td>0.0449463</td><td>0.868805</td><td>1.244424</td><td>0.6065636</td><td>2240</td><td>0.442988</td></tr>\n",
       "\t<tr><td>1:80346</td><td>1</td><td>80346</td><td>G</td><td>C</td><td>0.0677549</td><td>0.951718</td><td>1.277693</td><td>0.7089081</td><td>2240</td><td>0.741926</td></tr>\n",
       "</tbody>\n",
       "</table>\n"
      ],
      "text/latex": [
       "A data.table: 6 × 11\n",
       "\\begin{tabular}{lllllllllll}\n",
       " MARKERNAME & CHROMOSOME & POSITION & EA & NEA & EAF & OR & OR\\_95U & OR\\_95L & N & P\\\\\n",
       " <chr> & <int> & <int> & <chr> & <chr> & <dbl> & <dbl> & <dbl> & <dbl> & <int> & <dbl>\\\\\n",
       "\\hline\n",
       "\t 1:48824 & 1 & 48824 & C & T & 0.0176655 & 0.795203 & 1.407862 & 0.4491546 & 2240 & 0.431702\\\\\n",
       "\t 1:54490 & 1 & 54490 & A & G & 0.0431574 & 0.853678 & 1.255188 & 0.5806030 & 2240 & 0.421182\\\\\n",
       "\t 1:60351 & 1 & 60351 & G & A & 0.0248211 & 0.864445 & 1.395185 & 0.5356029 & 2240 & 0.550887\\\\\n",
       "\t 1:64931 & 1 & 64931 & A & G & 0.0245975 & 0.821548 & 1.334293 & 0.5058416 & 2240 & 0.426951\\\\\n",
       "\t 1:66861 & 1 & 66861 & T & C & 0.0449463 & 0.868805 & 1.244424 & 0.6065636 & 2240 & 0.442988\\\\\n",
       "\t 1:80346 & 1 & 80346 & G & C & 0.0677549 & 0.951718 & 1.277693 & 0.7089081 & 2240 & 0.741926\\\\\n",
       "\\end{tabular}\n"
      ],
      "text/markdown": [
       "\n",
       "A data.table: 6 × 11\n",
       "\n",
       "| MARKERNAME &lt;chr&gt; | CHROMOSOME &lt;int&gt; | POSITION &lt;int&gt; | EA &lt;chr&gt; | NEA &lt;chr&gt; | EAF &lt;dbl&gt; | OR &lt;dbl&gt; | OR_95U &lt;dbl&gt; | OR_95L &lt;dbl&gt; | N &lt;int&gt; | P &lt;dbl&gt; |\n",
       "|---|---|---|---|---|---|---|---|---|---|---|\n",
       "| 1:48824 | 1 | 48824 | C | T | 0.0176655 | 0.795203 | 1.407862 | 0.4491546 | 2240 | 0.431702 |\n",
       "| 1:54490 | 1 | 54490 | A | G | 0.0431574 | 0.853678 | 1.255188 | 0.5806030 | 2240 | 0.421182 |\n",
       "| 1:60351 | 1 | 60351 | G | A | 0.0248211 | 0.864445 | 1.395185 | 0.5356029 | 2240 | 0.550887 |\n",
       "| 1:64931 | 1 | 64931 | A | G | 0.0245975 | 0.821548 | 1.334293 | 0.5058416 | 2240 | 0.426951 |\n",
       "| 1:66861 | 1 | 66861 | T | C | 0.0449463 | 0.868805 | 1.244424 | 0.6065636 | 2240 | 0.442988 |\n",
       "| 1:80346 | 1 | 80346 | G | C | 0.0677549 | 0.951718 | 1.277693 | 0.7089081 | 2240 | 0.741926 |\n",
       "\n"
      ],
      "text/plain": [
       "  MARKERNAME CHROMOSOME POSITION EA NEA EAF       OR       OR_95U   OR_95L   \n",
       "1 1:48824    1          48824    C  T   0.0176655 0.795203 1.407862 0.4491546\n",
       "2 1:54490    1          54490    A  G   0.0431574 0.853678 1.255188 0.5806030\n",
       "3 1:60351    1          60351    G  A   0.0248211 0.864445 1.395185 0.5356029\n",
       "4 1:64931    1          64931    A  G   0.0245975 0.821548 1.334293 0.5058416\n",
       "5 1:66861    1          66861    T  C   0.0449463 0.868805 1.244424 0.6065636\n",
       "6 1:80346    1          80346    G  C   0.0677549 0.951718 1.277693 0.7089081\n",
       "  N    P       \n",
       "1 2240 0.431702\n",
       "2 2240 0.421182\n",
       "3 2240 0.550887\n",
       "4 2240 0.426951\n",
       "5 2240 0.442988\n",
       "6 2240 0.741926"
      ]
     },
     "metadata": {},
     "output_type": "display_data"
    }
   ],
   "source": [
    "head(df0)"
   ]
  },
  {
   "cell_type": "code",
   "execution_count": 18,
   "id": "53d5f508-6579-42cc-bdc6-e3a9482b3eba",
   "metadata": {
    "vscode": {
     "languageId": "r"
    }
   },
   "outputs": [],
   "source": [
    "# Rename columns\n",
    "df0$Effect <- log(df0$OR)\n",
    "df0$`P-value` <- df0$P\n",
    "df0$StdErr <- (log(df0$OR_95U) - log(df0$OR_95L)) / (2 * 1.96)\n",
    "df0$MarkerName <- df0$MARKERNAME\n",
    "df0$CHR <- df0$CHROMOSOME\n",
    "df0$BP <- df0$POSITION"
   ]
  },
  {
   "cell_type": "code",
   "execution_count": 20,
   "id": "a5866442-d84e-4019-a329-9bc88a2a3807",
   "metadata": {
    "vscode": {
     "languageId": "r"
    }
   },
   "outputs": [],
   "source": [
    "## EXTRACT CHRS - 100KB up & downstream from GWAS hits\n",
    "# APOE rs429358 at chromosome 19, position 45,411,941 & rs7412 at chromosome 19, position 45,412,079\n",
    "APOE_sumstats = subset(df0, CHR==19 & ((BP > 45311941 & BP < 45511941) | (BP > 45312079 & BP < 45512079)))\n",
    "# ABCA7 rs12151021 at chromosome 19, BP 1,050,874\n",
    "ABCA7_sumstats = subset(df0, CHR==19 & BP > 950874 & BP < 1150874)\n",
    "# ACE rs4311 at chromosome 17, BP 61,560,763\n",
    "ACE_sumstats = subset(df0, CHR==17 & BP > 61460763 & BP < 61660763)\n",
    "# ADAMTS1 at chromosome 21, BP 28,148,191\n",
    "ADAMTS1_sumstats = subset(df0, CHR==21 & BP > 28048191 & BP < 28248191)\n",
    "# ANK3 rs2830489 at chromosome 10, BP 61,784,928\n",
    "ANK3_sumstats = subset(df0, CHR==10 & BP > 61684928 & BP < 61884928)\n",
    "# APH1B rs117618017 at chromosome 15, BP 63,569,902\n",
    "APH1B_sumstats = subset(df0, CHR==15 & BP > 63469902 & BP < 63669902)\n",
    "# APP rs2154481 at chromosome 21, BP 27,473,875\n",
    "APP_sumstats = subset(df0, CHR==21 & BP > 27373875 & BP < 27573875)\n",
    "# BIN1 rs6733839 at chromosome 2, BP 127,892,810\n",
    "BIN1_sumstats = subset(df0, CHR==2 & BP > 127792810 & BP < 127992810)\n",
    "# CLNK/HS3ST1 rs10939105 at chromosome 4, BP 11,023,682\n",
    "CLNK_sumstats = subset(df0, CHR==4 & BP > 10923682 & BP < 11123682)\n",
    "# CLU rs1532278 at chromosome 8, BP 27,466,315\n",
    "CLU_sumstats = subset(df0, CHR==8 & BP > 27366315 & BP < 27566315)\n",
    "# CR1 rs679515 at chromosome 1, BP 207,750,568\n",
    "CR1_sumstats = subset(df0, CHR==1 & BP > 207650568 & BP < 207850568)\n",
    "# CTSB rs1065712 at chromosome 8, BP 11,702,122\n",
    "CTSB_sumstats = subset(df0, CHR==8 & BP > 11602122 & BP < 11802122)\n",
    "# DOC2A rs1140239 at chromosome 16, BP 30,021,402\n",
    "DOC2A_sumstats = subset(df0, CHR==16 & BP > 29921402 & BP < 30121402)\n",
    "# FAM157C/PRDM7 rs56407236 at chromosome 16, BP\t90,170,095\n",
    "FAM157C_sumstats = subset(df0, CHR==16 & BP > 90070095 & BP < 90270095)\n",
    "# FBXO33 rs74745468 at chromosome 14, BP 39,887,676\n",
    "FBXO33_sumstats = subset(df0, CHR==14 & BP > 39787676 & BP < 39987676)\n",
    "# FERMT2 rs2025632 at chromosome 14, BP\t53,294,319\n",
    "FERMT2_sumstats = subset(df0, CHR==14 & BP > 53194319 & BP < 53394319)\n",
    "# GRN rs5848 at chromosome 17, BP 42,430,244\n",
    "GRN_sumstats = subset(df0, CHR==17 & BP > 42330244 & BP < 42530244)\n",
    "# HS3ST5 rs9374457 at chromosome 6, 114,679,925\n",
    "HS3ST5_sumstats = subset(df0, CHR==6 & BP > 114579925 & BP < 114779925)\n",
    "# IDUA rs4690221 at chromosome 4, BP 983,809\n",
    "IDUA_sumstats = subset(df0, CHR==4 & BP > 883809 & BP < 1083809)\n",
    "# IGH gene cluster rs74093831 at chromosome 14, BP 106,200,003\n",
    "IGH_sumstats = subset(df0, CHR==14 & BP > 106100003 & BP < 106300003)\n",
    "# KAT8 rs78924645 at chromosome 16, BP 31,154,358\n",
    "KAT8_sumstats = subset(df0, CHR==16 & BP > 31054358 & BP < 31254358)\n",
    "# LILRB2 rs12984029 at chromosome 19, BP 54,769,366\n",
    "LILRB2_sumstats = subset(df0, CHR==19 & BP > 54669366 & BP < 54869366)\n",
    "# MAF rs434626 at chromosome 16, BP\t79,606,520\n",
    "MAF_sumstats = subset(df0, CHR==16 & BP > 79506520 & BP < 79706520)\n",
    "# MS4A gene cluster rs7232 at chromosome 11, BP\t59,940,599\n",
    "MS4A_sumstats = subset(df0, CHR==11 & BP > 59840599 & BP < 60040599)\n",
    "# PICALM rs3851179 at chromosome 11, BP\t85,868,640\n",
    "PICALM_sumstats = subset(df0, CHR==11 & BP > 85768640 & BP < 85968640)\n",
    "# PLCG2 rs9931998 at chromosome 16, BP 81,772,536\n",
    "PLCG2_sumstats = subset(df0, CHR==16 & BP > 81672536 & BP < 81872536)\n",
    "# PLEKHA1 rs2292626 at chromosome 10, BP 124,186,714\n",
    "PLEKHA1_sumstats = subset(df0, CHR==10 & BP > 124086714 & BP < 124286714)\n",
    "# RASGEF1C rs113706587 at chromosome 5, BP 179,628,150\n",
    "RASGEF1C_sumstats = subset(df0, CHR==5 & BP > 179528150 & BP < 179728150)\n",
    "# REXO1 rs732310 at chromosome 19, BP 1,833,338\n",
    "REXO1_sumstats = subset(df0, CHR==19 & BP > 1733338 & BP < 1933338)\n",
    "# SCIMP/RABEP1 rs57402520 at chromosome 17, BP 5,139,807\n",
    "SCIMP_sumstats = subset(df0, CHR==17 & BP > 5039807 & BP < 5239807)\n",
    "# SHARPIN rs34173062 at chromosome 8, BP 145,158,607\n",
    "SHARPIN_sumstats = subset(df0, CHR==8 & BP > 145058607 & BP < 145258607)\n",
    "# SLC24A4 rs12590654 at chromosome 14, BP 92,938,855\n",
    "SLC24A4_sumstats = subset(df0, CHR==14 & BP > 92838855 & BP < 93038855)\n",
    "# SNX31 rs1693551 at chromosome 8, BP 101,675,584\n",
    "SNX31_sumstats = subset(df0, CHR==8 & BP > 101575584 & BP < 101775584)\n",
    "# SORL1 rs117807585 at chromosome 11, BP 121,456,061\n",
    "SORL1_sumstats = subset(df0, CHR==11 & BP > 121356061 & BP < 121556061)\n",
    "# TRANK1 rs9867455 at chromosome 3, BP 36,953,424\n",
    "TRANK1_sumstats = subset(df0, CHR==3 & BP > 36853424 & BP < 37053424)\n",
    "# TSPOAP1 rs2526378 at chromosome 17, BP 56,404,349\n",
    "TSPOAP1_sumstats = subset(df0, CHR==17 & BP > 56304349 & BP < 56504349)\n",
    "# UMAD1 rs6943429 at chromosome 7, BP 785,694\n",
    "UMAD1_sumstats = subset(df0, CHR==7 & BP > 685694 & BP < 885694)\n",
    "# WDR12/ICA1L rs149163995 at chromosome 2, BP 203,777,226\n",
    "WDR12_sumstats = subset(df0, CHR==2 & BP > 203677226 & BP < 203877226)"
   ]
  },
  {
   "cell_type": "code",
   "execution_count": 21,
   "id": "d952c48c-f5cc-49cf-8167-e3e5cec4fae1",
   "metadata": {
    "vscode": {
     "languageId": "r"
    }
   },
   "outputs": [],
   "source": [
    "## Run for genes\n",
    "genes <- c(\"APOE\",\"ABCA7\",\"ACE\",\"ADAMTS1\",\"ANK3\",\"APH1B\",\"APP\",\"BIN1\",\"CLNK\",\"CLU\",\"CR1\",\"CTSB\",\"DOC2A\",\"FAM157C\",\"FBXO33\",\"FERMT2\",\"GRN\",\"HS3ST5\",\"IDUA\",\"IGH\",\"KAT8\",\"LILRB2\",\"MAF\",\"MS4A\",\"PICALM\",\"PLCG2\",\"PLEKHA1\",\"RASGEF1C\",\"REXO1\",\"SCIMP\",\"SHARPIN\",\"SLC24A4\",\"SNX31\",\"SORL1\",\"TRANK1\",\"TSPOAP1\",\"UMAD1\",\"WDR12\")"
   ]
  },
  {
   "cell_type": "code",
   "execution_count": 22,
   "id": "98fdf7ca-8a8b-47ee-a644-2782ed9395b3",
   "metadata": {
    "vscode": {
     "languageId": "r"
    }
   },
   "outputs": [],
   "source": [
    "for (gene in genes) {\n",
    "    # Assume gene_sumstats is a data frame with summary statistics for each gene\n",
    "    gene_sumstats <- get(paste0(gene, \"_sumstats\"))  # Get the data frame for the current gene\n",
    "    if (is.data.frame(gene_sumstats)) {\n",
    "        write_tsv(gene_sumstats, paste0(\"{WORK_DIR}/PAR/\", \"/\", gene, \"_ad_variants_lat.tab\"))\n",
    "    } else {\n",
    "        warning(paste(\"No data frame found for\", gene))\n",
    "    }\n",
    "}"
   ]
  },
  {
   "cell_type": "code",
   "execution_count": 23,
   "id": "43aac15f-fb9c-46f3-a1fb-e3527648f3d2",
   "metadata": {
    "vscode": {
     "languageId": "r"
    }
   },
   "outputs": [],
   "source": [
    "## Run for genes\n",
    "genes <- c(\"APOE\",\"ABCA7\",\"ACE\",\"ADAMTS1\",\"ANK3\",\"APH1B\",\"APP\",\"BIN1\",\"CLNK\",\"CLU\",\"CR1\",\"CTSB\",\"DOC2A\",\"FAM157C\",\"FBXO33\",\"FERMT2\",\"GRN\",\"HS3ST5\",\"IDUA\",\"IGH\",\"KAT8\",\"LILRB2\",\"MAF\",\"MS4A\",\"PICALM\",\"PLCG2\",\"PLEKHA1\",\"RASGEF1C\",\"REXO1\",\"SCIMP\",\"SHARPIN\",\"SLC24A4\",\"SNX31\",\"SORL1\",\"TRANK1\",\"TSPOAP1\",\"UMAD1\",\"WDR12\")"
   ]
  },
  {
   "cell_type": "code",
   "execution_count": 24,
   "id": "ddeadd5b-97c5-4858-96d8-1020b3c1f63b",
   "metadata": {
    "vscode": {
     "languageId": "r"
    }
   },
   "outputs": [],
   "source": [
    "for (gene in genes) {\n",
    "    input_file <- paste0(\"{WORK_DIR}/PAR/\", gene, \"_ad_variants_lat.tab\")\n",
    "    output_file <- paste0(\"{WORK_DIR}/PAR/\", gene, \"_Lake_2023.csv\")\n",
    "    \n",
    "    # Read in the dataset\n",
    "    dataset1 <- fread(input_file, header = TRUE, sep = \"\\t\")\n",
    "    \n",
    "    # Remove duplicated rows based on the 'MarkerName' column\n",
    "    dataset1 <- dataset1[!duplicated(dataset1$MarkerName), ]\n",
    "    \n",
    "    # Add a new column 'StdErr_squared' by squaring 'StdErr'\n",
    "    dataset_final <- dataset1 %>% mutate(StdErr_squared = StdErr^2)\n",
    "    \n",
    "    # Select the required columns and rename them\n",
    "    output <- dataset_final[, c(\"MarkerName\", \"Effect\", \"P-value\", \"StdErr_squared\")]\n",
    "    colnames(output) <- c(\"SNP\", \"beta\", \"P\", \"varbeta\")\n",
    "    \n",
    "    # Write the output to a CSV file\n",
    "    fwrite(output, file = output_file, na = \"NA\", quote = FALSE, row.names = FALSE, sep = \"\\t\")\n",
    "}"
   ]
  },
  {
   "cell_type": "code",
   "execution_count": 25,
   "id": "694aa4da-85ff-4fb9-bf1d-0e2670493f31",
   "metadata": {
    "vscode": {
     "languageId": "r"
    }
   },
   "outputs": [],
   "source": [
    "## Run for genes\n",
    "genes <- c(\"APOE\",\"ABCA7\",\"ACE\",\"ADAMTS1\",\"ANK3\",\"APH1B\",\"APP\",\"BIN1\",\"CLNK\",\"CLU\",\"CR1\",\"CTSB\",\"DOC2A\",\"FAM157C\",\"FBXO33\",\"FERMT2\",\"GRN\",\"HS3ST5\",\"IDUA\",\"IGH\",\"KAT8\",\"LILRB2\",\"MAF\",\"MS4A\",\"PICALM\",\"PLCG2\",\"PLEKHA1\",\"RASGEF1C\",\"REXO1\",\"SCIMP\",\"SHARPIN\",\"SLC24A4\",\"SNX31\",\"SORL1\",\"TRANK1\",\"TSPOAP1\",\"UMAD1\",\"WDR12\")"
   ]
  },
  {
   "cell_type": "code",
   "execution_count": 26,
   "id": "fe4d20d6-08e7-40d1-8c5e-ff7b6e38d0a5",
   "metadata": {
    "vscode": {
     "languageId": "r"
    }
   },
   "outputs": [
    {
     "name": "stderr",
     "output_type": "stream",
     "text": [
      "Warning message in check_dataset(dataset, \"\"):\n",
      "“minimum p value is: 7.8536e-05\n",
      "If this is what you expected, this is not a problem.\n",
      "If this is not as small as you expected, please check you supplied var(beta) and not sd(beta) for the varbeta argument. If that's not the explanation, please check the 02_data vignette.”\n",
      "Warning message in check_dataset(dataset, \"\"):\n",
      "“minimum p value is: 0.029846\n",
      "If this is what you expected, this is not a problem.\n",
      "If this is not as small as you expected, please check you supplied var(beta) and not sd(beta) for the varbeta argument. If that's not the explanation, please check the 02_data vignette.”\n",
      "Warning message in check_dataset(dataset, \"\"):\n",
      "“minimum p value is: 0.0010264\n",
      "If this is what you expected, this is not a problem.\n",
      "If this is not as small as you expected, please check you supplied var(beta) and not sd(beta) for the varbeta argument. If that's not the explanation, please check the 02_data vignette.”\n",
      "Warning message in check_dataset(dataset, \"\"):\n",
      "“minimum p value is: 0.0012185\n",
      "If this is what you expected, this is not a problem.\n",
      "If this is not as small as you expected, please check you supplied var(beta) and not sd(beta) for the varbeta argument. If that's not the explanation, please check the 02_data vignette.”\n",
      "Warning message in check_dataset(dataset, \"\"):\n",
      "“minimum p value is: 0.0099209\n",
      "If this is what you expected, this is not a problem.\n",
      "If this is not as small as you expected, please check you supplied var(beta) and not sd(beta) for the varbeta argument. If that's not the explanation, please check the 02_data vignette.”\n",
      "Warning message in check_dataset(dataset, \"\"):\n",
      "“minimum p value is: 0.011483\n",
      "If this is what you expected, this is not a problem.\n",
      "If this is not as small as you expected, please check you supplied var(beta) and not sd(beta) for the varbeta argument. If that's not the explanation, please check the 02_data vignette.”\n",
      "Warning message in check_dataset(dataset, \"\"):\n",
      "“minimum p value is: 0.0069658\n",
      "If this is what you expected, this is not a problem.\n",
      "If this is not as small as you expected, please check you supplied var(beta) and not sd(beta) for the varbeta argument. If that's not the explanation, please check the 02_data vignette.”\n",
      "Warning message in check_dataset(dataset, \"\"):\n",
      "“minimum p value is: 0.0016058\n",
      "If this is what you expected, this is not a problem.\n",
      "If this is not as small as you expected, please check you supplied var(beta) and not sd(beta) for the varbeta argument. If that's not the explanation, please check the 02_data vignette.”\n",
      "Warning message in check_dataset(dataset, \"\"):\n",
      "“minimum p value is: 0.01458\n",
      "If this is what you expected, this is not a problem.\n",
      "If this is not as small as you expected, please check you supplied var(beta) and not sd(beta) for the varbeta argument. If that's not the explanation, please check the 02_data vignette.”\n",
      "Warning message in check_dataset(dataset, \"\"):\n",
      "“minimum p value is: 0.0077678\n",
      "If this is what you expected, this is not a problem.\n",
      "If this is not as small as you expected, please check you supplied var(beta) and not sd(beta) for the varbeta argument. If that's not the explanation, please check the 02_data vignette.”\n",
      "Warning message in check_dataset(dataset, \"\"):\n",
      "“minimum p value is: 0.010104\n",
      "If this is what you expected, this is not a problem.\n",
      "If this is not as small as you expected, please check you supplied var(beta) and not sd(beta) for the varbeta argument. If that's not the explanation, please check the 02_data vignette.”\n",
      "Warning message in check_dataset(dataset, \"\"):\n",
      "“minimum p value is: 0.009488\n",
      "If this is what you expected, this is not a problem.\n",
      "If this is not as small as you expected, please check you supplied var(beta) and not sd(beta) for the varbeta argument. If that's not the explanation, please check the 02_data vignette.”\n",
      "Warning message in check_dataset(dataset, \"\"):\n",
      "“minimum p value is: 0.0010084\n",
      "If this is what you expected, this is not a problem.\n",
      "If this is not as small as you expected, please check you supplied var(beta) and not sd(beta) for the varbeta argument. If that's not the explanation, please check the 02_data vignette.”\n",
      "Warning message in check_dataset(dataset, \"\"):\n",
      "“minimum p value is: 0.0056643\n",
      "If this is what you expected, this is not a problem.\n",
      "If this is not as small as you expected, please check you supplied var(beta) and not sd(beta) for the varbeta argument. If that's not the explanation, please check the 02_data vignette.”\n",
      "Warning message in check_dataset(dataset, \"\"):\n",
      "“minimum p value is: 0.017095\n",
      "If this is what you expected, this is not a problem.\n",
      "If this is not as small as you expected, please check you supplied var(beta) and not sd(beta) for the varbeta argument. If that's not the explanation, please check the 02_data vignette.”\n",
      "Warning message in check_dataset(dataset, \"\"):\n",
      "“minimum p value is: 0.014079\n",
      "If this is what you expected, this is not a problem.\n",
      "If this is not as small as you expected, please check you supplied var(beta) and not sd(beta) for the varbeta argument. If that's not the explanation, please check the 02_data vignette.”\n",
      "Warning message in check_dataset(dataset, \"\"):\n",
      "“minimum p value is: 0.0022678\n",
      "If this is what you expected, this is not a problem.\n",
      "If this is not as small as you expected, please check you supplied var(beta) and not sd(beta) for the varbeta argument. If that's not the explanation, please check the 02_data vignette.”\n",
      "Warning message in check_dataset(dataset, \"\"):\n",
      "“minimum p value is: 0.0079273\n",
      "If this is what you expected, this is not a problem.\n",
      "If this is not as small as you expected, please check you supplied var(beta) and not sd(beta) for the varbeta argument. If that's not the explanation, please check the 02_data vignette.”\n",
      "Warning message in check_dataset(dataset, \"\"):\n",
      "“minimum p value is: 0.010857\n",
      "If this is what you expected, this is not a problem.\n",
      "If this is not as small as you expected, please check you supplied var(beta) and not sd(beta) for the varbeta argument. If that's not the explanation, please check the 02_data vignette.”\n",
      "Warning message in check_dataset(dataset, \"\"):\n",
      "“minimum p value is: 0.022008\n",
      "If this is what you expected, this is not a problem.\n",
      "If this is not as small as you expected, please check you supplied var(beta) and not sd(beta) for the varbeta argument. If that's not the explanation, please check the 02_data vignette.”\n",
      "Warning message in check_dataset(dataset, \"\"):\n",
      "“minimum p value is: 0.00092692\n",
      "If this is what you expected, this is not a problem.\n",
      "If this is not as small as you expected, please check you supplied var(beta) and not sd(beta) for the varbeta argument. If that's not the explanation, please check the 02_data vignette.”\n",
      "Warning message in check_dataset(dataset, \"\"):\n",
      "“minimum p value is: 0.00058115\n",
      "If this is what you expected, this is not a problem.\n",
      "If this is not as small as you expected, please check you supplied var(beta) and not sd(beta) for the varbeta argument. If that's not the explanation, please check the 02_data vignette.”\n",
      "Warning message in check_dataset(dataset, \"\"):\n",
      "“minimum p value is: 0.00028197\n",
      "If this is what you expected, this is not a problem.\n",
      "If this is not as small as you expected, please check you supplied var(beta) and not sd(beta) for the varbeta argument. If that's not the explanation, please check the 02_data vignette.”\n",
      "Warning message in check_dataset(dataset, \"\"):\n",
      "“minimum p value is: 0.00011805\n",
      "If this is what you expected, this is not a problem.\n",
      "If this is not as small as you expected, please check you supplied var(beta) and not sd(beta) for the varbeta argument. If that's not the explanation, please check the 02_data vignette.”\n",
      "Warning message in check_dataset(dataset, \"\"):\n",
      "“minimum p value is: 0.0050162\n",
      "If this is what you expected, this is not a problem.\n",
      "If this is not as small as you expected, please check you supplied var(beta) and not sd(beta) for the varbeta argument. If that's not the explanation, please check the 02_data vignette.”\n",
      "Warning message in check_dataset(dataset, \"\"):\n",
      "“minimum p value is: 0.0072879\n",
      "If this is what you expected, this is not a problem.\n",
      "If this is not as small as you expected, please check you supplied var(beta) and not sd(beta) for the varbeta argument. If that's not the explanation, please check the 02_data vignette.”\n",
      "Warning message in check_dataset(dataset, \"\"):\n",
      "“minimum p value is: 0.00037295\n",
      "If this is what you expected, this is not a problem.\n",
      "If this is not as small as you expected, please check you supplied var(beta) and not sd(beta) for the varbeta argument. If that's not the explanation, please check the 02_data vignette.”\n",
      "Warning message in check_dataset(dataset, \"\"):\n",
      "“minimum p value is: 0.0032683\n",
      "If this is what you expected, this is not a problem.\n",
      "If this is not as small as you expected, please check you supplied var(beta) and not sd(beta) for the varbeta argument. If that's not the explanation, please check the 02_data vignette.”\n",
      "Warning message in check_dataset(dataset, \"\"):\n",
      "“minimum p value is: 0.0055101\n",
      "If this is what you expected, this is not a problem.\n",
      "If this is not as small as you expected, please check you supplied var(beta) and not sd(beta) for the varbeta argument. If that's not the explanation, please check the 02_data vignette.”\n",
      "Warning message in check_dataset(dataset, \"\"):\n",
      "“minimum p value is: 0.012074\n",
      "If this is what you expected, this is not a problem.\n",
      "If this is not as small as you expected, please check you supplied var(beta) and not sd(beta) for the varbeta argument. If that's not the explanation, please check the 02_data vignette.”\n",
      "Warning message in check_dataset(dataset, \"\"):\n",
      "“minimum p value is: 0.00046505\n",
      "If this is what you expected, this is not a problem.\n",
      "If this is not as small as you expected, please check you supplied var(beta) and not sd(beta) for the varbeta argument. If that's not the explanation, please check the 02_data vignette.”\n",
      "Warning message in check_dataset(dataset, \"\"):\n",
      "“minimum p value is: 2.2244e-05\n",
      "If this is what you expected, this is not a problem.\n",
      "If this is not as small as you expected, please check you supplied var(beta) and not sd(beta) for the varbeta argument. If that's not the explanation, please check the 02_data vignette.”\n",
      "Warning message in check_dataset(dataset, \"\"):\n",
      "“minimum p value is: 0.0023193\n",
      "If this is what you expected, this is not a problem.\n",
      "If this is not as small as you expected, please check you supplied var(beta) and not sd(beta) for the varbeta argument. If that's not the explanation, please check the 02_data vignette.”\n",
      "Warning message in check_dataset(dataset, \"\"):\n",
      "“minimum p value is: 0.0015813\n",
      "If this is what you expected, this is not a problem.\n",
      "If this is not as small as you expected, please check you supplied var(beta) and not sd(beta) for the varbeta argument. If that's not the explanation, please check the 02_data vignette.”\n",
      "Warning message in check_dataset(dataset, \"\"):\n",
      "“minimum p value is: 0.0018993\n",
      "If this is what you expected, this is not a problem.\n",
      "If this is not as small as you expected, please check you supplied var(beta) and not sd(beta) for the varbeta argument. If that's not the explanation, please check the 02_data vignette.”\n",
      "Warning message in check_dataset(dataset, \"\"):\n",
      "“minimum p value is: 0.0085301\n",
      "If this is what you expected, this is not a problem.\n",
      "If this is not as small as you expected, please check you supplied var(beta) and not sd(beta) for the varbeta argument. If that's not the explanation, please check the 02_data vignette.”\n",
      "Warning message in check_dataset(dataset, \"\"):\n",
      "“minimum p value is: 0.018422\n",
      "If this is what you expected, this is not a problem.\n",
      "If this is not as small as you expected, please check you supplied var(beta) and not sd(beta) for the varbeta argument. If that's not the explanation, please check the 02_data vignette.”\n"
     ]
    }
   ],
   "source": [
    "for (gene in genes) {\n",
    "    input_file <- paste0(\"{WORK_DIR}/PAR/\", gene, \"_Lake_2023.csv\")\n",
    "    output <- fread(input_file, header = TRUE, sep = \"\\t\")\n",
    "    \n",
    "    # Check if output has 0 rows\n",
    "    if (nrow(output) == 0) {\n",
    "        cat(\"No rows in output for gene: \", gene, \". Skipping...\\n\")\n",
    "        next  # Skip to the next gene in the loop\n",
    "    }\n",
    "    \n",
    "    SNP <- output$SNP\n",
    "    beta <- output$beta\n",
    "    varbeta <- output$varbeta\n",
    "    N <- 2274  # 1,095 AD cases vs 2,274 total (1,095 cases, 1,179 controls - Lake et al 2023)\n",
    "    s <- 0.482\n",
    "    type <- 'cc'\n",
    "    \n",
    "    # Create dataset for fine-mapping\n",
    "    dataset <- list(\n",
    "        snp = SNP, \n",
    "        beta = beta, \n",
    "        varbeta = varbeta, \n",
    "        N = N, \n",
    "        s = s, \n",
    "        type = type)\n",
    "        \n",
    "    # Ensure dataset variables are numeric\n",
    "    dataset$snp <- unlist(dataset$snp)\n",
    "    dataset$beta <- unlist(dataset$beta)\n",
    "    dataset$varbeta <- unlist(dataset$varbeta)\n",
    "    \n",
    "    # Assuming finemap.abf() works with a list, otherwise convert to a data.frame\n",
    "    results <- finemap.abf(\n",
    "        dataset = dataset,\n",
    "        p1 = 1e-04  # Optional parameter for p-value threshold (can adjust based on your data)\n",
    "    )\n",
    "        \n",
    "    # Check if results has 0 rows\n",
    "    if (nrow(results) == 0) {\n",
    "        cat(\"No results returned for gene: \", gene, \". Skipping...\\n\")\n",
    "        next  # Skip to the next gene in the loop\n",
    "    }\n",
    "    \n",
    "    # Combine the results with the original output\n",
    "    combo <- cbind(results[1:(nrow(results) - 1),], output)\n",
    "    \n",
    "    # Subset results where SNP.PP > 0.2\n",
    "    hits <- subset(combo, SNP.PP > 0.2)\n",
    "    \n",
    "    # Save the results to a CSV file\n",
    "    final_output_file <- paste0(\"{WORK_DIR}/PAR/\", gene, \"_results_fine_map_Lake.csv\")\n",
    "    fwrite(combo, file = final_output_file, na = \"NA\", quote = F, row.names = F, sep = \",\")\n",
    "    }"
   ]
  },
  {
   "cell_type": "code",
   "execution_count": 27,
   "id": "ca685dbe-b88a-48e7-b170-016eb6f1294d",
   "metadata": {
    "vscode": {
     "languageId": "r"
    }
   },
   "outputs": [
    {
     "name": "stdout",
     "output_type": "stream",
     "text": [
      "           V.        z.        r.     lABF.         snp prior       SNP.PP\n",
      "1 0.042194911  3.948823 0.4866481  3.460805  19:1100550 1e-04 0.0031912971\n",
      "2 0.012879299  2.172129 0.7564397  1.078301 17:61586471 1e-04 0.0002970457\n",
      "3 0.011601875 -2.563746 0.7751656  1.801306 21:28123425 1e-04 0.0006158356\n",
      "4 0.011030671 -3.234525 0.7838423  3.334466 10:61879846 1e-04 0.0028022552\n",
      "5 0.007990143 -2.280541 0.8335045  1.271080 15:63657737 1e-04 0.0003611486\n",
      "6 0.009074449  7.519604 0.8150881 22.200412 19:45411941 1e-04 0.9999355772\n",
      "          SNP       beta           P     varbeta    gene\n",
      "1  19:1100550  0.8111435 7.85388e-05 0.042194911   ABCA7\n",
      "2 17:61586471  0.2465085 2.98485e-02 0.012879299     ACE\n",
      "3 21:28123425 -0.2761462 1.03554e-02 0.011601875 ADAMTS1\n",
      "4 10:61879846 -0.3397125 1.21843e-03 0.011030671    ANK3\n",
      "5 15:63657737 -0.2038521 2.25757e-02 0.007990143   APH1B\n",
      "6 19:45411941  0.7163167 5.49416e-14 0.009074449    APOE\n"
     ]
    }
   ],
   "source": [
    "# Define the directory containing the CSV files\n",
    "input_directory <- \"{WORK_DIR}/PAR/\"  # Replace with your directory path\n",
    "\n",
    "# List all files with the pattern \"results_fine_map.csv\" in the directory\n",
    "file_list <- list.files(input_directory, pattern = \"_results_fine_map_Lake.csv$\", full.names = TRUE)\n",
    "\n",
    "# Initialize an empty list to store the results\n",
    "results_list <- list()\n",
    "\n",
    "# Loop through each file\n",
    "for (file in file_list) {\n",
    "  # Extract the gene name from the file name (remove the \"_results_fine_map.csv\" suffix)\n",
    "  gene <- gsub(\"_results_fine_map_Lake\\\\.csv$\", \"\", basename(file))\n",
    "  \n",
    "  # Read the CSV file\n",
    "  data <- read.csv(file)\n",
    "  \n",
    "  # Select the SNP with the highest SNP.PP value\n",
    "  best_snp <- data %>%\n",
    "    slice_max(SNP.PP, n = 1) %>%  # Select row(s) with the max SNP.PP\n",
    "    mutate(gene = gene)           # Add the gene name\n",
    "  \n",
    "  # Append to the results list\n",
    "  results_list[[gene]] <- best_snp\n",
    "}\n",
    "\n",
    "# Combine all results into a single dataframe\n",
    "final_results <- bind_rows(results_list)\n",
    "\n",
    "# Export the results to a CSV file\n",
    "output_file <- \"top_snp_per_gene_lat_ad.csv\"  # Desired output file name\n",
    "write.csv(final_results, output_file, row.names = FALSE)\n",
    "\n",
    "# Print the first few rows of the final results\n",
    "print(head(final_results))"
   ]
  },
  {
   "cell_type": "code",
   "execution_count": null,
   "id": "f62d04fb-2b81-4164-8131-9db2f5047ae1",
   "metadata": {
    "vscode": {
     "languageId": "r"
    }
   },
   "outputs": [],
   "source": []
  },
  {
   "cell_type": "code",
   "execution_count": null,
   "id": "9d101bcc-d06b-4d19-9023-6aac747ecd49",
   "metadata": {
    "vscode": {
     "languageId": "r"
    }
   },
   "outputs": [],
   "source": []
  },
  {
   "cell_type": "code",
   "execution_count": null,
   "id": "36481f66-0fd7-442b-b054-80154fd11921",
   "metadata": {
    "vscode": {
     "languageId": "r"
    }
   },
   "outputs": [],
   "source": []
  }
 ],
 "metadata": {
  "kernelspec": {
   "display_name": "R/4.4",
   "language": "R",
   "name": "ir44"
  },
  "language_info": {
   "codemirror_mode": "r",
   "file_extension": ".r",
   "mimetype": "text/x-r-source",
   "name": "R",
   "pygments_lexer": "r",
   "version": "4.4.2"
  }
 },
 "nbformat": 4,
 "nbformat_minor": 5
}
