{
 "cells": [
  {
   "cell_type": "markdown",
   "id": "8eeb4a32-54cd-4a39-909d-427579074301",
   "metadata": {},
   "source": [
    "# Fine-mapping of AD-related risk loci in Black/African American summary statistics\n",
    "* Project: Cross-ancestry PAR\n",
    "* Version: R/4.4\n",
    "* Status: Complete\n",
    "* Last Updated: 13-FEB-2025"
   ]
  },
  {
   "cell_type": "markdown",
   "id": "0085a071-3269-4390-a74d-932ddb5cbc80",
   "metadata": {},
   "source": [
    "## Notebook overview\n",
    "* Extract chromosome and base pair positions from summary statistics for selected loci\n",
    "* Perform fine-mapping and save results"
   ]
  },
  {
   "cell_type": "code",
   "execution_count": 1,
   "id": "a1e57727-805b-425a-bfa0-f0f220bb44c4",
   "metadata": {
    "vscode": {
     "languageId": "r"
    }
   },
   "outputs": [
    {
     "name": "stderr",
     "output_type": "stream",
     "text": [
      "This is coloc version 5.2.3\n",
      "\n",
      "── \u001b[1mAttaching core tidyverse packages\u001b[22m ────────────────────────── tidyverse 2.0.0 ──\n",
      "\u001b[32m✔\u001b[39m \u001b[34mdplyr    \u001b[39m 1.1.4     \u001b[32m✔\u001b[39m \u001b[34mreadr    \u001b[39m 2.1.5\n",
      "\u001b[32m✔\u001b[39m \u001b[34mforcats  \u001b[39m 1.0.0     \u001b[32m✔\u001b[39m \u001b[34mstringr  \u001b[39m 1.5.1\n",
      "\u001b[32m✔\u001b[39m \u001b[34mlubridate\u001b[39m 1.9.3     \u001b[32m✔\u001b[39m \u001b[34mtibble   \u001b[39m 3.2.1\n",
      "\u001b[32m✔\u001b[39m \u001b[34mpurrr    \u001b[39m 1.0.2     \n",
      "── \u001b[1mConflicts\u001b[22m ──────────────────────────────────────────── tidyverse_conflicts() ──\n",
      "\u001b[31m✖\u001b[39m \u001b[34mdplyr\u001b[39m::\u001b[32mbetween()\u001b[39m     masks \u001b[34mdata.table\u001b[39m::between()\n",
      "\u001b[31m✖\u001b[39m \u001b[34mdplyr\u001b[39m::\u001b[32mfilter()\u001b[39m      masks \u001b[34mstats\u001b[39m::filter()\n",
      "\u001b[31m✖\u001b[39m \u001b[34mdplyr\u001b[39m::\u001b[32mfirst()\u001b[39m       masks \u001b[34mdata.table\u001b[39m::first()\n",
      "\u001b[31m✖\u001b[39m \u001b[34mlubridate\u001b[39m::\u001b[32mhour()\u001b[39m    masks \u001b[34mdata.table\u001b[39m::hour()\n",
      "\u001b[31m✖\u001b[39m \u001b[34mlubridate\u001b[39m::\u001b[32misoweek()\u001b[39m masks \u001b[34mdata.table\u001b[39m::isoweek()\n",
      "\u001b[31m✖\u001b[39m \u001b[34mdplyr\u001b[39m::\u001b[32mlag()\u001b[39m         masks \u001b[34mstats\u001b[39m::lag()\n",
      "\u001b[31m✖\u001b[39m \u001b[34mdplyr\u001b[39m::\u001b[32mlast()\u001b[39m        masks \u001b[34mdata.table\u001b[39m::last()\n",
      "\u001b[31m✖\u001b[39m \u001b[34mlubridate\u001b[39m::\u001b[32mmday()\u001b[39m    masks \u001b[34mdata.table\u001b[39m::mday()\n",
      "\u001b[31m✖\u001b[39m \u001b[34mlubridate\u001b[39m::\u001b[32mminute()\u001b[39m  masks \u001b[34mdata.table\u001b[39m::minute()\n",
      "\u001b[31m✖\u001b[39m \u001b[34mlubridate\u001b[39m::\u001b[32mmonth()\u001b[39m   masks \u001b[34mdata.table\u001b[39m::month()\n",
      "\u001b[31m✖\u001b[39m \u001b[34mlubridate\u001b[39m::\u001b[32mquarter()\u001b[39m masks \u001b[34mdata.table\u001b[39m::quarter()\n",
      "\u001b[31m✖\u001b[39m \u001b[34mlubridate\u001b[39m::\u001b[32msecond()\u001b[39m  masks \u001b[34mdata.table\u001b[39m::second()\n",
      "\u001b[31m✖\u001b[39m \u001b[34mpurrr\u001b[39m::\u001b[32mtranspose()\u001b[39m   masks \u001b[34mdata.table\u001b[39m::transpose()\n",
      "\u001b[31m✖\u001b[39m \u001b[34mlubridate\u001b[39m::\u001b[32mwday()\u001b[39m    masks \u001b[34mdata.table\u001b[39m::wday()\n",
      "\u001b[31m✖\u001b[39m \u001b[34mlubridate\u001b[39m::\u001b[32mweek()\u001b[39m    masks \u001b[34mdata.table\u001b[39m::week()\n",
      "\u001b[31m✖\u001b[39m \u001b[34mlubridate\u001b[39m::\u001b[32myday()\u001b[39m    masks \u001b[34mdata.table\u001b[39m::yday()\n",
      "\u001b[31m✖\u001b[39m \u001b[34mlubridate\u001b[39m::\u001b[32myear()\u001b[39m    masks \u001b[34mdata.table\u001b[39m::year()\n",
      "\u001b[36mℹ\u001b[39m Use the conflicted package (\u001b[3m\u001b[34m<http://conflicted.r-lib.org/>\u001b[39m\u001b[23m) to force all conflicts to become errors\n"
     ]
    }
   ],
   "source": [
    "library(\"data.table\")\n",
    "#if (!requireNamespace(\"BiocManager\", quietly = TRUE))\n",
    "#    install.packages(\"BiocManager\")\n",
    "#BiocManager::install(\"snpStats\")\n",
    "library(\"robustbase\")\n",
    "library(ggplot2)\n",
    "library(tidyr)\n",
    "#devtools::install_github(\"chr1swallace/coloc\")\n",
    "library(\"coloc\")\n",
    "library(\"tidyverse\")\n",
    "library(\"readr\")"
   ]
  },
  {
   "cell_type": "code",
   "execution_count": 3,
   "id": "9367cd7f-25b1-49bb-a37d-7475a809e6be",
   "metadata": {
    "vscode": {
     "languageId": "r"
    }
   },
   "outputs": [],
   "source": [
    "## Read dataframe\n",
    "df0 <- fread(\"{WORK_DIR}/AD/summary_stats/diverse_ancestry/NG00100_Kunkle2021/Kunkle2020_ADGC_AA_META_Model1_SummaryStats.withAlleleFreqs_REFORMATTED.txt\", header =T)"
   ]
  },
  {
   "cell_type": "code",
   "execution_count": 4,
   "id": "52f44992-97f7-43dd-9891-187bc2b70f45",
   "metadata": {
    "vscode": {
     "languageId": "r"
    }
   },
   "outputs": [
    {
     "data": {
      "text/html": [
       "<table class=\"dataframe\">\n",
       "<caption>A data.table: 6 × 9</caption>\n",
       "<thead>\n",
       "\t<tr><th scope=col>Chr</th><th scope=col>Pos</th><th scope=col>MarkerName</th><th scope=col>Effect_allele</th><th scope=col>Non_Effect_allele</th><th scope=col>Beta</th><th scope=col>SE</th><th scope=col>Pvalue</th><th scope=col>Effect_allele_Freq</th></tr>\n",
       "\t<tr><th scope=col>&lt;int&gt;</th><th scope=col>&lt;int&gt;</th><th scope=col>&lt;chr&gt;</th><th scope=col>&lt;chr&gt;</th><th scope=col>&lt;chr&gt;</th><th scope=col>&lt;dbl&gt;</th><th scope=col>&lt;dbl&gt;</th><th scope=col>&lt;dbl&gt;</th><th scope=col>&lt;dbl&gt;</th></tr>\n",
       "</thead>\n",
       "<tbody>\n",
       "\t<tr><td>10</td><td>100000012</td><td>10:100000012</td><td>A</td><td>G</td><td> 0.1734</td><td>0.1515</td><td>0.2524</td><td>0.0180</td></tr>\n",
       "\t<tr><td>10</td><td>100000122</td><td>10:100000122</td><td>A</td><td>T</td><td> 0.3347</td><td>0.2294</td><td>0.1445</td><td>0.0083</td></tr>\n",
       "\t<tr><td>10</td><td>100000354</td><td>10:100000354</td><td>T</td><td>C</td><td> 0.6226</td><td>1.0170</td><td>0.5404</td><td>0.9989</td></tr>\n",
       "\t<tr><td>10</td><td>100000588</td><td>10:100000588</td><td>T</td><td>C</td><td>-0.0061</td><td>0.1033</td><td>0.9531</td><td>0.9603</td></tr>\n",
       "\t<tr><td>10</td><td>100000625</td><td>10:100000625</td><td>A</td><td>G</td><td> 0.0059</td><td>0.0415</td><td>0.8873</td><td>0.7182</td></tr>\n",
       "\t<tr><td>10</td><td>100000645</td><td>10:100000645</td><td>A</td><td>C</td><td> 0.0040</td><td>0.0491</td><td>0.9343</td><td>0.8230</td></tr>\n",
       "</tbody>\n",
       "</table>\n"
      ],
      "text/latex": [
       "A data.table: 6 × 9\n",
       "\\begin{tabular}{lllllllll}\n",
       " Chr & Pos & MarkerName & Effect\\_allele & Non\\_Effect\\_allele & Beta & SE & Pvalue & Effect\\_allele\\_Freq\\\\\n",
       " <int> & <int> & <chr> & <chr> & <chr> & <dbl> & <dbl> & <dbl> & <dbl>\\\\\n",
       "\\hline\n",
       "\t 10 & 100000012 & 10:100000012 & A & G &  0.1734 & 0.1515 & 0.2524 & 0.0180\\\\\n",
       "\t 10 & 100000122 & 10:100000122 & A & T &  0.3347 & 0.2294 & 0.1445 & 0.0083\\\\\n",
       "\t 10 & 100000354 & 10:100000354 & T & C &  0.6226 & 1.0170 & 0.5404 & 0.9989\\\\\n",
       "\t 10 & 100000588 & 10:100000588 & T & C & -0.0061 & 0.1033 & 0.9531 & 0.9603\\\\\n",
       "\t 10 & 100000625 & 10:100000625 & A & G &  0.0059 & 0.0415 & 0.8873 & 0.7182\\\\\n",
       "\t 10 & 100000645 & 10:100000645 & A & C &  0.0040 & 0.0491 & 0.9343 & 0.8230\\\\\n",
       "\\end{tabular}\n"
      ],
      "text/markdown": [
       "\n",
       "A data.table: 6 × 9\n",
       "\n",
       "| Chr &lt;int&gt; | Pos &lt;int&gt; | MarkerName &lt;chr&gt; | Effect_allele &lt;chr&gt; | Non_Effect_allele &lt;chr&gt; | Beta &lt;dbl&gt; | SE &lt;dbl&gt; | Pvalue &lt;dbl&gt; | Effect_allele_Freq &lt;dbl&gt; |\n",
       "|---|---|---|---|---|---|---|---|---|\n",
       "| 10 | 100000012 | 10:100000012 | A | G |  0.1734 | 0.1515 | 0.2524 | 0.0180 |\n",
       "| 10 | 100000122 | 10:100000122 | A | T |  0.3347 | 0.2294 | 0.1445 | 0.0083 |\n",
       "| 10 | 100000354 | 10:100000354 | T | C |  0.6226 | 1.0170 | 0.5404 | 0.9989 |\n",
       "| 10 | 100000588 | 10:100000588 | T | C | -0.0061 | 0.1033 | 0.9531 | 0.9603 |\n",
       "| 10 | 100000625 | 10:100000625 | A | G |  0.0059 | 0.0415 | 0.8873 | 0.7182 |\n",
       "| 10 | 100000645 | 10:100000645 | A | C |  0.0040 | 0.0491 | 0.9343 | 0.8230 |\n",
       "\n"
      ],
      "text/plain": [
       "  Chr Pos       MarkerName   Effect_allele Non_Effect_allele Beta    SE    \n",
       "1 10  100000012 10:100000012 A             G                  0.1734 0.1515\n",
       "2 10  100000122 10:100000122 A             T                  0.3347 0.2294\n",
       "3 10  100000354 10:100000354 T             C                  0.6226 1.0170\n",
       "4 10  100000588 10:100000588 T             C                 -0.0061 0.1033\n",
       "5 10  100000625 10:100000625 A             G                  0.0059 0.0415\n",
       "6 10  100000645 10:100000645 A             C                  0.0040 0.0491\n",
       "  Pvalue Effect_allele_Freq\n",
       "1 0.2524 0.0180            \n",
       "2 0.1445 0.0083            \n",
       "3 0.5404 0.9989            \n",
       "4 0.9531 0.9603            \n",
       "5 0.8873 0.7182            \n",
       "6 0.9343 0.8230            "
      ]
     },
     "metadata": {},
     "output_type": "display_data"
    }
   ],
   "source": [
    "head(df0)"
   ]
  },
  {
   "cell_type": "code",
   "execution_count": 5,
   "id": "53d5f508-6579-42cc-bdc6-e3a9482b3eba",
   "metadata": {
    "vscode": {
     "languageId": "r"
    }
   },
   "outputs": [],
   "source": [
    "# Rename columns\n",
    "df0$Effect <- df0$Beta\n",
    "df0$StdErr <- df0$SE\n",
    "df0$`P-value` <- df0$Pvalue\n",
    "df0$CHR <- df0$Chr\n",
    "df0$BP <- df0$Pos"
   ]
  },
  {
   "cell_type": "code",
   "execution_count": 6,
   "id": "a5866442-d84e-4019-a329-9bc88a2a3807",
   "metadata": {
    "vscode": {
     "languageId": "r"
    }
   },
   "outputs": [],
   "source": [
    "## EXTRACT CHRS - 100KB up & downstream from GWAS hits\n",
    "# APOE rs429358 at chromosome 19, position 45,411,941 & rs7412 at chromosome 19, position 45,412,079\n",
    "APOE_sumstats = subset(df0, CHR==19 & ((BP > 45311941 & BP < 45511941) | (BP > 45312079 & BP < 45512079)))\n",
    "# BIN1 rs6733839 hit at chromosome 2, position 127,135,234 -> BP range: 127,035,234 - 127,235,234\n",
    "BIN1_sumstats = subset(df0, CHR==2 & BP > 127035234 & BP < 127235234)\n",
    "# TREM2 rs143442484 hit at chromosome 6, position 41,161,469 & rs75932628 at chromosome 6, position 41,161514\n",
    "TREM2_sumstats = subset(df0, CHR==6 & ((BP > 41061469 & BP < 41261469) | (BP > 41061514 & BP < 41261514)))\n",
    "# CD2AP rs7767350 hit at chromosome 6, position 47,517,390 -> BP range: 47,417,390 - 47,617,390\n",
    "CD2AP_sumstats = subset(df0, CHR==6 & BP > 47417390 & BP < 47617390)\n",
    "# FERMT2 rs17125924 hit at chromosome 14, position 52,924,962 -> BP range: 52,824,962 - 53,024,962\n",
    "FERMT2_sumstats = subset(df0, CHR==14 & BP > 52824962  & BP < 53024962)\n",
    "# ABCA7 rs12151021 hit at chromosome 19, position 1,050,875 -> BP range: 950,875 - 1,150,875\n",
    "ABCA7_sumstats = subset(df0, CHR==19 & BP > 950875 & BP < 1150875)\n",
    "# COBL rs112404845 hit at chromosome 7, position 51,578,022 -> BP range: 51,478,022 - 51,678,022\n",
    "COBL_sumstats = subset(df0, CHR==7 & BP > 51478022 & BP < 51678022)\n",
    "# AKAP9 rs149979685 hit at chromosome 7, position 91,732,110 -> BP range: 91,632,110 - 91,832,110\n",
    "AKAP9_sumstats = subset(df0, CHR==7 & BP > 91632110 & BP < 91832110)\n",
    "# WWOX rs62039712 hit at chromosome 16, position 79,355,857 -> BP range: 79,255,857 - 79,455,857\n",
    "WWOX_sumstats = subset(df0, CHR==16 & BP > 79255857 & BP < 79455857)\n",
    "# ALCAM rs2633682 hit at chromosome 3, position 104,409,208 -> BP range: 104,309,208 - 104,509,208\n",
    "ALCAM_sumstats = subset(df0, CHR==3 & BP > 104309208 & BP < 104509208)\n",
    "# GPC6 rs9516245 hit at chromosome 13, position 94,159,800 -> BP range: 94,059,800 - 94,259,800\n",
    "GPC6_sumstats = subset(df0, CHR==13 & BP > 94059800 & BP < 94259800)\n",
    "# RBFOX1 rs79537509 hit at chromosome 16, position 8,288,401 -> BP range: 8,188,401 - 8,388,401\n",
    "RBFOX1_sumstats = subset(df0, CHR==16 & BP > 8188401 & BP < 8388401)\n",
    "# EDEM1 rs168193 hit at chromosome 3, position 5,302,077 -> BP range: 5,202,077 - 5,402,077\n",
    "EDEM1_sumstats = subset(df0, CHR==3 & BP > 5202077 & BP < 5402077)\n",
    "# VRK3 rs3745495 hit at chromosome 19, 50,524,332 -> BP range: 50,424,332 - 50,624,332\n",
    "VRK3_sumstats = subset(df0, CHR==19 & BP > 50424332 & BP < 50624332)\n",
    "# IGF1R rs570487962 hit at chromosome 15, position 97,992,685 -> BP range: 97,892,685 - 98,092,685\n",
    "IGF1R_sumstats = subset(df0, CHR==15 & BP > 97892685 & BP < 98092685)\n",
    "# API5 rs569584007 hit at chromosome 11, position 43,166,842 -> BP range: 43,066,842 - 43,266,842\n",
    "API5_sumstats = subset(df0, CHR==11 & BP > 43066842 & BP < 43266842)\n",
    "# SLC10A2 rs16961023 hit at chromosome 13, position 103,663,945 -> BP range: 103,563,945 - 103, 763,945\n",
    "SLC10A2_sumstats = subset(df0, CHR==13 & BP > 103563945 & BP < 103763945)\n",
    "# CR1 rs4844610 hit at chromosome 1, position 207,802,552 -> BP range: 207,702,552 - 207,902,552\n",
    "CR1_sumstats = subset(df0, CHR==1 & BP > 207702552 & BP < 207902552)\n",
    "# INPP5D rs10933431 hit at chromosome 2, 233,981,912 -> BP range: 233,881,912 - 234,081,912\n",
    "INPP5D_sumstats = subset(df0, CHR==2 & BP > 233881912 & BP < 234081912)\n",
    "# HLA-DRB1 rs78738018 hit at chromosome 6, position 32,575,406 -> BP range 32,475,406 - 32,675,406\n",
    "HLA_sumstats = subset(df0, CHR==6 & BP > 32475406 & BP < 32675406)\n",
    "# NYAP1 rs12539172 hit at chromosome 7, position 100,091,795 -> BP range: 99,991,795 - 100,191,795\n",
    "NYAP1_sumstats = subset(df0, CHR==7 & BP > 99991795 & BP < 100191795)\n",
    "# PTK2B rs73223431 hit at chromosome 8, position 27,219,987 -> BP range 27,119,987 - 27,319,987\n",
    "PTK2B_sumstats = subset(df0, CHR==8 & BP > 27119987 & BP < 27319987)\n",
    "# CLU rs9331896 hit at chromosome 8, position 27,467,686 -> BP range: 27,367,686 - 27,567,686\n",
    "CLU_sumstats = subset(df0, CHR==8 & BP > 27367686 & BP < 27567686)\n",
    "# ECHDC3 rs7920721 hit at chromosome 10, position 11,720,308 -> BP range: 11,620,308 - 11,820,308\n",
    "ECHDC3_sumstats = subset(df0, CHR==10 & BP > 11620308 & BP < 11820308)\n",
    "# SPI1 rs3740688 hit at chromosome 11, position 47,380,340 -> BP range: 47,280,340 - 47,480,340\n",
    "SPI1_sumstats = subset(df0, CHR==11 & BP > 47280340 & BP < 47480340)\n",
    "# MS4A2 rs7933202 hit at chromosome 11, position 59,936,926 -> BP range: 59,836,926 - 60,036,926\n",
    "MS4A2_sumstats = subset(df0, CHR==11 & BP > 59836926 & BP < 60036926)\n",
    "# PICALM rs3851179 hit at chromosome 11, position 85,868,640 -> BP range: 85,768,640 - 85,968,640\n",
    "PICALM_sumstats = subset(df0, CHR==11 & BP > 85768640 & BP < 85968640)\n",
    "# SORL1 rs11218343 hit at chromosome 11, position 121,435,587 -> BP range: 121,335,587 - 121,535,587\n",
    "SORL1_sumstats = subset(df0, CHR==11 & BP > 121335587 & BP < 121535587)\n",
    "# SLC24A4 rs12881735 hit at chromosome 14, position 92,932,828 -> BP range: 92,832,828 - 93,032,828\n",
    "SLC24A4_sumstats = subset(df0, CHR==14 & BP > 92832828 & BP < 93032828)\n",
    "# ADAM10 rs593742 hit at chromosome 15, position 59,045,774 -> BP range: 58,945,774 - 59,145,774\n",
    "ADAM10_sumstats = subset(df0, CHR==15 & BP > 58945774 & BP < 59145774)\n",
    "# IQCK rs7185636 hit at chromosome 16, position 19,808,163 -> BP range 19,708,163 - 19,908,163\n",
    "IQCK_sumstats = subset(df0, CHR==16 & BP > 19708163 & BP < 19908163)\n",
    "# ACE rs138190086 hit at chromosome 17, position 61,538,148 -> BP range 61,438,148 - 61,638,148\n",
    "ACE_sumstats = subset(df0, CHR==17 & BP > 61438148 & BP < 61638148)\n",
    "# CASS4 rs6024870 hit at chromosome 20, position 54,997,568 -> BP range: 54,897,568 - 55,097,568\n",
    "CASS4_sumstats = subset(df0, CHR==20 & BP > 54897568 & BP < 55097568)\n",
    "# ADAMTS1 rs2830500 hit at chromosome 21, position 28,156,856 -> BP range: 28,056,856 - 28,256,856\n",
    "ADAMTS1_sumstats = subset(df0, CHR==21 & BP > 28056856 & BP < 28256856)\n",
    "# SIPA1L2 rs115684722 hit at chromosome 1, position 232,376,163 -> BP range: 232,276,163 - 232,476,163\n",
    "SIPA1L2_sumstats = subset(df0, CHR==1 & BP > 232276163 & BP < 232476163)\n",
    "# WDR70 rs184179037 hit at chromosome 5, position 37,483,940 -> BP range: 37,383,940 - 37,583,940\n",
    "WDR70_sumstats = subset(df0, CHR==5 & BP > 37383940 & BP < 37583940)\n",
    "# ACER3 rs115816806 hit at chromosome 11, position 76,541,840 -> BP range: 76,441,840 - 76,641,840\n",
    "ACER3_sumstats = subset(df0, CHR==11 & BP > 76441840 & BP < 76641840)\n",
    "# PIK3C2G rs75739461 hit at chromosome 12, position 18,471,546 -> BP range: 18,371,546 - 18,571,546\n",
    "PIK3C2G_sumstats = subset(df0, CHR==12 & BP > 18371546 & BP < 18571546)"
   ]
  },
  {
   "cell_type": "code",
   "execution_count": 7,
   "id": "d952c48c-f5cc-49cf-8167-e3e5cec4fae1",
   "metadata": {
    "vscode": {
     "languageId": "r"
    }
   },
   "outputs": [],
   "source": [
    "## Run for genes\n",
    "genes <- c(\"APOE\",\"BIN1\",\"TREM2\",\"CD2AP\",\"FERMT2\",\"ABCA7\",\"COBL\",\"AKAP9\",\"WWOX\",\"ALCAM\",\"GPC6\",\"RBFOX1\",\"EDEM1\",\"VRK3\",\"IGF1R\",\"API5\",\"SLC10A2\",\"CR1\",\"INPP5D\",\"HLA\",\"NYAP1\",\"PTK2B\",\"CLU\",\"ECHDC3\",\"SPI1\",\"MS4A2\",\"PICALM\",\"SORL1\",\"SLC24A4\",\"ADAM10\",\"IQCK\",\"ACE\",\"CASS4\",\"ADAMTS1\",\"SIPA1L2\",\"WDR70\",\"ACER3\",\"PIK3C2G\")"
   ]
  },
  {
   "cell_type": "code",
   "execution_count": 8,
   "id": "98fdf7ca-8a8b-47ee-a644-2782ed9395b3",
   "metadata": {
    "vscode": {
     "languageId": "r"
    }
   },
   "outputs": [],
   "source": [
    "for (gene in genes) {\n",
    "    # Assume gene_sumstats is a data frame with summary statistics for each gene\n",
    "    gene_sumstats <- get(paste0(gene, \"_sumstats\"))  # Get the data frame for the current gene\n",
    "    if (is.data.frame(gene_sumstats)) {\n",
    "        write_tsv(gene_sumstats, paste0(\"{WORK_DIR}/PAR/\", \"/\", gene, \"_ad_variants_afr.tab\"))\n",
    "    } else {\n",
    "        warning(paste(\"No data frame found for\", gene))\n",
    "    }\n",
    "}"
   ]
  },
  {
   "cell_type": "code",
   "execution_count": 9,
   "id": "43aac15f-fb9c-46f3-a1fb-e3527648f3d2",
   "metadata": {
    "vscode": {
     "languageId": "r"
    }
   },
   "outputs": [],
   "source": [
    "## Run for genes\n",
    "genes <- c(\"APOE\",\"BIN1\",\"TREM2\",\"CD2AP\",\"FERMT2\",\"ABCA7\",\"COBL\",\"AKAP9\",\"WWOX\",\"ALCAM\",\"GPC6\",\"RBFOX1\",\"EDEM1\",\"VRK3\",\"IGF1R\",\"API5\",\"SLC10A2\",\"CR1\",\"INPP5D\",\"HLA\",\"NYAP1\",\"PTK2B\",\"CLU\",\"ECHDC3\",\"SPI1\",\"MS4A2\",\"PICALM\",\"SORL1\",\"SLC24A4\",\"ADAM10\",\"IQCK\",\"ACE\",\"CASS4\",\"ADAMTS1\",\"SIPA1L2\",\"WDR70\",\"ACER3\",\"PIK3C2G\")"
   ]
  },
  {
   "cell_type": "code",
   "execution_count": 10,
   "id": "ddeadd5b-97c5-4858-96d8-1020b3c1f63b",
   "metadata": {
    "vscode": {
     "languageId": "r"
    }
   },
   "outputs": [],
   "source": [
    "for (gene in genes) {\n",
    "    input_file <- paste0(\"{WORK_DIR}/PAR/\", gene, \"_ad_variants_afr.tab\")\n",
    "    output_file <- paste0(\"{WORK_DIR}/PAR/\", gene, \"_Kunkle_2020.csv\")\n",
    "    \n",
    "    # Read in the dataset\n",
    "    dataset1 <- fread(input_file, header = TRUE, sep = \"\\t\")\n",
    "    \n",
    "    # Remove duplicated rows based on the 'MarkerName' column\n",
    "    dataset1 <- dataset1[!duplicated(dataset1$MarkerName), ]\n",
    "    \n",
    "    # Add a new column 'StdErr_squared' by squaring 'StdErr'\n",
    "    dataset_final <- dataset1 %>% mutate(StdErr_squared = StdErr^2)\n",
    "    \n",
    "    # Select the required columns and rename them\n",
    "    output <- dataset_final[, c(\"MarkerName\", \"Effect\", \"P-value\", \"StdErr_squared\")]\n",
    "    colnames(output) <- c(\"SNP\", \"beta\", \"P\", \"varbeta\")\n",
    "    \n",
    "    # Write the output to a CSV file\n",
    "    fwrite(output, file = output_file, na = \"NA\", quote = FALSE, row.names = FALSE, sep = \"\\t\")\n",
    "}"
   ]
  },
  {
   "cell_type": "code",
   "execution_count": 11,
   "id": "694aa4da-85ff-4fb9-bf1d-0e2670493f31",
   "metadata": {
    "vscode": {
     "languageId": "r"
    }
   },
   "outputs": [],
   "source": [
    "## Run for genes\n",
    "genes <- c(\"APOE\",\"BIN1\",\"TREM2\",\"CD2AP\",\"FERMT2\",\"ABCA7\",\"COBL\",\"AKAP9\",\"WWOX\",\"ALCAM\",\"GPC6\",\"RBFOX1\",\"EDEM1\",\"VRK3\",\"IGF1R\",\"API5\",\"SLC10A2\",\"CR1\",\"INPP5D\",\"HLA\",\"NYAP1\",\"PTK2B\",\"CLU\",\"ECHDC3\",\"SPI1\",\"MS4A2\",\"PICALM\",\"SORL1\",\"SLC24A4\",\"ADAM10\",\"IQCK\",\"ACE\",\"CASS4\",\"ADAMTS1\",\"SIPA1L2\",\"WDR70\",\"ACER3\",\"PIK3C2G\")"
   ]
  },
  {
   "cell_type": "code",
   "execution_count": 12,
   "id": "fe4d20d6-08e7-40d1-8c5e-ff7b6e38d0a5",
   "metadata": {
    "vscode": {
     "languageId": "r"
    }
   },
   "outputs": [
    {
     "name": "stderr",
     "output_type": "stream",
     "text": [
      "Warning message in check_dataset(dataset, \"\"):\n",
      "“minimum p value is: 0.0097851\n",
      "If this is what you expected, this is not a problem.\n",
      "If this is not as small as you expected, please check you supplied var(beta) and not sd(beta) for the varbeta argument. If that's not the explanation, please check the 02_data vignette.”\n",
      "Warning message in check_dataset(dataset, \"\"):\n",
      "“minimum p value is: 3.0146e-05\n",
      "If this is what you expected, this is not a problem.\n",
      "If this is not as small as you expected, please check you supplied var(beta) and not sd(beta) for the varbeta argument. If that's not the explanation, please check the 02_data vignette.”\n",
      "Warning message in check_dataset(dataset, \"\"):\n",
      "“minimum p value is: 0.0045868\n",
      "If this is what you expected, this is not a problem.\n",
      "If this is not as small as you expected, please check you supplied var(beta) and not sd(beta) for the varbeta argument. If that's not the explanation, please check the 02_data vignette.”\n",
      "Warning message in check_dataset(dataset, \"\"):\n",
      "“minimum p value is: 0.00020415\n",
      "If this is what you expected, this is not a problem.\n",
      "If this is not as small as you expected, please check you supplied var(beta) and not sd(beta) for the varbeta argument. If that's not the explanation, please check the 02_data vignette.”\n",
      "Warning message in check_dataset(dataset, \"\"):\n",
      "“minimum p value is: 6.1668e-06\n",
      "If this is what you expected, this is not a problem.\n",
      "If this is not as small as you expected, please check you supplied var(beta) and not sd(beta) for the varbeta argument. If that's not the explanation, please check the 02_data vignette.”\n",
      "Warning message in check_dataset(dataset, \"\"):\n",
      "“minimum p value is: 6.8299e-05\n",
      "If this is what you expected, this is not a problem.\n",
      "If this is not as small as you expected, please check you supplied var(beta) and not sd(beta) for the varbeta argument. If that's not the explanation, please check the 02_data vignette.”\n",
      "Warning message in check_dataset(dataset, \"\"):\n",
      "“minimum p value is: 0.00027314\n",
      "If this is what you expected, this is not a problem.\n",
      "If this is not as small as you expected, please check you supplied var(beta) and not sd(beta) for the varbeta argument. If that's not the explanation, please check the 02_data vignette.”\n",
      "Warning message in check_dataset(dataset, \"\"):\n",
      "“minimum p value is: 0.0032227\n",
      "If this is what you expected, this is not a problem.\n",
      "If this is not as small as you expected, please check you supplied var(beta) and not sd(beta) for the varbeta argument. If that's not the explanation, please check the 02_data vignette.”\n",
      "Warning message in check_dataset(dataset, \"\"):\n",
      "“minimum p value is: 2.5377e-06\n",
      "If this is what you expected, this is not a problem.\n",
      "If this is not as small as you expected, please check you supplied var(beta) and not sd(beta) for the varbeta argument. If that's not the explanation, please check the 02_data vignette.”\n",
      "Warning message in check_dataset(dataset, \"\"):\n",
      "“minimum p value is: 7.4577e-06\n",
      "If this is what you expected, this is not a problem.\n",
      "If this is not as small as you expected, please check you supplied var(beta) and not sd(beta) for the varbeta argument. If that's not the explanation, please check the 02_data vignette.”\n",
      "Warning message in check_dataset(dataset, \"\"):\n",
      "“minimum p value is: 0.0052663\n",
      "If this is what you expected, this is not a problem.\n",
      "If this is not as small as you expected, please check you supplied var(beta) and not sd(beta) for the varbeta argument. If that's not the explanation, please check the 02_data vignette.”\n",
      "Warning message in check_dataset(dataset, \"\"):\n",
      "“minimum p value is: 0.00049702\n",
      "If this is what you expected, this is not a problem.\n",
      "If this is not as small as you expected, please check you supplied var(beta) and not sd(beta) for the varbeta argument. If that's not the explanation, please check the 02_data vignette.”\n",
      "Warning message in check_dataset(dataset, \"\"):\n",
      "“minimum p value is: 0.002204\n",
      "If this is what you expected, this is not a problem.\n",
      "If this is not as small as you expected, please check you supplied var(beta) and not sd(beta) for the varbeta argument. If that's not the explanation, please check the 02_data vignette.”\n",
      "Warning message in check_dataset(dataset, \"\"):\n",
      "“minimum p value is: 0.0019935\n",
      "If this is what you expected, this is not a problem.\n",
      "If this is not as small as you expected, please check you supplied var(beta) and not sd(beta) for the varbeta argument. If that's not the explanation, please check the 02_data vignette.”\n",
      "Warning message in check_dataset(dataset, \"\"):\n",
      "“minimum p value is: 0.0037187\n",
      "If this is what you expected, this is not a problem.\n",
      "If this is not as small as you expected, please check you supplied var(beta) and not sd(beta) for the varbeta argument. If that's not the explanation, please check the 02_data vignette.”\n",
      "Warning message in check_dataset(dataset, \"\"):\n",
      "“minimum p value is: 0.0053263\n",
      "If this is what you expected, this is not a problem.\n",
      "If this is not as small as you expected, please check you supplied var(beta) and not sd(beta) for the varbeta argument. If that's not the explanation, please check the 02_data vignette.”\n",
      "Warning message in check_dataset(dataset, \"\"):\n",
      "“minimum p value is: 0.0091731\n",
      "If this is what you expected, this is not a problem.\n",
      "If this is not as small as you expected, please check you supplied var(beta) and not sd(beta) for the varbeta argument. If that's not the explanation, please check the 02_data vignette.”\n",
      "Warning message in check_dataset(dataset, \"\"):\n",
      "“minimum p value is: 0.00028273\n",
      "If this is what you expected, this is not a problem.\n",
      "If this is not as small as you expected, please check you supplied var(beta) and not sd(beta) for the varbeta argument. If that's not the explanation, please check the 02_data vignette.”\n",
      "Warning message in check_dataset(dataset, \"\"):\n",
      "“minimum p value is: 0.0030018\n",
      "If this is what you expected, this is not a problem.\n",
      "If this is not as small as you expected, please check you supplied var(beta) and not sd(beta) for the varbeta argument. If that's not the explanation, please check the 02_data vignette.”\n",
      "Warning message in check_dataset(dataset, \"\"):\n",
      "“minimum p value is: 0.00042943\n",
      "If this is what you expected, this is not a problem.\n",
      "If this is not as small as you expected, please check you supplied var(beta) and not sd(beta) for the varbeta argument. If that's not the explanation, please check the 02_data vignette.”\n",
      "Warning message in check_dataset(dataset, \"\"):\n",
      "“minimum p value is: 0.0012753\n",
      "If this is what you expected, this is not a problem.\n",
      "If this is not as small as you expected, please check you supplied var(beta) and not sd(beta) for the varbeta argument. If that's not the explanation, please check the 02_data vignette.”\n",
      "Warning message in check_dataset(dataset, \"\"):\n",
      "“minimum p value is: 0.00092625\n",
      "If this is what you expected, this is not a problem.\n",
      "If this is not as small as you expected, please check you supplied var(beta) and not sd(beta) for the varbeta argument. If that's not the explanation, please check the 02_data vignette.”\n",
      "Warning message in check_dataset(dataset, \"\"):\n",
      "“minimum p value is: 0.00067881\n",
      "If this is what you expected, this is not a problem.\n",
      "If this is not as small as you expected, please check you supplied var(beta) and not sd(beta) for the varbeta argument. If that's not the explanation, please check the 02_data vignette.”\n",
      "Warning message in check_dataset(dataset, \"\"):\n",
      "“minimum p value is: 0.0012835\n",
      "If this is what you expected, this is not a problem.\n",
      "If this is not as small as you expected, please check you supplied var(beta) and not sd(beta) for the varbeta argument. If that's not the explanation, please check the 02_data vignette.”\n",
      "Warning message in check_dataset(dataset, \"\"):\n",
      "“minimum p value is: 0.0015987\n",
      "If this is what you expected, this is not a problem.\n",
      "If this is not as small as you expected, please check you supplied var(beta) and not sd(beta) for the varbeta argument. If that's not the explanation, please check the 02_data vignette.”\n",
      "Warning message in check_dataset(dataset, \"\"):\n",
      "“minimum p value is: 0.00047882\n",
      "If this is what you expected, this is not a problem.\n",
      "If this is not as small as you expected, please check you supplied var(beta) and not sd(beta) for the varbeta argument. If that's not the explanation, please check the 02_data vignette.”\n",
      "Warning message in check_dataset(dataset, \"\"):\n",
      "“minimum p value is: 0.00014837\n",
      "If this is what you expected, this is not a problem.\n",
      "If this is not as small as you expected, please check you supplied var(beta) and not sd(beta) for the varbeta argument. If that's not the explanation, please check the 02_data vignette.”\n",
      "Warning message in check_dataset(dataset, \"\"):\n",
      "“minimum p value is: 4.5581e-06\n",
      "If this is what you expected, this is not a problem.\n",
      "If this is not as small as you expected, please check you supplied var(beta) and not sd(beta) for the varbeta argument. If that's not the explanation, please check the 02_data vignette.”\n",
      "Warning message in check_dataset(dataset, \"\"):\n",
      "“minimum p value is: 0.00044894\n",
      "If this is what you expected, this is not a problem.\n",
      "If this is not as small as you expected, please check you supplied var(beta) and not sd(beta) for the varbeta argument. If that's not the explanation, please check the 02_data vignette.”\n",
      "Warning message in check_dataset(dataset, \"\"):\n",
      "“minimum p value is: 0.00010623\n",
      "If this is what you expected, this is not a problem.\n",
      "If this is not as small as you expected, please check you supplied var(beta) and not sd(beta) for the varbeta argument. If that's not the explanation, please check the 02_data vignette.”\n",
      "Warning message in check_dataset(dataset, \"\"):\n",
      "“minimum p value is: 3.0409e-05\n",
      "If this is what you expected, this is not a problem.\n",
      "If this is not as small as you expected, please check you supplied var(beta) and not sd(beta) for the varbeta argument. If that's not the explanation, please check the 02_data vignette.”\n"
     ]
    }
   ],
   "source": [
    "for (gene in genes) {\n",
    "    input_file <- paste0(\"{WORK_DIR}/PAR/\", gene, \"_Kunkle_2020.csv\")\n",
    "    output <- fread(input_file, header = TRUE, sep = \"\\t\")\n",
    "    \n",
    "    # Check if output has 0 rows\n",
    "    if (nrow(output) == 0) {\n",
    "        cat(\"No rows in output for gene: \", gene, \". Skipping...\\n\")\n",
    "        next  # Skip to the next gene in the loop\n",
    "    }\n",
    "    \n",
    "    SNP <- output$SNP\n",
    "    beta <- output$beta\n",
    "    varbeta <- output$varbeta\n",
    "    N <- 8006  # 2,784 AD cases vs 8,006 total (2,784 cases, 5,222 controls - Kunkle et al 2020)\n",
    "    s <- 0.348\n",
    "    type <- 'cc'\n",
    "    \n",
    "    # Create dataset for fine-mapping\n",
    "    dataset <- list(\n",
    "        snp = SNP, \n",
    "        beta = beta, \n",
    "        varbeta = varbeta, \n",
    "        N = N, \n",
    "        s = s, \n",
    "        type = type)\n",
    "        \n",
    "    # Ensure dataset variables are numeric\n",
    "    dataset$snp <- unlist(dataset$snp)\n",
    "    dataset$beta <- unlist(dataset$beta)\n",
    "    dataset$varbeta <- unlist(dataset$varbeta)\n",
    "    \n",
    "    # Assuming finemap.abf() works with a list, otherwise convert to a data.frame\n",
    "    results <- finemap.abf(\n",
    "        dataset = dataset,\n",
    "        p1 = 1e-04  # Optional parameter for p-value threshold (can adjust based on your data)\n",
    "    )\n",
    "        \n",
    "    # Check if results has 0 rows\n",
    "    if (nrow(results) == 0) {\n",
    "        cat(\"No results returned for gene: \", gene, \". Skipping...\\n\")\n",
    "        next  # Skip to the next gene in the loop\n",
    "    }\n",
    "    \n",
    "    # Combine the results with the original output\n",
    "    combo <- cbind(results[1:(nrow(results) - 1),], output)\n",
    "    \n",
    "    # Subset results where SNP.PP > 0.2\n",
    "    hits <- subset(combo, SNP.PP > 0.2)\n",
    "    \n",
    "    # Save the results to a CSV file\n",
    "    final_output_file <- paste0(\"{WORK_DIR}/PAR/\", gene, \"_results_fine_map_Kunkle.csv\")\n",
    "    fwrite(combo, file = final_output_file, na = \"NA\", quote = F, row.names = F, sep = \",\")\n",
    "    }"
   ]
  },
  {
   "cell_type": "code",
   "execution_count": 13,
   "id": "ca685dbe-b88a-48e7-b170-016eb6f1294d",
   "metadata": {
    "vscode": {
     "languageId": "r"
    }
   },
   "outputs": [
    {
     "name": "stdout",
     "output_type": "stream",
     "text": [
      "          V.        z.        r.    lABF.         snp prior       SNP.PP\n",
      "1 0.00462400  4.520588 0.8963786 8.025565  19:1001777 1e-04 0.1264281712\n",
      "2 0.00568516  3.283820 0.8755578 3.678819 11:76583856 1e-04 0.0037792522\n",
      "3 0.00385641  2.479871 0.9120674 1.588906 17:61599813 1e-04 0.0005046325\n",
      "4 0.00295936 -2.650735 0.9311126 1.933543 15:59042452 1e-04 0.0007055228\n",
      "5 0.01020100  2.896040 0.7967969 2.544611 21:28103644 1e-04 0.0013419609\n",
      "6 0.04251844 -3.117362 0.4847401 2.023797  7:91825845 1e-04 0.0007676780\n",
      "          SNP    beta         P    varbeta    gene\n",
      "1  19:1001777  0.3074 6.115e-06 0.00462400   ABCA7\n",
      "2 11:76583856  0.2476 1.029e-03 0.00568516   ACER3\n",
      "3 17:61599813  0.1540 1.313e-02 0.00385641     ACE\n",
      "4 15:59042452 -0.1442 8.026e-03 0.00295936  ADAM10\n",
      "5 21:28103644  0.2925 3.788e-03 0.01020100 ADAMTS1\n",
      "6  7:91825845 -0.6428 1.821e-03 0.04251844   AKAP9\n"
     ]
    }
   ],
   "source": [
    "# Define the directory containing the CSV files\n",
    "input_directory <- \"{WORK_DIR}/PAR/\"  # Replace with your directory path\n",
    "\n",
    "# List all files with the pattern \"results_fine_map.csv\" in the directory\n",
    "file_list <- list.files(input_directory, pattern = \"_results_fine_map_Kunkle.csv$\", full.names = TRUE)\n",
    "\n",
    "# Initialize an empty list to store the results\n",
    "results_list <- list()\n",
    "\n",
    "# Loop through each file\n",
    "for (file in file_list) {\n",
    "  # Extract the gene name from the file name (remove the \"_results_fine_map.csv\" suffix)\n",
    "  gene <- gsub(\"_results_fine_map_Kunkle\\\\.csv$\", \"\", basename(file))\n",
    "  \n",
    "  # Read the CSV file\n",
    "  data <- read.csv(file)\n",
    "  \n",
    "  # Select the SNP with the highest SNP.PP value\n",
    "  best_snp <- data %>%\n",
    "    slice_max(SNP.PP, n = 1) %>%  # Select row(s) with the max SNP.PP\n",
    "    mutate(gene = gene)           # Add the gene name\n",
    "  \n",
    "  # Append to the results list\n",
    "  results_list[[gene]] <- best_snp\n",
    "}\n",
    "\n",
    "# Combine all results into a single dataframe\n",
    "final_results <- bind_rows(results_list)\n",
    "\n",
    "# Export the results to a CSV file\n",
    "output_file <- \"top_snp_per_gene_afr_ad.csv\"  # Desired output file name\n",
    "write.csv(final_results, output_file, row.names = FALSE)\n",
    "\n",
    "# Print the first few rows of the final results\n",
    "print(head(final_results))"
   ]
  },
  {
   "cell_type": "code",
   "execution_count": null,
   "id": "f62d04fb-2b81-4164-8131-9db2f5047ae1",
   "metadata": {
    "vscode": {
     "languageId": "r"
    }
   },
   "outputs": [],
   "source": []
  }
 ],
 "metadata": {
  "kernelspec": {
   "display_name": "R/4.4",
   "language": "R",
   "name": "ir44"
  },
  "language_info": {
   "codemirror_mode": "r",
   "file_extension": ".r",
   "mimetype": "text/x-r-source",
   "name": "R",
   "pygments_lexer": "r",
   "version": "4.4.2"
  }
 },
 "nbformat": 4,
 "nbformat_minor": 5
}
