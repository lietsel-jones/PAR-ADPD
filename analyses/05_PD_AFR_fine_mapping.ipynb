{
 "cells": [
  {
   "cell_type": "markdown",
   "id": "540d8a94-956e-4931-805e-8a8fca78ff95",
   "metadata": {},
   "source": [
    "# Fine-mapping of PD-related risk loci in African/African Admixed summary statistics\n",
    "* Project: Cross-ancestry PAR\n",
    "* Version: R/4.4\n",
    "* Status: Complete\n",
    "* Last Updated: 13-FEB-2025"
   ]
  },
  {
   "cell_type": "markdown",
   "id": "a3632732-bdd2-4164-a040-b281ba273b99",
   "metadata": {},
   "source": [
    "## Notebook overview\n",
    "* Extract chromosome and base pair positions from summary statistics for selected loci\n",
    "* Perform fine-mapping and save results"
   ]
  },
  {
   "cell_type": "code",
   "execution_count": 60,
   "id": "a1e57727-805b-425a-bfa0-f0f220bb44c4",
   "metadata": {
    "vscode": {
     "languageId": "r"
    }
   },
   "outputs": [
    {
     "name": "stderr",
     "output_type": "stream",
     "text": [
      "Skipping install of 'coloc' from a github remote, the SHA1 (fd1c0351) has not changed since last install.\n",
      "  Use `force = TRUE` to force installation\n",
      "\n"
     ]
    }
   ],
   "source": [
    "library(\"data.table\")\n",
    "#if (!requireNamespace(\"BiocManager\", quietly = TRUE))\n",
    "#    install.packages(\"BiocManager\")\n",
    "#BiocManager::install(\"snpStats\")\n",
    "library(\"robustbase\")\n",
    "library(ggplot2)\n",
    "library(tidyr)\n",
    "devtools::install_github(\"chr1swallace/coloc\")\n",
    "library(\"coloc\")\n",
    "library(\"tidyverse\")\n",
    "library(\"readr\")"
   ]
  },
  {
   "cell_type": "code",
   "execution_count": 61,
   "id": "9367cd7f-25b1-49bb-a37d-7475a809e6be",
   "metadata": {
    "vscode": {
     "languageId": "r"
    }
   },
   "outputs": [],
   "source": [
    "## Read dataframe\n",
    "df0 <- fread(\"{WORK_DIR}/PD/summary_stats/AFR_AAC_metaGWAS_MAF0.05_hg38_noindels_full_with23andMe.tab\", header =T)\n",
    "df0$CHR <- \tdf0$chromosome\n",
    "df0$BP <- df0$base_pair_location\n",
    "df0$MarkerName <- df0$variant_id\n",
    "df0$StdErr <- df0$standard_error\n",
    "df0$Effect <- df0$beta\n",
    "df0$`P-value` <- df0$p_value\n",
    "df0$ID <- df0$rsid"
   ]
  },
  {
   "cell_type": "code",
   "execution_count": 62,
   "id": "5b4051fd-4bda-4a8a-9bc8-8adcb0cb90d7",
   "metadata": {
    "vscode": {
     "languageId": "r"
    }
   },
   "outputs": [
    {
     "data": {
      "text/html": [
       "<table class=\"dataframe\">\n",
       "<caption>A data.table: 6 × 23</caption>\n",
       "<thead>\n",
       "\t<tr><th scope=col>chromosome</th><th scope=col>base_pair_location</th><th scope=col>effect_allele</th><th scope=col>other_allele</th><th scope=col>beta</th><th scope=col>standard_error</th><th scope=col>effect_allele_frequency</th><th scope=col>p_value</th><th scope=col>variant_id</th><th scope=col>ref_allele</th><th scope=col>⋯</th><th scope=col>HetDf</th><th scope=col>HetPVal</th><th scope=col>rsid</th><th scope=col>CHR</th><th scope=col>BP</th><th scope=col>MarkerName</th><th scope=col>StdErr</th><th scope=col>Effect</th><th scope=col>P-value</th><th scope=col>ID</th></tr>\n",
       "\t<tr><th scope=col>&lt;chr&gt;</th><th scope=col>&lt;int&gt;</th><th scope=col>&lt;chr&gt;</th><th scope=col>&lt;chr&gt;</th><th scope=col>&lt;dbl&gt;</th><th scope=col>&lt;dbl&gt;</th><th scope=col>&lt;dbl&gt;</th><th scope=col>&lt;dbl&gt;</th><th scope=col>&lt;chr&gt;</th><th scope=col>&lt;chr&gt;</th><th scope=col>⋯</th><th scope=col>&lt;int&gt;</th><th scope=col>&lt;dbl&gt;</th><th scope=col>&lt;chr&gt;</th><th scope=col>&lt;chr&gt;</th><th scope=col>&lt;int&gt;</th><th scope=col>&lt;chr&gt;</th><th scope=col>&lt;dbl&gt;</th><th scope=col>&lt;dbl&gt;</th><th scope=col>&lt;dbl&gt;</th><th scope=col>&lt;chr&gt;</th></tr>\n",
       "</thead>\n",
       "<tbody>\n",
       "\t<tr><td>1</td><td> 66861</td><td>T</td><td>C</td><td>-0.1072</td><td>0.4023</td><td>0.0724</td><td>0.7899</td><td>chr1:66861:C:T </td><td>C</td><td>⋯</td><td>0</td><td>1</td><td>rs28375825 </td><td>1</td><td> 66861</td><td>chr1:66861:C:T </td><td>0.4023</td><td>-0.1072</td><td>0.7899</td><td>rs28375825 </td></tr>\n",
       "\t<tr><td>1</td><td> 80346</td><td>C</td><td>G</td><td> 0.4608</td><td>0.3456</td><td>0.8338</td><td>0.1824</td><td>chr1:80346:C:G </td><td>C</td><td>⋯</td><td>0</td><td>1</td><td>rs376665626</td><td>1</td><td> 80346</td><td>chr1:80346:C:G </td><td>0.3456</td><td> 0.4608</td><td>0.1824</td><td>rs376665626</td></tr>\n",
       "\t<tr><td>1</td><td>595259</td><td>A</td><td>G</td><td>-0.0456</td><td>0.4097</td><td>0.0597</td><td>0.9114</td><td>chr1:595259:G:A</td><td>G</td><td>⋯</td><td>0</td><td>1</td><td>rs201764041</td><td>1</td><td>595259</td><td>chr1:595259:G:A</td><td>0.4097</td><td>-0.0456</td><td>0.9114</td><td>rs201764041</td></tr>\n",
       "\t<tr><td>1</td><td>664938</td><td>A</td><td>G</td><td>-0.1109</td><td>0.2264</td><td>0.9390</td><td>0.6242</td><td>chr1:664938:A:G</td><td>A</td><td>⋯</td><td>0</td><td>1</td><td>rs536144132</td><td>1</td><td>664938</td><td>chr1:664938:A:G</td><td>0.2264</td><td>-0.1109</td><td>0.6242</td><td>rs536144132</td></tr>\n",
       "\t<tr><td>1</td><td>665098</td><td>A</td><td>G</td><td>-0.0315</td><td>0.3587</td><td>0.1262</td><td>0.9301</td><td>chr1:665098:G:A</td><td>G</td><td>⋯</td><td>0</td><td>1</td><td>rs114979547</td><td>1</td><td>665098</td><td>chr1:665098:G:A</td><td>0.3587</td><td>-0.0315</td><td>0.9301</td><td>rs114979547</td></tr>\n",
       "\t<tr><td>1</td><td>665115</td><td>C</td><td>G</td><td> 0.0437</td><td>0.2225</td><td>0.0632</td><td>0.8443</td><td>chr1:665115:G:C</td><td>G</td><td>⋯</td><td>0</td><td>1</td><td>rs147241137</td><td>1</td><td>665115</td><td>chr1:665115:G:C</td><td>0.2225</td><td> 0.0437</td><td>0.8443</td><td>rs147241137</td></tr>\n",
       "</tbody>\n",
       "</table>\n"
      ],
      "text/latex": [
       "A data.table: 6 × 23\n",
       "\\begin{tabular}{lllllllllllllllllllll}\n",
       " chromosome & base\\_pair\\_location & effect\\_allele & other\\_allele & beta & standard\\_error & effect\\_allele\\_frequency & p\\_value & variant\\_id & ref\\_allele & ⋯ & HetDf & HetPVal & rsid & CHR & BP & MarkerName & StdErr & Effect & P-value & ID\\\\\n",
       " <chr> & <int> & <chr> & <chr> & <dbl> & <dbl> & <dbl> & <dbl> & <chr> & <chr> & ⋯ & <int> & <dbl> & <chr> & <chr> & <int> & <chr> & <dbl> & <dbl> & <dbl> & <chr>\\\\\n",
       "\\hline\n",
       "\t 1 &  66861 & T & C & -0.1072 & 0.4023 & 0.0724 & 0.7899 & chr1:66861:C:T  & C & ⋯ & 0 & 1 & rs28375825  & 1 &  66861 & chr1:66861:C:T  & 0.4023 & -0.1072 & 0.7899 & rs28375825 \\\\\n",
       "\t 1 &  80346 & C & G &  0.4608 & 0.3456 & 0.8338 & 0.1824 & chr1:80346:C:G  & C & ⋯ & 0 & 1 & rs376665626 & 1 &  80346 & chr1:80346:C:G  & 0.3456 &  0.4608 & 0.1824 & rs376665626\\\\\n",
       "\t 1 & 595259 & A & G & -0.0456 & 0.4097 & 0.0597 & 0.9114 & chr1:595259:G:A & G & ⋯ & 0 & 1 & rs201764041 & 1 & 595259 & chr1:595259:G:A & 0.4097 & -0.0456 & 0.9114 & rs201764041\\\\\n",
       "\t 1 & 664938 & A & G & -0.1109 & 0.2264 & 0.9390 & 0.6242 & chr1:664938:A:G & A & ⋯ & 0 & 1 & rs536144132 & 1 & 664938 & chr1:664938:A:G & 0.2264 & -0.1109 & 0.6242 & rs536144132\\\\\n",
       "\t 1 & 665098 & A & G & -0.0315 & 0.3587 & 0.1262 & 0.9301 & chr1:665098:G:A & G & ⋯ & 0 & 1 & rs114979547 & 1 & 665098 & chr1:665098:G:A & 0.3587 & -0.0315 & 0.9301 & rs114979547\\\\\n",
       "\t 1 & 665115 & C & G &  0.0437 & 0.2225 & 0.0632 & 0.8443 & chr1:665115:G:C & G & ⋯ & 0 & 1 & rs147241137 & 1 & 665115 & chr1:665115:G:C & 0.2225 &  0.0437 & 0.8443 & rs147241137\\\\\n",
       "\\end{tabular}\n"
      ],
      "text/markdown": [
       "\n",
       "A data.table: 6 × 23\n",
       "\n",
       "| chromosome &lt;chr&gt; | base_pair_location &lt;int&gt; | effect_allele &lt;chr&gt; | other_allele &lt;chr&gt; | beta &lt;dbl&gt; | standard_error &lt;dbl&gt; | effect_allele_frequency &lt;dbl&gt; | p_value &lt;dbl&gt; | variant_id &lt;chr&gt; | ref_allele &lt;chr&gt; | ⋯ ⋯ | HetDf &lt;int&gt; | HetPVal &lt;dbl&gt; | rsid &lt;chr&gt; | CHR &lt;chr&gt; | BP &lt;int&gt; | MarkerName &lt;chr&gt; | StdErr &lt;dbl&gt; | Effect &lt;dbl&gt; | P-value &lt;dbl&gt; | ID &lt;chr&gt; |\n",
       "|---|---|---|---|---|---|---|---|---|---|---|---|---|---|---|---|---|---|---|---|---|\n",
       "| 1 |  66861 | T | C | -0.1072 | 0.4023 | 0.0724 | 0.7899 | chr1:66861:C:T  | C | ⋯ | 0 | 1 | rs28375825  | 1 |  66861 | chr1:66861:C:T  | 0.4023 | -0.1072 | 0.7899 | rs28375825  |\n",
       "| 1 |  80346 | C | G |  0.4608 | 0.3456 | 0.8338 | 0.1824 | chr1:80346:C:G  | C | ⋯ | 0 | 1 | rs376665626 | 1 |  80346 | chr1:80346:C:G  | 0.3456 |  0.4608 | 0.1824 | rs376665626 |\n",
       "| 1 | 595259 | A | G | -0.0456 | 0.4097 | 0.0597 | 0.9114 | chr1:595259:G:A | G | ⋯ | 0 | 1 | rs201764041 | 1 | 595259 | chr1:595259:G:A | 0.4097 | -0.0456 | 0.9114 | rs201764041 |\n",
       "| 1 | 664938 | A | G | -0.1109 | 0.2264 | 0.9390 | 0.6242 | chr1:664938:A:G | A | ⋯ | 0 | 1 | rs536144132 | 1 | 664938 | chr1:664938:A:G | 0.2264 | -0.1109 | 0.6242 | rs536144132 |\n",
       "| 1 | 665098 | A | G | -0.0315 | 0.3587 | 0.1262 | 0.9301 | chr1:665098:G:A | G | ⋯ | 0 | 1 | rs114979547 | 1 | 665098 | chr1:665098:G:A | 0.3587 | -0.0315 | 0.9301 | rs114979547 |\n",
       "| 1 | 665115 | C | G |  0.0437 | 0.2225 | 0.0632 | 0.8443 | chr1:665115:G:C | G | ⋯ | 0 | 1 | rs147241137 | 1 | 665115 | chr1:665115:G:C | 0.2225 |  0.0437 | 0.8443 | rs147241137 |\n",
       "\n"
      ],
      "text/plain": [
       "  chromosome base_pair_location effect_allele other_allele beta   \n",
       "1 1           66861             T             C            -0.1072\n",
       "2 1           80346             C             G             0.4608\n",
       "3 1          595259             A             G            -0.0456\n",
       "4 1          664938             A             G            -0.1109\n",
       "5 1          665098             A             G            -0.0315\n",
       "6 1          665115             C             G             0.0437\n",
       "  standard_error effect_allele_frequency p_value variant_id      ref_allele ⋯\n",
       "1 0.4023         0.0724                  0.7899  chr1:66861:C:T  C          ⋯\n",
       "2 0.3456         0.8338                  0.1824  chr1:80346:C:G  C          ⋯\n",
       "3 0.4097         0.0597                  0.9114  chr1:595259:G:A G          ⋯\n",
       "4 0.2264         0.9390                  0.6242  chr1:664938:A:G A          ⋯\n",
       "5 0.3587         0.1262                  0.9301  chr1:665098:G:A G          ⋯\n",
       "6 0.2225         0.0632                  0.8443  chr1:665115:G:C G          ⋯\n",
       "  HetDf HetPVal rsid        CHR BP     MarkerName      StdErr Effect  P-value\n",
       "1 0     1       rs28375825  1    66861 chr1:66861:C:T  0.4023 -0.1072 0.7899 \n",
       "2 0     1       rs376665626 1    80346 chr1:80346:C:G  0.3456  0.4608 0.1824 \n",
       "3 0     1       rs201764041 1   595259 chr1:595259:G:A 0.4097 -0.0456 0.9114 \n",
       "4 0     1       rs536144132 1   664938 chr1:664938:A:G 0.2264 -0.1109 0.6242 \n",
       "5 0     1       rs114979547 1   665098 chr1:665098:G:A 0.3587 -0.0315 0.9301 \n",
       "6 0     1       rs147241137 1   665115 chr1:665115:G:C 0.2225  0.0437 0.8443 \n",
       "  ID         \n",
       "1 rs28375825 \n",
       "2 rs376665626\n",
       "3 rs201764041\n",
       "4 rs536144132\n",
       "5 rs114979547\n",
       "6 rs147241137"
      ]
     },
     "metadata": {},
     "output_type": "display_data"
    }
   ],
   "source": [
    "head(df0)"
   ]
  },
  {
   "cell_type": "code",
   "execution_count": 63,
   "id": "a5866442-d84e-4019-a329-9bc88a2a3807",
   "metadata": {
    "vscode": {
     "languageId": "r"
    }
   },
   "outputs": [],
   "source": [
    "## EXTRACT CHRS\n",
    "# Chromosome 1: 155,234,452 - 155,244,627\n",
    "GBA1_sumstats = subset(df0, CHR==1 & BP > 155234452 & BP< 155244627)\n",
    "# Chromosome 6: 111,660,332-111,873,452\n",
    "FYN_sumstats = subset(df0, CHR==6 & BP > 111660332 & BP< 111873452)\n",
    "# Chromosome 12: 40,196,744-40,369,285\n",
    "LRRK2_sumstats = subset(df0, CHR==12 & BP > 40196744 & BP< 40369285)\n",
    "# Chromosome 4: 89,700,345-89,838,315\n",
    "SNCA_sumstats = subset(df0, CHR==4 & BP > 89700345 & BP< 89838315)"
   ]
  },
  {
   "cell_type": "code",
   "execution_count": 64,
   "id": "d952c48c-f5cc-49cf-8167-e3e5cec4fae1",
   "metadata": {
    "vscode": {
     "languageId": "r"
    }
   },
   "outputs": [],
   "source": [
    "## Run for genes\n",
    "genes <- c(\"GBA1\", \"FYN\", \"LRRK2\", \"SNCA\")"
   ]
  },
  {
   "cell_type": "code",
   "execution_count": 65,
   "id": "98fdf7ca-8a8b-47ee-a644-2782ed9395b3",
   "metadata": {
    "vscode": {
     "languageId": "r"
    }
   },
   "outputs": [],
   "source": [
    "for (gene in genes) {\n",
    "    # Assume gene_sumstats is a data frame with summary statistics for each gene\n",
    "    gene_sumstats <- get(paste0(gene, \"_sumstats\"))  # Get the data frame for the current gene\n",
    "    if (is.data.frame(gene_sumstats)) {\n",
    "        write_tsv(gene_sumstats, paste0(\"{WORK_DIR}/PAR/\", \"/\", gene, \"_variants_afr.tab\"))\n",
    "    } else {\n",
    "        warning(paste(\"No data frame found for\", gene))\n",
    "    }\n",
    "}"
   ]
  },
  {
   "cell_type": "code",
   "execution_count": 66,
   "id": "43aac15f-fb9c-46f3-a1fb-e3527648f3d2",
   "metadata": {
    "vscode": {
     "languageId": "r"
    }
   },
   "outputs": [],
   "source": [
    "## Run for genes\n",
    "genes <- c(\"GBA1\", \"FYN\", \"LRRK2\", \"SNCA\")"
   ]
  },
  {
   "cell_type": "code",
   "execution_count": 67,
   "id": "ddeadd5b-97c5-4858-96d8-1020b3c1f63b",
   "metadata": {
    "vscode": {
     "languageId": "r"
    }
   },
   "outputs": [],
   "source": [
    "for (gene in genes) {\n",
    "    input_file <- paste0(\"{WORK_DIR}/PAR/\", gene, \"_variants_afr.tab\")\n",
    "    output_file <- paste0(\"{WORK_DIR}/PAR/\", gene, \"_Rizig_2023_afr.csv\")\n",
    "    \n",
    "    # Read in the dataset\n",
    "    dataset1 <- fread(input_file, header = TRUE, sep = \"\\t\")\n",
    "    \n",
    "    # Remove duplicated rows based on the 'MarkerName' column\n",
    "    dataset1 <- dataset1[!duplicated(dataset1$MarkerName), ]\n",
    "    \n",
    "    # Add a new column 'StdErr_squared' by squaring 'StdErr'\n",
    "    dataset_final <- dataset1 %>% mutate(StdErr_squared = StdErr^2)\n",
    "    \n",
    "    # Select the required columns and rename them\n",
    "    output <- dataset_final[, c(\"MarkerName\", \"Effect\", \"P-value\", \"StdErr_squared\", \"ID\")]\n",
    "    colnames(output) <- c(\"SNP\", \"beta\", \"P\", \"varbeta\", \"rsID\")\n",
    "    \n",
    "    # Write the output to a CSV file\n",
    "    fwrite(output, file = output_file, na = \"NA\", quote = FALSE, row.names = FALSE, sep = \"\\t\")\n",
    "}"
   ]
  },
  {
   "cell_type": "code",
   "execution_count": 68,
   "id": "694aa4da-85ff-4fb9-bf1d-0e2670493f31",
   "metadata": {
    "vscode": {
     "languageId": "r"
    }
   },
   "outputs": [],
   "source": [
    "## Run for genes\n",
    "genes <- c(\"GBA1\", \"FYN\", \"LRRK2\", \"SNCA\")"
   ]
  },
  {
   "cell_type": "code",
   "execution_count": 69,
   "id": "fe4d20d6-08e7-40d1-8c5e-ff7b6e38d0a5",
   "metadata": {
    "vscode": {
     "languageId": "r"
    }
   },
   "outputs": [
    {
     "name": "stderr",
     "output_type": "stream",
     "text": [
      "Warning message in check_dataset(dataset, \"\"):\n",
      "“minimum p value is: 0.00011795\n",
      "If this is what you expected, this is not a problem.\n",
      "If this is not as small as you expected, please check you supplied var(beta) and not sd(beta) for the varbeta argument. If that's not the explanation, please check the 02_data vignette.”\n",
      "Warning message in check_dataset(dataset, \"\"):\n",
      "“minimum p value is: 0.0064364\n",
      "If this is what you expected, this is not a problem.\n",
      "If this is not as small as you expected, please check you supplied var(beta) and not sd(beta) for the varbeta argument. If that's not the explanation, please check the 02_data vignette.”\n"
     ]
    }
   ],
   "source": [
    "for (gene in genes) {\n",
    "    input_file <- paste0(\"{WORK_DIR}/PAR/\", gene, \"_Rizig_2023_afr.csv\")\n",
    "    output <- fread(input_file, header = TRUE, sep = \"\\t\")\n",
    "    \n",
    "    # Check if output has 0 rows\n",
    "    if (nrow(output) == 0) {\n",
    "        cat(\"No rows in output for gene: \", gene, \". Skipping...\\n\")\n",
    "        next  # Skip to the next gene in the loop\n",
    "    }\n",
    "    \n",
    "    SNP <- output$SNP\n",
    "    beta <- output$beta\n",
    "    varbeta <- output$varbeta\n",
    "    N <- 197918  # 1488 PD cases vs 197918 total (1488 cases, 196430 controls - Rizig et al 2023)\n",
    "    s <- 0.008\n",
    "    type <- 'cc'\n",
    "    \n",
    "    # Create dataset for fine-mapping\n",
    "    dataset <- list(\n",
    "        snp = SNP, \n",
    "        beta = beta, \n",
    "        varbeta = varbeta, \n",
    "        N = N, \n",
    "        s = s, \n",
    "        type = type)\n",
    "        \n",
    "    # Ensure dataset variables are numeric\n",
    "    dataset$snp <- unlist(dataset$snp)\n",
    "    dataset$beta <- unlist(dataset$beta)\n",
    "    dataset$varbeta <- unlist(dataset$varbeta)\n",
    "    \n",
    "    # Assuming finemap.abf() works with a list, otherwise convert to a data.frame\n",
    "    results <- finemap.abf(\n",
    "        dataset = dataset,\n",
    "        p1 = 1e-04  # Optional parameter for p-value threshold (can adjust based on your data)\n",
    "    )\n",
    "        \n",
    "    # Check if results has 0 rows\n",
    "    if (nrow(results) == 0) {\n",
    "        cat(\"No results returned for gene: \", gene, \". Skipping...\\n\")\n",
    "        next  # Skip to the next gene in the loop\n",
    "    }\n",
    "    \n",
    "    # Combine the results with the original output\n",
    "    combo <- cbind(results[1:(nrow(results) - 1),], output)\n",
    "    \n",
    "    # Subset results where SNP.PP > 0.2\n",
    "    hits <- subset(combo, SNP.PP > 0.2)\n",
    "    \n",
    "    # Save the results to a CSV file\n",
    "    final_output_file <- paste0(\"{WORK_DIR}/PAR/\", gene, \"_results_fine_map_Rizig_afr.csv\")\n",
    "    fwrite(combo, file = final_output_file, na = \"NA\", quote = F, row.names = F, sep = \",\")\n",
    "    }"
   ]
  },
  {
   "cell_type": "code",
   "execution_count": 76,
   "id": "3ae12c08-bfd8-4572-bce0-38ee4156a966",
   "metadata": {
    "vscode": {
     "languageId": "r"
    }
   },
   "outputs": [
    {
     "name": "stdout",
     "output_type": "stream",
     "text": [
      "          V.        z.        r.     lABF.                snp prior      SNP.PP\n",
      "1 0.00345744 -3.850340 0.9204408  5.557195 chr6:111873293:G:C 1e-04 0.022360604\n",
      "2 0.00346921 -7.629881 0.9201916 25.520453 chr1:155235878:G:T 1e-04 0.999999872\n",
      "3 0.00304704 -2.597826 0.9292160  1.811439 chr12:40296904:C:A 1e-04 0.000621984\n",
      "4 0.00310249  5.003591 0.9280206 10.301237  chr4:89837238:G:C 1e-04 0.333758744\n",
      "                 SNP    beta         P    varbeta      rsID  gene\n",
      "1 chr6:111873293:G:C -0.2264 1.174e-04 0.00345744 rs1057979   FYN\n",
      "2 chr1:155235878:G:T -0.4494 2.397e-14 0.00346921 rs3115534  GBA1\n",
      "3 chr12:40296904:C:A -0.1434 9.374e-03 0.00304704 rs7957057 LRRK2\n",
      "4  chr4:89837238:G:C  0.2787 5.722e-07 0.00310249 rs2301135  SNCA\n"
     ]
    }
   ],
   "source": [
    "# Define the directory containing the CSV files\n",
    "input_directory <- \"{WORK_DIR}/PAR/\"  # Replace with your directory path\n",
    "\n",
    "# List all files with the pattern \"results_fine_map.csv\" in the directory\n",
    "file_list <- list.files(input_directory, pattern = \"_results_fine_map_Rizig_afr.csv$\", full.names = TRUE)\n",
    "\n",
    "# Initialize an empty list to store the results\n",
    "results_list <- list()\n",
    "\n",
    "# Loop through each file\n",
    "for (file in file_list) {\n",
    "  # Extract the gene name from the file name (remove the \"_results_fine_map.csv\" suffix)\n",
    "  gene <- gsub(\"_results_fine_map_Rizig_afr\\\\.csv$\", \"\", basename(file))\n",
    "  \n",
    "  # Read the CSV file\n",
    "  data <- read.csv(file)\n",
    "  \n",
    "  # Select the SNP with the highest SNP.PP value\n",
    "  best_snp <- data %>%\n",
    "    slice_max(SNP.PP, n = 1) %>%  # Select row(s) with the max SNP.PP\n",
    "    mutate(gene = gene)           # Add the gene name\n",
    "  \n",
    "  # Append to the results list\n",
    "  results_list[[gene]] <- best_snp\n",
    "}\n",
    "\n",
    "# Combine all results into a single dataframe\n",
    "final_results <- bind_rows(results_list)\n",
    "\n",
    "# Export the results to a CSV file\n",
    "output_file <- \"top_snp_per_gene_afr.csv\"  # Desired output file name\n",
    "write.csv(final_results, output_file, row.names = FALSE)\n",
    "\n",
    "# Print the first few rows of the final results\n",
    "print(head(final_results))"
   ]
  }
 ],
 "metadata": {
  "kernelspec": {
   "display_name": "R/4.4",
   "language": "R",
   "name": "ir44"
  },
  "language_info": {
   "codemirror_mode": "r",
   "file_extension": ".r",
   "mimetype": "text/x-r-source",
   "name": "R",
   "pygments_lexer": "r",
   "version": "4.4.2"
  }
 },
 "nbformat": 4,
 "nbformat_minor": 5
}
