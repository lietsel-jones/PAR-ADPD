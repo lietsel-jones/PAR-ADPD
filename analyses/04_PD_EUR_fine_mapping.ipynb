{
 "cells": [
  {
   "cell_type": "markdown",
   "id": "49bd5d3a-8437-4946-a2dd-b6c7affa567e",
   "metadata": {},
   "source": [
    "# Fine-mapping of PD-related risk loci in European summary statistics\n",
    "* Project: Cross-ancestry PAR\n",
    "* Version: R/4.4\n",
    "* Status: Complete\n",
    "* Last Updated: 13-FEB-2025"
   ]
  },
  {
   "cell_type": "markdown",
   "id": "188a468c-2a6c-4eeb-bfb9-c821fc5c8d9b",
   "metadata": {},
   "source": [
    "## Notebook overview\n",
    "* Extract chromosome and base pair positions from summary statistics for selected loci\n",
    "* Perform fine-mapping and save results"
   ]
  },
  {
   "cell_type": "code",
   "execution_count": 21,
   "id": "a1e57727-805b-425a-bfa0-f0f220bb44c4",
   "metadata": {
    "vscode": {
     "languageId": "r"
    }
   },
   "outputs": [
    {
     "name": "stderr",
     "output_type": "stream",
     "text": [
      "Skipping install of 'coloc' from a github remote, the SHA1 (fd1c0351) has not changed since last install.\n",
      "  Use `force = TRUE` to force installation\n",
      "\n"
     ]
    }
   ],
   "source": [
    "library(\"data.table\")\n",
    "#if (!requireNamespace(\"BiocManager\", quietly = TRUE))\n",
    "#    install.packages(\"BiocManager\")\n",
    "#BiocManager::install(\"snpStats\")\n",
    "library(\"robustbase\")\n",
    "library(ggplot2)\n",
    "library(tidyr)\n",
    "devtools::install_github(\"chr1swallace/coloc\")\n",
    "library(\"coloc\")\n",
    "library(\"tidyverse\")\n",
    "library(\"readr\")"
   ]
  },
  {
   "cell_type": "code",
   "execution_count": 22,
   "id": "9367cd7f-25b1-49bb-a37d-7475a809e6be",
   "metadata": {
    "vscode": {
     "languageId": "r"
    }
   },
   "outputs": [],
   "source": [
    "## Read dataframe\n",
    "df0 <- fread(\"{WORK_DIR}/PD/summary_stats/META5_all_with_rsid_hg38.txt\", header =T)\n",
    "df0$CHR <- \tdf0$Chr"
   ]
  },
  {
   "cell_type": "code",
   "execution_count": 23,
   "id": "95011cb1-a929-4de3-8621-b0370b7cefb9",
   "metadata": {
    "vscode": {
     "languageId": "r"
    }
   },
   "outputs": [
    {
     "data": {
      "text/html": [
       "<table class=\"dataframe\">\n",
       "<caption>A data.table: 6 × 20</caption>\n",
       "<thead>\n",
       "\t<tr><th scope=col>MarkerName</th><th scope=col>Allele1</th><th scope=col>Allele2</th><th scope=col>Freq1</th><th scope=col>FreqSE</th><th scope=col>MinFreq</th><th scope=col>MaxFreq</th><th scope=col>Effect</th><th scope=col>StdErr</th><th scope=col>P-value</th><th scope=col>Direction</th><th scope=col>HetISq</th><th scope=col>HetChiSq</th><th scope=col>HetDf</th><th scope=col>HetPVal</th><th scope=col>freqSpan</th><th scope=col>ID</th><th scope=col>Chr</th><th scope=col>BP</th><th scope=col>CHR</th></tr>\n",
       "\t<tr><th scope=col>&lt;chr&gt;</th><th scope=col>&lt;chr&gt;</th><th scope=col>&lt;chr&gt;</th><th scope=col>&lt;dbl&gt;</th><th scope=col>&lt;dbl&gt;</th><th scope=col>&lt;dbl&gt;</th><th scope=col>&lt;dbl&gt;</th><th scope=col>&lt;dbl&gt;</th><th scope=col>&lt;dbl&gt;</th><th scope=col>&lt;dbl&gt;</th><th scope=col>&lt;chr&gt;</th><th scope=col>&lt;dbl&gt;</th><th scope=col>&lt;dbl&gt;</th><th scope=col>&lt;int&gt;</th><th scope=col>&lt;dbl&gt;</th><th scope=col>&lt;dbl&gt;</th><th scope=col>&lt;chr&gt;</th><th scope=col>&lt;int&gt;</th><th scope=col>&lt;int&gt;</th><th scope=col>&lt;int&gt;</th></tr>\n",
       "</thead>\n",
       "<tbody>\n",
       "\t<tr><td>chr10:98240868</td><td>a</td><td>g</td><td>0.5665</td><td>0.0067</td><td>0.5525</td><td>0.5943</td><td> 0.0110</td><td>0.0095</td><td>0.2476</td><td>+++++++-++----+-+</td><td> 0.0</td><td>15.140</td><td>16</td><td>0.5144</td><td>0.0418</td><td>rs7899632  </td><td>10</td><td>98240868</td><td>10</td></tr>\n",
       "\t<tr><td>chr10:98240888</td><td>a</td><td>c</td><td>0.7953</td><td>0.0080</td><td>0.7208</td><td>0.8111</td><td>-0.0091</td><td>0.0116</td><td>0.4295</td><td>-+++-------+-+-+-</td><td> 0.0</td><td>12.625</td><td>16</td><td>0.6999</td><td>0.0903</td><td>rs61875309 </td><td>10</td><td>98240888</td><td>10</td></tr>\n",
       "\t<tr><td>chr10:98242110</td><td>t</td><td>c</td><td>0.0140</td><td>0.0017</td><td>0.0044</td><td>0.0178</td><td>-0.0152</td><td>0.0649</td><td>0.8147</td><td>+??+--?++??+-++--</td><td> 0.0</td><td> 8.126</td><td>11</td><td>0.7019</td><td>0.0134</td><td>rs150203744</td><td>10</td><td>98242110</td><td>10</td></tr>\n",
       "\t<tr><td>chr10:98242642</td><td>a</td><td>g</td><td>0.0018</td><td>0.0005</td><td>0.0014</td><td>0.0043</td><td>-0.1331</td><td>0.1778</td><td>0.4541</td><td>-?+--?+??+??-?+??</td><td> 0.0</td><td> 4.328</td><td> 7</td><td>0.7413</td><td>0.0029</td><td>rs8181398  </td><td>10</td><td>98242642</td><td>10</td></tr>\n",
       "\t<tr><td>chr10:98242707</td><td>t</td><td>c</td><td>0.9868</td><td>0.0020</td><td>0.9792</td><td>0.9912</td><td> 0.0347</td><td>0.0742</td><td>0.6396</td><td>+???--?++??+---++</td><td> 0.0</td><td> 8.593</td><td>10</td><td>0.5711</td><td>0.0120</td><td>rs111551711</td><td>10</td><td>98242707</td><td>10</td></tr>\n",
       "\t<tr><td>chr10:98243485</td><td>t</td><td>g</td><td>0.8819</td><td>0.0069</td><td>0.8582</td><td>0.8985</td><td>-0.0011</td><td>0.0149</td><td>0.9423</td><td>+---+++-++++-++-+</td><td>10.1</td><td>17.807</td><td>16</td><td>0.3353</td><td>0.0403</td><td>rs12258651 </td><td>10</td><td>98243485</td><td>10</td></tr>\n",
       "</tbody>\n",
       "</table>\n"
      ],
      "text/latex": [
       "A data.table: 6 × 20\n",
       "\\begin{tabular}{llllllllllllllllllll}\n",
       " MarkerName & Allele1 & Allele2 & Freq1 & FreqSE & MinFreq & MaxFreq & Effect & StdErr & P-value & Direction & HetISq & HetChiSq & HetDf & HetPVal & freqSpan & ID & Chr & BP & CHR\\\\\n",
       " <chr> & <chr> & <chr> & <dbl> & <dbl> & <dbl> & <dbl> & <dbl> & <dbl> & <dbl> & <chr> & <dbl> & <dbl> & <int> & <dbl> & <dbl> & <chr> & <int> & <int> & <int>\\\\\n",
       "\\hline\n",
       "\t chr10:98240868 & a & g & 0.5665 & 0.0067 & 0.5525 & 0.5943 &  0.0110 & 0.0095 & 0.2476 & +++++++-++----+-+ &  0.0 & 15.140 & 16 & 0.5144 & 0.0418 & rs7899632   & 10 & 98240868 & 10\\\\\n",
       "\t chr10:98240888 & a & c & 0.7953 & 0.0080 & 0.7208 & 0.8111 & -0.0091 & 0.0116 & 0.4295 & -+++-------+-+-+- &  0.0 & 12.625 & 16 & 0.6999 & 0.0903 & rs61875309  & 10 & 98240888 & 10\\\\\n",
       "\t chr10:98242110 & t & c & 0.0140 & 0.0017 & 0.0044 & 0.0178 & -0.0152 & 0.0649 & 0.8147 & +??+--?++??+-++-- &  0.0 &  8.126 & 11 & 0.7019 & 0.0134 & rs150203744 & 10 & 98242110 & 10\\\\\n",
       "\t chr10:98242642 & a & g & 0.0018 & 0.0005 & 0.0014 & 0.0043 & -0.1331 & 0.1778 & 0.4541 & -?+--?+??+??-?+?? &  0.0 &  4.328 &  7 & 0.7413 & 0.0029 & rs8181398   & 10 & 98242642 & 10\\\\\n",
       "\t chr10:98242707 & t & c & 0.9868 & 0.0020 & 0.9792 & 0.9912 &  0.0347 & 0.0742 & 0.6396 & +???--?++??+---++ &  0.0 &  8.593 & 10 & 0.5711 & 0.0120 & rs111551711 & 10 & 98242707 & 10\\\\\n",
       "\t chr10:98243485 & t & g & 0.8819 & 0.0069 & 0.8582 & 0.8985 & -0.0011 & 0.0149 & 0.9423 & +---+++-++++-++-+ & 10.1 & 17.807 & 16 & 0.3353 & 0.0403 & rs12258651  & 10 & 98243485 & 10\\\\\n",
       "\\end{tabular}\n"
      ],
      "text/markdown": [
       "\n",
       "A data.table: 6 × 20\n",
       "\n",
       "| MarkerName &lt;chr&gt; | Allele1 &lt;chr&gt; | Allele2 &lt;chr&gt; | Freq1 &lt;dbl&gt; | FreqSE &lt;dbl&gt; | MinFreq &lt;dbl&gt; | MaxFreq &lt;dbl&gt; | Effect &lt;dbl&gt; | StdErr &lt;dbl&gt; | P-value &lt;dbl&gt; | Direction &lt;chr&gt; | HetISq &lt;dbl&gt; | HetChiSq &lt;dbl&gt; | HetDf &lt;int&gt; | HetPVal &lt;dbl&gt; | freqSpan &lt;dbl&gt; | ID &lt;chr&gt; | Chr &lt;int&gt; | BP &lt;int&gt; | CHR &lt;int&gt; |\n",
       "|---|---|---|---|---|---|---|---|---|---|---|---|---|---|---|---|---|---|---|---|\n",
       "| chr10:98240868 | a | g | 0.5665 | 0.0067 | 0.5525 | 0.5943 |  0.0110 | 0.0095 | 0.2476 | +++++++-++----+-+ |  0.0 | 15.140 | 16 | 0.5144 | 0.0418 | rs7899632   | 10 | 98240868 | 10 |\n",
       "| chr10:98240888 | a | c | 0.7953 | 0.0080 | 0.7208 | 0.8111 | -0.0091 | 0.0116 | 0.4295 | -+++-------+-+-+- |  0.0 | 12.625 | 16 | 0.6999 | 0.0903 | rs61875309  | 10 | 98240888 | 10 |\n",
       "| chr10:98242110 | t | c | 0.0140 | 0.0017 | 0.0044 | 0.0178 | -0.0152 | 0.0649 | 0.8147 | +??+--?++??+-++-- |  0.0 |  8.126 | 11 | 0.7019 | 0.0134 | rs150203744 | 10 | 98242110 | 10 |\n",
       "| chr10:98242642 | a | g | 0.0018 | 0.0005 | 0.0014 | 0.0043 | -0.1331 | 0.1778 | 0.4541 | -?+--?+??+??-?+?? |  0.0 |  4.328 |  7 | 0.7413 | 0.0029 | rs8181398   | 10 | 98242642 | 10 |\n",
       "| chr10:98242707 | t | c | 0.9868 | 0.0020 | 0.9792 | 0.9912 |  0.0347 | 0.0742 | 0.6396 | +???--?++??+---++ |  0.0 |  8.593 | 10 | 0.5711 | 0.0120 | rs111551711 | 10 | 98242707 | 10 |\n",
       "| chr10:98243485 | t | g | 0.8819 | 0.0069 | 0.8582 | 0.8985 | -0.0011 | 0.0149 | 0.9423 | +---+++-++++-++-+ | 10.1 | 17.807 | 16 | 0.3353 | 0.0403 | rs12258651  | 10 | 98243485 | 10 |\n",
       "\n"
      ],
      "text/plain": [
       "  MarkerName     Allele1 Allele2 Freq1  FreqSE MinFreq MaxFreq Effect  StdErr\n",
       "1 chr10:98240868 a       g       0.5665 0.0067 0.5525  0.5943   0.0110 0.0095\n",
       "2 chr10:98240888 a       c       0.7953 0.0080 0.7208  0.8111  -0.0091 0.0116\n",
       "3 chr10:98242110 t       c       0.0140 0.0017 0.0044  0.0178  -0.0152 0.0649\n",
       "4 chr10:98242642 a       g       0.0018 0.0005 0.0014  0.0043  -0.1331 0.1778\n",
       "5 chr10:98242707 t       c       0.9868 0.0020 0.9792  0.9912   0.0347 0.0742\n",
       "6 chr10:98243485 t       g       0.8819 0.0069 0.8582  0.8985  -0.0011 0.0149\n",
       "  P-value Direction         HetISq HetChiSq HetDf HetPVal freqSpan ID         \n",
       "1 0.2476  +++++++-++----+-+  0.0   15.140   16    0.5144  0.0418   rs7899632  \n",
       "2 0.4295  -+++-------+-+-+-  0.0   12.625   16    0.6999  0.0903   rs61875309 \n",
       "3 0.8147  +??+--?++??+-++--  0.0    8.126   11    0.7019  0.0134   rs150203744\n",
       "4 0.4541  -?+--?+??+??-?+??  0.0    4.328    7    0.7413  0.0029   rs8181398  \n",
       "5 0.6396  +???--?++??+---++  0.0    8.593   10    0.5711  0.0120   rs111551711\n",
       "6 0.9423  +---+++-++++-++-+ 10.1   17.807   16    0.3353  0.0403   rs12258651 \n",
       "  Chr BP       CHR\n",
       "1 10  98240868 10 \n",
       "2 10  98240888 10 \n",
       "3 10  98242110 10 \n",
       "4 10  98242642 10 \n",
       "5 10  98242707 10 \n",
       "6 10  98243485 10 "
      ]
     },
     "metadata": {},
     "output_type": "display_data"
    }
   ],
   "source": [
    "head(df0)"
   ]
  },
  {
   "cell_type": "code",
   "execution_count": 5,
   "id": "a5866442-d84e-4019-a329-9bc88a2a3807",
   "metadata": {
    "vscode": {
     "languageId": "r"
    }
   },
   "outputs": [],
   "source": [
    "## EXTRACT CHRS\n",
    "# Chromosome 18: 33,578,219-33,751,195\n",
    "ASXL3_sumstats = subset(df0, CHR==18 & BP > 33578219 & BP< 33751195)\n",
    "# Chromosome 10: 119,651,380-119,677,819\n",
    "BAG3_sumstats = subset(df0, CHR==10 & BP > 119651380 & BP< 119677819)\n",
    "# Chromosome 8: 22,620,418-22,669,148\n",
    "BIN3_sumstats = subset(df0, CHR==8 & BP > 22620418 & BP< 22669148)\n",
    "# Chromosome 17: 61,679,139-61,863,559\n",
    "BRIP1_sumstats = subset(df0, CHR==17 & BP > 61679139 & BP< 61863559)\n",
    "# Chromosome 4: 15,703,065-15,738,313\n",
    "BST1_sumstats = subset(df0, CHR==4 & BP > 15703065 & BP< 15738313)\n",
    "# Chromosome 5: 134,845,680-134,859,735\n",
    "C5orf24_sumstats = subset(df0, CHR==5 & BP > 134845680 & BP< 134859735)\n",
    "# Chromosome 13: 49,308,650-49,444,064\n",
    "CAB39L_sumstats = subset(df0, CHR==13 & BP > 49308650 & BP< 49444064)\n",
    "# Chromosome 4: 113,418,054-113,761,927\n",
    "CAMK2D_sumstats = subset(df0, CHR==4 & BP > 113418054 & BP< 113761927)\n",
    "# Chromosome 16: 52,552,084-52,652,132\n",
    "CASC16_sumstats = subset(df0, CHR==16 & BP > 52552084 & BP< 52652132)\n",
    "# Chromosome 16: 28,931,965-28,939,342\n",
    "CD19_sumstats = subset(df0, CHR==16 & BP > 28931965 & BP< 28939342)\n",
    "# Chromosome 16: 53,054,991-53,329,150\n",
    "CHD9_sumstats = subset(df0, CHR==16 & BP > 53054991 & BP< 53329150)\n",
    "# Chromosome 17: 7,445,061-7,457,710\n",
    "CHRNB1_sumstats = subset(df0, CHR==17 & BP > 7445061 & BP< 7457710)\n",
    "# Chromosome 4: 169,612,633-169,723,673\n",
    "CLCN3_sumstats = subset(df0, CHR==4 & BP > 169612633 & BP< 169723673)\n",
    "# Chromosome 17: 45,784,277-45,835,828\n",
    "CRHR1_sumstats = subset(df0, CHR==17 & BP > 45784277 & BP< 45835828)\n",
    "# Chromosome 20: 6,006,093-6,040,053\n",
    "CRLS1_sumstats = subset(df0, CHR==20 & BP > 6006093 & BP< 6040053)\n",
    "# Chromosome 8: 11,842,524-11,869,533\n",
    "CTSB_sumstats = subset(df0, CHR==8 & BP > 11842524 & BP< 11869533)\n",
    "# Chromosome 11: 83,455,012-85,628,335\n",
    "DLG2_sumstats = subset(df0, CHR==11 & BP > 83455012 & BP< 85628335)\n",
    "# Chromosome 17: 78,423,697-78,577,396\n",
    "DNAH17_sumstats = subset(df0, CHR==17 & BP > 78423697 & BP< 78577396)\n",
    "# Chromosome 21: 37,365,573-37,526,358\n",
    "DYRK1A_sumstats = subset(df0, CHR==21 & BP > 37365573 & BP< 37526358)\n",
    "# Chromosome 5: 60,751,791-60,844,274\n",
    "ELOVL7_sumstats = subset(df0, CHR==5 & BP > 60751791 & BP< 60844274)\n",
    "# Chromosome 17: 44,353,215-44,363,853\n",
    "FAM171A2_sumstats = subset(df0, CHR==17 & BP > 44353215 & BP< 44363853)\n",
    "# Chromosome 4: 76,214,040-76,283,783\n",
    "FAM47E_sumstats = subset(df0, CHR==4 & BP > 76214040 & BP< 76283783)\n",
    "# Chromosome 4: 76,251,721-76,311,129\n",
    "FAM47E_STBD1_sumstats = subset(df0, CHR==4 & BP > 76251721 & BP< 76311129)\n",
    "# Chromosome 8: 129,839,593-130,017,504\n",
    "FAM49B_sumstats = subset(df0, CHR==8 & BP > 129839593 & BP< 130017504)\n",
    "# Chromosome 12: 132,489,551-132,585,188\n",
    "FBRSL1_sumstats = subset(df0, CHR==12 & BP > 132489551 & BP< 132585188)\n",
    "# Chromosome 1: 161,505,430-161,524,013\n",
    "FCGR2A_sumstats = subset(df0, CHR==1 & BP > 161505430 & BP< 161524013)\n",
    "# Chromosome 8: 16,992,181-17,002,345\n",
    "FGF20_sumstats = subset(df0, CHR==8 & BP > 16992181 & BP< 17002345)\n",
    "# Chromosome 6: 111,660,332-111,873,452\n",
    "FYN_sumstats = subset(df0, CHR==6 & BP > 111660332 & BP< 111873452)\n",
    "# Chromosome 4: 849,276-932,373\n",
    "GAK_sumstats = subset(df0, CHR==4 & BP > 849276 & BP< 932373)\n",
    "# Chromosome 14: 87,837,820-87,993,665\n",
    "GALC_sumstats = subset(df0, CHR==14 & BP > 87837820 & BP< 87993665)\n",
    "# Chromosome 1: 155,214,368-155,218,874\n",
    "GBAP1_sumstats = subset(df0, CHR==1 & BP > 155214368 & BP< 155218874)\n",
    "# Chromosome 10: 102,245,371-102,382,899\n",
    "GBF1_sumstats = subset(df0, CHR==10 & BP > 102245371 & BP< 102382899)\n",
    "# Chromosome 14: 54,842,008-54,902,826\n",
    "GCH1_sumstats = subset(df0, CHR==14 & BP > 54842008 & BP< 54902826)\n",
    "# Chromosome 7: 23,235,967-23,275,108\n",
    "GPNMB_sumstats = subset(df0, CHR==7 & BP > 23235967 & BP< 23275108)\n",
    "# Chromosome 7: 66530305 - 66592407\n",
    "GS1_124K5_11_sumstats = subset(df0, CHR==7 & BP > 66530305 & BP< 66592407)\n",
    "# Chromosome 12: 122,834,453-122,862,961\n",
    "HIP1R_sumstats = subset(df0, CHR==12 & BP > 122834453 & BP< 122862961)\n",
    "# Chromosome 6: 32,517,353-32,530,287\n",
    "HLA_DRB5_sumstats = subset(df0, CHR==6 & BP > 32517353 & BP< 32530287)\n",
    "# Chromosome 11: 133,896,438-133,956,968\n",
    "IGSF9B_sumstats = subset(df0, CHR==11 & BP > 133896438 & BP< 133956968)\n",
    "# Chromosome 10: 119,726,042-119,829,147\n",
    "INPP5F_sumstats = subset(df0, CHR==10 & BP > 119726042 & BP< 119829147)\n",
    "# Chromosome 3: 48,688,003-48,740,353\n",
    "IP6K2_sumstats = subset(df0, CHR==3 & BP > 48688003 & BP< 48740353)\n",
    "# Chromosome 10: 15,513,954-15,719,922\n",
    "ITGA8_sumstats = subset(df0, CHR==10 & BP > 15513954 & BP< 15719922)\n",
    "# Chromosome 1: 226,631,690-226,739,323\n",
    "ITPKB_sumstats = subset(df0, CHR==1 & BP > 226631690 & BP< 226739323)\n",
    "# Chromosome 2: 95,297,327-95,386,077\n",
    "KCNIP3_sumstats = subset(df0, CHR==2 & BP > 95297327 & BP< 95386077)\n",
    "# Chromosome 2: 17,877,847-18,361,616\n",
    "KCNS3_sumstats = subset(df0, CHR==2 & BP > 17877847 & BP< 18361616)\n",
    "# Chromosome 3: 122,421,902-122,514,945 \n",
    "KPNA1_sumstats = subset(df0, CHR==3 & BP > 122421902 & BP< 122514945)\n",
    "# Chromosome 1: 155,169,408-155,173,475\n",
    "KRTCAP2_sumstats = subset(df0, CHR==1 & BP > 155169408 & BP< 155173475)\n",
    "# Chromosome 4: 17,841,187-18,021,876\n",
    "LCORL_sumstats = subset(df0, CHR==4 & BP > 17841187 & BP< 18021876)\n",
    "# Chromosome 3: 28575278 - 28758337\n",
    "LINC00693_sumstats = subset(df0, CHR==3 & BP > 28575278 & BP< 28758337)\n",
    "# Chromosome 6: 27761744 - 27763187\n",
    "LOC100131289_sumstats = subset(df0, CHR==6 & BP > 27761744 & BP< 27763187)\n",
    "# Chromosome 12: 40,196,744-40,369,285\n",
    "LRRK2_sumstats = subset(df0, CHR==12 & BP > 40196744 & BP< 40369285)\n",
    "# Chromosome 2: 101,696,850-101,894,690\n",
    "MAP4K4_sumstats = subset(df0, CHR==2 & BP > 101696850 & BP< 101894690)\n",
    "# Chromosome 13: 97,221,434-97,394,120\n",
    "MBNL2_sumstats = subset(df0, CHR==13 & BP > 97221434 & BP< 97394120)\n",
    "# Chromosome 3: 183,015,218-183,116,075\n",
    "MCCC1_sumstats = subset(df0, CHR==3 & BP > 183015218 & BP< 183116075)\n",
    "# Chromosome 3: 151,085,286-151,437,072\n",
    "MED12L_sumstats = subset(df0, CHR==3 & BP > 151085286 & BP< 151437072)\n",
    "# Chromosome 18: 51,174,550-51,218,333\n",
    "MEX3C_sumstats = subset(df0, CHR==18 & BP > 51174550 & BP< 51218333)\n",
    "# Chromosome 14: 37,197,894-37,579,125\n",
    "MIPOL1_sumstats = subset(df0, CHR==14 & BP > 37197894 & BP< 37579125)\n",
    "# Chromosome 16: 50,693,588-50,733,077\n",
    "NOD2_sumstats = subset(df0, CHR==16 & BP > 50693588 & BP< 50733077)\n",
    "# Chromosome 1: 205,712,822-205,750,182\n",
    "NUCKS1_sumstats = subset(df0, CHR==1 & BP > 205712822 & BP< 205750182)\n",
    "# Chromosome 5: 102,753,981-103,029,730\n",
    "PAM_sumstats = subset(df0, CHR==5 & BP > 102753981 & BP< 103029730)\n",
    "# Chromosome 1: 154,924,740-154,936,719\n",
    "PMVK_sumstats = subset(df0, CHR==1 & BP > 154924740 & BP< 154936719)\n",
    "# Chromosome 1: 205,767,986-205,775,482\n",
    "RAB29_sumstats = subset(df0, CHR==1 & BP > 205767986 & BP< 205775482)\n",
    "# Chromosome 17: 42,579,513-42,610,623\n",
    "RETREG3_sumstats = subset(df0, CHR==17 & BP > 42579513 & BP< 42610623)\n",
    "# Chromosome 6: 71,886,550-72,403,150\n",
    "RIMS1_sumstats = subset(df0, CHR==6 & BP > 71886550 & BP< 72403150)\n",
    "# Chromosome 18: 42,743,227-43,115,691\n",
    "RIT2_sumstats = subset(df0, CHR==18 & BP > 42743227 & BP< 43115691)\n",
    "# Chromosome 11: 10,511,673-10,541,230\n",
    "RNF141_sumstats = subset(df0, CHR==11 & BP > 10511673 & BP< 10541230)\n",
    "# Chromosome 6: 132,814,569-132,817,564\n",
    "RPS12_sumstats = subset(df0, CHR==6 & BP > 132814569 & BP< 132817564)\n",
    "# Chromosome 14: 74,903,951-74,923,302\n",
    "RPS6KL1_sumstats = subset(df0, CHR==14 & BP > 74903951 & BP< 74923302)\n",
    "# Chromosome 3: 18,345,377-18,445,621\n",
    "SATB1_sumstats = subset(df0, CHR==3 & BP > 18345377 & BP< 18445621)\n",
    "# Chromosome 12: 45,919,131-45,992,120\n",
    "SCAF11_sumstats = subset(df0, CHR==12 & BP > 45919131 & BP< 45992120)\n",
    "# Chromosome 4: 76,158,737-76,234,536\n",
    "SCARB2_sumstats = subset(df0, CHR==4 & BP > 76158737 & BP< 76234536)\n",
    "# Chromosome 16: 30,957,294-30,984,664\n",
    "SETD1A_sumstats = subset(df0, CHR==16 & BP > 30957294 & BP< 30984664)\n",
    "# Chromosome 9: 17,579,066-17,797,124\n",
    "SH3GL2_sumstats = subset(df0, CHR==9 & BP > 17579066 & BP< 17797124)\n",
    "# Chromosome 1: 232,397,965-232,630,571\n",
    "SIPA1L2_sumstats = subset(df0, CHR==1 & BP > 232397965 & BP< 232630571)\n",
    "# Chromosome 4: 89,700,345-89,838,315\n",
    "SNCA_sumstats = subset(df0, CHR==4 & BP > 89700345 & BP< 89838315)\n",
    "# Chromosome 19: 2,328,615-2,355,095\n",
    "SPPL2B_sumstats = subset(df0, CHR==19 & BP > 2328615 & BP< 2355095)\n",
    "# Chromosome 3: 161,344,798-161,372,880\n",
    "SPTSSB_sumstats = subset(df0, CHR==3 & BP > 161344798 & BP< 161372880)\n",
    "# Chromosome 2: 167,954,020-168,247,595\n",
    "STK39_sumstats = subset(df0, CHR==2 & BP > 167954020 & BP< 168247595)\n",
    "# Chromosome 16: 19,167,971-19,268,332\n",
    "SYT17_sumstats = subset(df0, CHR==16 & BP > 19167971 & BP< 19268332)\n",
    "# Chromosome 2: 134,455,759-134,719,000\n",
    "TMEM163_sumstats = subset(df0, CHR==2 & BP > 134455759 & BP< 134719000)\n",
    "# Chromosome 4: 932,387-958,656\n",
    "TMEM175_sumstats = subset(df0, CHR==4 & BP > 932387 & BP< 958656)\n",
    "# Chromosome 6: 30,136,124-30,148,735\n",
    "TRIM40_sumstats = subset(df0, CHR==6 & BP > 30136124 & BP< 30148735)\n",
    "# Chromosome 9: 33,921,693-34,049,388\n",
    "UBAP2_sumstats = subset(df0, CHR==9 & BP > 33921693 & BP< 34049388)\n",
    "# Chromosome 17: 44,205,033-44,221,626\n",
    "UBTF_sumstats = subset(df0, CHR==17 & BP > 44205033 & BP< 44221626)\n",
    "# Chromosome 1: 171,700,160-171,742,074\n",
    "VAMP4_sumstats = subset(df0, CHR==1 & BP > 171700160 & BP< 171742074)\n",
    "# Chromosome 15: 61,852,389-62,060,473\n",
    "VPS13C_sumstats = subset(df0, CHR==15 & BP > 61852389 & BP< 62060473)\n",
    "# Chromosome 17: 46,762,506-46,833,154\n",
    "WNT3_sumstats = subset(df0, CHR==17 & BP > 46762506 & BP< 46833154)"
   ]
  },
  {
   "cell_type": "code",
   "execution_count": 6,
   "id": "d952c48c-f5cc-49cf-8167-e3e5cec4fae1",
   "metadata": {
    "vscode": {
     "languageId": "r"
    }
   },
   "outputs": [],
   "source": [
    "## Run for genes\n",
    "genes <- c(\"ASXL3\",\"BAG3\",\"BIN3\",\"BRIP1\",\"BST1\",\"C5orf24\",\"CAB39L\",\"CAMK2D\",\"CASC16\",\"CD19\",\"CHD9\",\"CHRNB1\",\"CLCN3\",\"CRHR1\",\"CRLS1\",\"CTSB\",\"DLG2\",\"DNAH17\",\"DYRK1A\",\"ELOVL7\",\"FAM171A2\",\"FAM47E\",\"FAM47E_STBD1\",\"FAM49B\",\"FBRSL1\",\"FCGR2A\",\"FGF20\",\"FYN\",\"GAK\",\"GALC\",\"GBAP1\",\"GBF1\",\"GCH1\",\"GPNMB\",\"GS1_124K5_11\",\"HIP1R\",\"HLA_DRB5\",\"IGSF9B\",\"INPP5F\",\"IP6K2\",\"ITGA8\",\"ITPKB\",\"KCNIP3\",\"KCNS3\",\"KPNA1\",\"KRTCAP2\",\"LCORL\",\"LINC00693\",\"LOC100131289\",\"LRRK2\",\"MAP4K4\",\"MBNL2\",\"MCCC1\",\"MED12L\",\"MEX3C\",\"MIPOL1\",\"NOD2\",\"NUCKS1\",\"PAM\",\"PMVK\",\"RAB29\",\"RETREG3\",\"RIMS1\",\"RIT2\",\"RNF141\",\"RPS12\",\"RPS6KL1\",\"SATB1\",\"SCAF11\",\"SCARB2\",\"SETD1A\",\"SH3GL2\",\"SIPA1L2\",\"SNCA\",\"SPPL2B\",\"SPTSSB\",\"STK39\",\"SYT17\",\"TMEM163\",\"TMEM175\",\"TRIM40\",\"UBAP2\",\"UBTF\",\"VAMP4\",\"VPS13C\",\"WNT3\")"
   ]
  },
  {
   "cell_type": "code",
   "execution_count": 8,
   "id": "98fdf7ca-8a8b-47ee-a644-2782ed9395b3",
   "metadata": {
    "vscode": {
     "languageId": "r"
    }
   },
   "outputs": [],
   "source": [
    "for (gene in genes) {\n",
    "    # Assume gene_sumstats is a data frame with summary statistics for each gene\n",
    "    gene_sumstats <- get(paste0(gene, \"_sumstats\"))  # Get the data frame for the current gene\n",
    "    if (is.data.frame(gene_sumstats)) {\n",
    "        write_tsv(gene_sumstats, paste0(\"{WORK_DIR}/PAR/\", \"/\", gene, \"_variants.tab\"))\n",
    "    } else {\n",
    "        warning(paste(\"No data frame found for\", gene))\n",
    "    }\n",
    "}"
   ]
  },
  {
   "cell_type": "code",
   "execution_count": 9,
   "id": "43aac15f-fb9c-46f3-a1fb-e3527648f3d2",
   "metadata": {
    "vscode": {
     "languageId": "r"
    }
   },
   "outputs": [],
   "source": [
    "## Run for genes\n",
    "genes <- c(\"ASXL3\",\"BAG3\",\"BIN3\",\"BRIP1\",\"BST1\",\"C5orf24\",\"CAB39L\",\"CAMK2D\",\"CASC16\",\"CD19\",\"CHD9\",\"CHRNB1\",\"CLCN3\",\"CRHR1\",\"CRLS1\",\"CTSB\",\"DLG2\",\"DNAH17\",\"DYRK1A\",\"ELOVL7\",\"FAM171A2\",\"FAM47E\",\"FAM47E_STBD1\",\"FAM49B\",\"FBRSL1\",\"FCGR2A\",\"FGF20\",\"FYN\",\"GAK\",\"GALC\",\"GBAP1\",\"GBF1\",\"GCH1\",\"GPNMB\",\"GS1_124K5_11\",\"HIP1R\",\"HLA_DRB5\",\"IGSF9B\",\"INPP5F\",\"IP6K2\",\"ITGA8\",\"ITPKB\",\"KCNIP3\",\"KCNS3\",\"KPNA1\",\"KRTCAP2\",\"LCORL\",\"LINC00693\",\"LOC100131289\",\"LRRK2\",\"MAP4K4\",\"MBNL2\",\"MCCC1\",\"MED12L\",\"MEX3C\",\"MIPOL1\",\"NOD2\",\"NUCKS1\",\"PAM\",\"PMVK\",\"RAB29\",\"RETREG3\",\"RIMS1\",\"RIT2\",\"RNF141\",\"RPS12\",\"RPS6KL1\",\"SATB1\",\"SCAF11\",\"SCARB2\",\"SETD1A\",\"SH3GL2\",\"SIPA1L2\",\"SNCA\",\"SPPL2B\",\"SPTSSB\",\"STK39\",\"SYT17\",\"TMEM163\",\"TMEM175\",\"TRIM40\",\"UBAP2\",\"UBTF\",\"VAMP4\",\"VPS13C\",\"WNT3\")"
   ]
  },
  {
   "cell_type": "code",
   "execution_count": 10,
   "id": "ddeadd5b-97c5-4858-96d8-1020b3c1f63b",
   "metadata": {
    "vscode": {
     "languageId": "r"
    }
   },
   "outputs": [],
   "source": [
    "for (gene in genes) {\n",
    "    input_file <- paste0(\"{WORK_DIR}/PAR/\", gene, \"_variants.tab\")\n",
    "    output_file <- paste0(\"{WORK_DIR}/PAR/\", gene, \"_Nalls_2019.csv\")\n",
    "    \n",
    "    # Read in the dataset\n",
    "    dataset1 <- fread(input_file, header = TRUE, sep = \"\\t\")\n",
    "    \n",
    "    # Remove duplicated rows based on the 'MarkerName' column\n",
    "    dataset1 <- dataset1[!duplicated(dataset1$MarkerName), ]\n",
    "    \n",
    "    # Add a new column 'StdErr_squared' by squaring 'StdErr'\n",
    "    dataset_final <- dataset1 %>% mutate(StdErr_squared = StdErr^2)\n",
    "    \n",
    "    # Select the required columns and rename them\n",
    "    output <- dataset_final[, c(\"ID\", \"Effect\", \"P-value\", \"StdErr_squared\")]\n",
    "    colnames(output) <- c(\"SNP\", \"beta\", \"P\", \"varbeta\")\n",
    "    \n",
    "    # Write the output to a CSV file\n",
    "    fwrite(output, file = output_file, na = \"NA\", quote = FALSE, row.names = FALSE, sep = \"\\t\")\n",
    "}"
   ]
  },
  {
   "cell_type": "code",
   "execution_count": 11,
   "id": "694aa4da-85ff-4fb9-bf1d-0e2670493f31",
   "metadata": {
    "vscode": {
     "languageId": "r"
    }
   },
   "outputs": [],
   "source": [
    "## Run for genes\n",
    "genes <- c(\"ASXL3\",\"BAG3\",\"BIN3\",\"BRIP1\",\"BST1\",\"C5orf24\",\"CAB39L\",\"CAMK2D\",\"CASC16\",\"CD19\",\"CHD9\",\"CHRNB1\",\"CLCN3\",\"CRHR1\",\"CRLS1\",\"CTSB\",\"DLG2\",\"DNAH17\",\"DYRK1A\",\"ELOVL7\",\"FAM171A2\",\"FAM47E\",\"FAM47E_STBD1\",\"FAM49B\",\"FBRSL1\",\"FCGR2A\",\"FGF20\",\"FYN\",\"GAK\",\"GALC\",\"GBAP1\",\"GBF1\",\"GCH1\",\"GPNMB\",\"GS1_124K5_11\",\"HIP1R\",\"HLA_DRB5\",\"IGSF9B\",\"INPP5F\",\"IP6K2\",\"ITGA8\",\"ITPKB\",\"KCNIP3\",\"KCNS3\",\"KPNA1\",\"KRTCAP2\",\"LCORL\",\"LINC00693\",\"LOC100131289\",\"LRRK2\",\"MAP4K4\",\"MBNL2\",\"MCCC1\",\"MED12L\",\"MEX3C\",\"MIPOL1\",\"NOD2\",\"NUCKS1\",\"PAM\",\"PMVK\",\"RAB29\",\"RETREG3\",\"RIMS1\",\"RIT2\",\"RNF141\",\"RPS12\",\"RPS6KL1\",\"SATB1\",\"SCAF11\",\"SCARB2\",\"SETD1A\",\"SH3GL2\",\"SIPA1L2\",\"SNCA\",\"SPPL2B\",\"SPTSSB\",\"STK39\",\"SYT17\",\"TMEM163\",\"TMEM175\",\"TRIM40\",\"UBAP2\",\"UBTF\",\"VAMP4\",\"VPS13C\",\"WNT3\")"
   ]
  },
  {
   "cell_type": "code",
   "execution_count": 14,
   "id": "fe4d20d6-08e7-40d1-8c5e-ff7b6e38d0a5",
   "metadata": {
    "vscode": {
     "languageId": "r"
    }
   },
   "outputs": [
    {
     "name": "stderr",
     "output_type": "stream",
     "text": [
      "Warning message in check_dataset(dataset, \"\"):\n",
      "“minimum p value is: 0.00058867\n",
      "If this is what you expected, this is not a problem.\n",
      "If this is not as small as you expected, please check you supplied var(beta) and not sd(beta) for the varbeta argument. If that's not the explanation, please check the 02_data vignette.”\n",
      "Warning message in check_dataset(dataset, \"\"):\n",
      "“minimum p value is: 0.015375\n",
      "If this is what you expected, this is not a problem.\n",
      "If this is not as small as you expected, please check you supplied var(beta) and not sd(beta) for the varbeta argument. If that's not the explanation, please check the 02_data vignette.”\n",
      "Warning message in check_dataset(dataset, \"\"):\n",
      "“minimum p value is: 0.019274\n",
      "If this is what you expected, this is not a problem.\n",
      "If this is not as small as you expected, please check you supplied var(beta) and not sd(beta) for the varbeta argument. If that's not the explanation, please check the 02_data vignette.”\n",
      "Warning message in check_dataset(dataset, \"\"):\n",
      "“minimum p value is: 0.08461\n",
      "If this is what you expected, this is not a problem.\n",
      "If this is not as small as you expected, please check you supplied var(beta) and not sd(beta) for the varbeta argument. If that's not the explanation, please check the 02_data vignette.”\n",
      "Warning message in check_dataset(dataset, \"\"):\n",
      "“minimum p value is: 0.53834\n",
      "If this is what you expected, this is not a problem.\n",
      "If this is not as small as you expected, please check you supplied var(beta) and not sd(beta) for the varbeta argument. If that's not the explanation, please check the 02_data vignette.”\n",
      "Warning message in check_dataset(dataset, \"\"):\n",
      "“minimum p value is: 0.042158\n",
      "If this is what you expected, this is not a problem.\n",
      "If this is not as small as you expected, please check you supplied var(beta) and not sd(beta) for the varbeta argument. If that's not the explanation, please check the 02_data vignette.”\n",
      "Warning message in check_dataset(dataset, \"\"):\n",
      "“minimum p value is: 1.3177e-05\n",
      "If this is what you expected, this is not a problem.\n",
      "If this is not as small as you expected, please check you supplied var(beta) and not sd(beta) for the varbeta argument. If that's not the explanation, please check the 02_data vignette.”\n",
      "Warning message in check_dataset(dataset, \"\"):\n",
      "“minimum p value is: 0.01684\n",
      "If this is what you expected, this is not a problem.\n",
      "If this is not as small as you expected, please check you supplied var(beta) and not sd(beta) for the varbeta argument. If that's not the explanation, please check the 02_data vignette.”\n",
      "Warning message in check_dataset(dataset, \"\"):\n",
      "“minimum p value is: 0.00021586\n",
      "If this is what you expected, this is not a problem.\n",
      "If this is not as small as you expected, please check you supplied var(beta) and not sd(beta) for the varbeta argument. If that's not the explanation, please check the 02_data vignette.”\n"
     ]
    }
   ],
   "source": [
    "for (gene in genes) {\n",
    "    input_file <- paste0(\"{WORK_DIR}/PAR/\", gene, \"_Nalls_2019.csv\")\n",
    "    output <- fread(input_file, header = TRUE, sep = \"\\t\")\n",
    "    \n",
    "    # Check if output has 0 rows\n",
    "    if (nrow(output) == 0) {\n",
    "        cat(\"No rows in output for gene: \", gene, \". Skipping...\\n\")\n",
    "        next  # Skip to the next gene in the loop\n",
    "    }\n",
    "    \n",
    "    SNP <- output$SNP\n",
    "    beta <- output$beta\n",
    "    varbeta <- output$varbeta\n",
    "    N <- 1474097  # 37688 PD cases vs 1,474,097 total (37,688 cases, 18,618 UKB proxy-cases and 1,417,791 controls - Nalls et al 2019)\n",
    "    s <- 0.038\n",
    "    type <- 'cc'\n",
    "    \n",
    "    # Create dataset for fine-mapping\n",
    "    dataset <- list(\n",
    "        snp = SNP, \n",
    "        beta = beta, \n",
    "        varbeta = varbeta, \n",
    "        N = N, \n",
    "        s = s, \n",
    "        type = type)\n",
    "        \n",
    "    # Ensure dataset variables are numeric\n",
    "    dataset$snp <- unlist(dataset$snp)\n",
    "    dataset$beta <- unlist(dataset$beta)\n",
    "    dataset$varbeta <- unlist(dataset$varbeta)\n",
    "    \n",
    "    # Assuming finemap.abf() works with a list, otherwise convert to a data.frame\n",
    "    results <- finemap.abf(\n",
    "        dataset = dataset,\n",
    "        p1 = 1e-04  # Optional parameter for p-value threshold (can adjust based on your data)\n",
    "    )\n",
    "        \n",
    "    # Check if results has 0 rows\n",
    "    if (nrow(results) == 0) {\n",
    "        cat(\"No results returned for gene: \", gene, \". Skipping...\\n\")\n",
    "        next  # Skip to the next gene in the loop\n",
    "    }\n",
    "    \n",
    "    # Combine the results with the original output\n",
    "    combo <- cbind(results[1:(nrow(results) - 1),], output)\n",
    "    \n",
    "    # Subset results where SNP.PP > 0.2\n",
    "    hits <- subset(combo, SNP.PP > 0.2)\n",
    "    \n",
    "    # Save the results to a CSV file\n",
    "    final_output_file <- paste0(\"{WORK_DIR}/PAR/\", gene, \"_results_fine_map_Nalls.csv\")\n",
    "    fwrite(combo, file = final_output_file, na = \"NA\", quote = F, row.names = F, sep = \",\")\n",
    "    }"
   ]
  },
  {
   "cell_type": "code",
   "execution_count": 20,
   "id": "ca685dbe-b88a-48e7-b170-016eb6f1294d",
   "metadata": {
    "vscode": {
     "languageId": "r"
    }
   },
   "outputs": [
    {
     "name": "stdout",
     "output_type": "stream",
     "text": [
      "          V.        z.        r.     lABF.         snp prior      SNP.PP\n",
      "1 0.00008836  5.648936 0.9977959 12.861362   rs1941685 1e-04 0.240894448\n",
      "2 0.00192721  9.457859 0.9540344 41.129778 rs144814361 1e-04 0.999999944\n",
      "3 0.00009604  5.673469 0.9976048 13.038444   rs2280104 1e-04 0.275087369\n",
      "4 0.00017956  6.119403 0.9955311 15.934570  rs61169879 1e-04 0.274200364\n",
      "5 0.00008836 11.010638 0.9977959 57.424759   rs4698412 1e-04 0.387052888\n",
      "6 0.00121104  3.436782 0.9706137  3.968573 rs116661206 1e-04 0.005269649\n",
      "          SNP   beta         P    varbeta    gene\n",
      "1   rs1941685 0.0531 1.689e-08 0.00008836   ASXL3\n",
      "2 rs144814361 0.4152 3.267e-21 0.00192721    BAG3\n",
      "3   rs2280104 0.0556 1.164e-08 0.00009604    BIN3\n",
      "4  rs61169879 0.0820 9.276e-10 0.00017956   BRIP1\n",
      "5   rs4698412 0.1035 2.058e-28 0.00008836    BST1\n",
      "6 rs116661206 0.1196 5.872e-04 0.00121104 C5orf24\n"
     ]
    }
   ],
   "source": [
    "# Define the directory containing the CSV files\n",
    "input_directory <- \"{WORK_DIR}/PAR/\"  # Replace with your directory path\n",
    "\n",
    "# List all files with the pattern \"results_fine_map.csv\" in the directory\n",
    "file_list <- list.files(input_directory, pattern = \"_results_fine_map_Nalls.csv$\", full.names = TRUE)\n",
    "\n",
    "# Initialize an empty list to store the results\n",
    "results_list <- list()\n",
    "\n",
    "# Loop through each file\n",
    "for (file in file_list) {\n",
    "  # Extract the gene name from the file name (remove the \"_results_fine_map.csv\" suffix)\n",
    "  gene <- gsub(\"_results_fine_map_Nalls\\\\.csv$\", \"\", basename(file))\n",
    "  \n",
    "  # Read the CSV file\n",
    "  data <- read.csv(file)\n",
    "  \n",
    "  # Select the SNP with the highest SNP.PP value\n",
    "  best_snp <- data %>%\n",
    "    slice_max(SNP.PP, n = 1) %>%  # Select row(s) with the max SNP.PP\n",
    "    mutate(gene = gene)           # Add the gene name\n",
    "  \n",
    "  # Append to the results list\n",
    "  results_list[[gene]] <- best_snp\n",
    "}\n",
    "\n",
    "# Combine all results into a single dataframe\n",
    "final_results <- bind_rows(results_list)\n",
    "\n",
    "# Export the results to a CSV file\n",
    "output_file <- \"top_snp_per_gene_eur.csv\"  # Desired output file name\n",
    "write.csv(final_results, output_file, row.names = FALSE)\n",
    "\n",
    "# Print the first few rows of the final results\n",
    "print(head(final_results))"
   ]
  },
  {
   "cell_type": "code",
   "execution_count": null,
   "id": "f62d04fb-2b81-4164-8131-9db2f5047ae1",
   "metadata": {
    "vscode": {
     "languageId": "r"
    }
   },
   "outputs": [],
   "source": []
  }
 ],
 "metadata": {
  "kernelspec": {
   "display_name": "R/4.4",
   "language": "R",
   "name": "ir44"
  },
  "language_info": {
   "codemirror_mode": "r",
   "file_extension": ".r",
   "mimetype": "text/x-r-source",
   "name": "R",
   "pygments_lexer": "r",
   "version": "4.4.2"
  }
 },
 "nbformat": 4,
 "nbformat_minor": 5
}
